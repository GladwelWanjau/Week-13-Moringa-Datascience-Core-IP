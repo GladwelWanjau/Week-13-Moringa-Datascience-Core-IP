{
  "nbformat": 4,
  "nbformat_minor": 0,
  "metadata": {
    "colab": {
      "name": "Week_13_IP_Part_2",
      "provenance": [],
      "collapsed_sections": [],
      "toc_visible": true,
      "authorship_tag": "ABX9TyPMsbQrqWzgdjQY00H0twd1",
      "include_colab_link": true
    },
    "kernelspec": {
      "name": "python3",
      "display_name": "Python 3"
    }
  },
  "cells": [
    {
      "cell_type": "markdown",
      "metadata": {
        "id": "view-in-github",
        "colab_type": "text"
      },
      "source": [
        "<a href=\"https://colab.research.google.com/github/GladwelWanjau/Week-13-Moringa-Datascience-Core-IP/blob/main/Week_13_IP_Part_2.ipynb\" target=\"_parent\"><img src=\"https://colab.research.google.com/assets/colab-badge.svg\" alt=\"Open In Colab\"/></a>"
      ]
    },
    {
      "cell_type": "markdown",
      "metadata": {
        "id": "yW1z_TEgs4ft"
      },
      "source": [
        "# Research Problem\n",
        "The research problem in this project is to find out the customer behaviours of Kila Plastinina;a Russian brand based on the data provided on the customers browsing behaviours which will inform the marketing and sales strategies to be taken by the brand."
      ]
    },
    {
      "cell_type": "markdown",
      "metadata": {
        "id": "rJ1_XO4stl_l"
      },
      "source": [
        "# Understanding the Context\n",
        "Kira Plastinina is a Russian fashion designer and entrepreneur. Her brand was sold through a now defunct chain of eponymous retail stores in Russia, Ukraine, Kazakhstan, Belarus, China, Philippines[1] and Armenia.[2]\n",
        "\n",
        "Plastinina was born in Moscow. Her father, Sergei Plastinin, founded Wimm-Bill-Dann Foods OJSC in 1992 and served as its Chief Executive Officer until April 3, 2006. He was impressed with his daughter's passion for design and vision of teenage fashion, and suggested that they launch a fashion brand together. In 2007, the first Kira Plastinina store opened in Moscow, Plastinina introduced her first collection and became one of the youngest fashion designers in the world. Since then, the company has opened over 300 stores in Russia and CIS. In 2008, the Company made an unsuccessful attempt to enter the U.S. market. The U.S. entity eventually filed for bankruptcy. "
      ]
    },
    {
      "cell_type": "markdown",
      "metadata": {
        "id": "raIYXcfnt91B"
      },
      "source": [
        "# Data Relevance \n",
        "The data availed indicates the customer behaviours and has the following characteristics:\n",
        "\n",
        "1. The dataset consists of 10 numerical and 8 categorical attributes. The 'Revenue' attribute can be used as the class label.\n",
        "2. \"Administrative\", \"Administrative Duration\", \"Informational\", \"Informational Duration\", \"Product Related\" and \"Product Related Duration\" represents the number of different types of pages visited by the visitor in that session and total time spent in each of these page categories. The values of these features are derived from the URL information of the pages visited by the user and updated in real-time when a user takes an action, e.g. moving from one page to another. \n",
        "3. The \"Bounce Rate\", \"Exit Rate\" and \"Page Value\" features represent the metrics measured by \"Google Analytics\" for each page in the e-commerce site. \n",
        "4. The value of the \"Bounce Rate\" feature for a web page refers to the percentage of visitors who enter the site from that page and then leave (\"bounce\") without triggering any other requests to the analytics server during that session. \n",
        "5. The value of the \"Exit Rate\" feature for a specific web page is calculated as for all pageviews to the page, the percentage that was the last in the session.\n",
        "6. The \"Page Value\" feature represents the average value for a web page that a user visited before completing an e-commerce transaction. \n",
        "7. The \"Special Day\" feature indicates the closeness of the site visiting time to a specific special day (e.g. Mother’s Day, Valentine's Day) in which the sessions are more likely to be finalized with the transaction. The value of this attribute is determined by considering the dynamics of e-commerce such as the duration between the order date and delivery date. For example, for Valentina’s day, this value takes a nonzero value between February 2 and February 12, zero before and after this date unless it is close to another special day, and its maximum value of 1 on February 8. \n",
        "8. The dataset also includes the operating system, browser, region, traffic type, visitor type as returning or new visitor, a Boolean value indicating whether the date of the visit is weekend, and month of the year.\n",
        "\n"
      ]
    },
    {
      "cell_type": "markdown",
      "metadata": {
        "id": "A0LCnOsyvAVM"
      },
      "source": [
        "# Experimental Design\n",
        "1.Data Loading and Cleaning\n",
        "2. Exploratory Analysis-Univariate,Bivariate and Multivariate.\n",
        "3. Implementing the Solution-Clustering\n",
        "4. Challenging the solution\n",
        "5. Making Conclusions and Recommendations to the Company."
      ]
    },
    {
      "cell_type": "markdown",
      "metadata": {
        "id": "u68uYJuwjWR8"
      },
      "source": [
        "# Data Loading and Cleaning"
      ]
    },
    {
      "cell_type": "code",
      "metadata": {
        "id": "y2yWaGxrfmWi",
        "outputId": "a982e3a4-ef77-41ac-d801-1c65a95346f7",
        "colab": {
          "base_uri": "https://localhost:8080/"
        }
      },
      "source": [
        "!jupyter-kernelspec list"
      ],
      "execution_count": null,
      "outputs": [
        {
          "output_type": "stream",
          "text": [
            "Available kernels:\n",
            "  ir         /usr/local/share/jupyter/kernels/ir\n",
            "  python2    /usr/local/share/jupyter/kernels/python2\n",
            "  python3    /usr/local/share/jupyter/kernels/python3\n",
            "  swift      /usr/local/share/jupyter/kernels/swift\n"
          ],
          "name": "stdout"
        }
      ]
    },
    {
      "cell_type": "code",
      "metadata": {
        "id": "0LxlqiYPhEX5",
        "outputId": "b85b2707-6063-407a-822b-b0320b2f6574",
        "colab": {
          "base_uri": "https://localhost:8080/"
        }
      },
      "source": [
        "# activating R magic\n",
        "%load_ext rpy2.ipython"
      ],
      "execution_count": null,
      "outputs": [
        {
          "output_type": "stream",
          "text": [
            "The rpy2.ipython extension is already loaded. To reload it, use:\n",
            "  %reload_ext rpy2.ipython\n"
          ],
          "name": "stdout"
        }
      ]
    },
    {
      "cell_type": "code",
      "metadata": {
        "id": "o3ZsdQwBhIXR",
        "outputId": "873350dc-384f-435c-a48b-41705090f0ee",
        "colab": {
          "base_uri": "https://localhost:8080/"
        }
      },
      "source": [
        "%%R\n",
        "#Importing the data\n",
        "online_shoppers =read.csv('http://bit.ly/EcommerceCustomersDataset',header = TRUE,\n",
        "                 sep = \",\",fileEncoding = \"UTF-8-BOM\")\n",
        "head(online_shoppers)\n"
      ],
      "execution_count": null,
      "outputs": [
        {
          "output_type": "stream",
          "text": [
            "  Administrative Administrative_Duration Informational Informational_Duration\n",
            "1              0                       0             0                      0\n",
            "2              0                       0             0                      0\n",
            "3              0                      -1             0                     -1\n",
            "4              0                       0             0                      0\n",
            "5              0                       0             0                      0\n",
            "6              0                       0             0                      0\n",
            "  ProductRelated ProductRelated_Duration BounceRates ExitRates PageValues\n",
            "1              1                0.000000  0.20000000 0.2000000          0\n",
            "2              2               64.000000  0.00000000 0.1000000          0\n",
            "3              1               -1.000000  0.20000000 0.2000000          0\n",
            "4              2                2.666667  0.05000000 0.1400000          0\n",
            "5             10              627.500000  0.02000000 0.0500000          0\n",
            "6             19              154.216667  0.01578947 0.0245614          0\n",
            "  SpecialDay Month OperatingSystems Browser Region TrafficType\n",
            "1          0   Feb                1       1      1           1\n",
            "2          0   Feb                2       2      1           2\n",
            "3          0   Feb                4       1      9           3\n",
            "4          0   Feb                3       2      2           4\n",
            "5          0   Feb                3       3      1           4\n",
            "6          0   Feb                2       2      1           3\n",
            "        VisitorType Weekend Revenue\n",
            "1 Returning_Visitor   FALSE   FALSE\n",
            "2 Returning_Visitor   FALSE   FALSE\n",
            "3 Returning_Visitor   FALSE   FALSE\n",
            "4 Returning_Visitor   FALSE   FALSE\n",
            "5 Returning_Visitor    TRUE   FALSE\n",
            "6 Returning_Visitor   FALSE   FALSE\n"
          ],
          "name": "stdout"
        }
      ]
    },
    {
      "cell_type": "code",
      "metadata": {
        "id": "KH_Wbez2iAdA"
      },
      "source": [
        "%%R\n",
        "#Importing the tidyverse library\n",
        "library(tidyverse)"
      ],
      "execution_count": null,
      "outputs": []
    },
    {
      "cell_type": "code",
      "metadata": {
        "id": "TGv6SzW2hywu",
        "outputId": "1784e34b-283e-4726-815c-f0eefcb5f5ff",
        "colab": {
          "base_uri": "https://localhost:8080/"
        }
      },
      "source": [
        "#Converting the data into a tibble for easy analysis\n",
        "%%R\n",
        "my_data<-as_tibble(online_shoppers)\n",
        "my_data"
      ],
      "execution_count": null,
      "outputs": [
        {
          "output_type": "stream",
          "text": [
            "# A tibble: 12,330 x 18\n",
            "   Administrative Administrative_… Informational Informational_D… ProductRelated\n",
            "            <int>            <dbl>         <int>            <dbl>          <int>\n",
            " 1              0                0             0                0              1\n",
            " 2              0                0             0                0              2\n",
            " 3              0               -1             0               -1              1\n",
            " 4              0                0             0                0              2\n",
            " 5              0                0             0                0             10\n",
            " 6              0                0             0                0             19\n",
            " 7              0               -1             0               -1              1\n",
            " 8              1               -1             0               -1              1\n",
            " 9              0                0             0                0              2\n",
            "10              0                0             0                0              3\n",
            "# … with 12,320 more rows, and 13 more variables:\n",
            "#   ProductRelated_Duration <dbl>, BounceRates <dbl>, ExitRates <dbl>,\n",
            "#   PageValues <dbl>, SpecialDay <dbl>, Month <chr>, OperatingSystems <int>,\n",
            "#   Browser <int>, Region <int>, TrafficType <int>, VisitorType <chr>,\n",
            "#   Weekend <lgl>, Revenue <lgl>\n"
          ],
          "name": "stdout"
        }
      ]
    },
    {
      "cell_type": "code",
      "metadata": {
        "id": "rUkzv_2HiVAc",
        "outputId": "7d42f7b4-24d2-4fe2-a06d-90d402855138",
        "colab": {
          "base_uri": "https://localhost:8080/"
        }
      },
      "source": [
        "#Checking the structure of the data\n",
        "#The data types is a mixture of numeric and character.\n",
        "%%R\n",
        "str(my_data)"
      ],
      "execution_count": null,
      "outputs": [
        {
          "output_type": "stream",
          "text": [
            "tibble [12,330 × 18] (S3: tbl_df/tbl/data.frame)\n",
            " $ Administrative         : int [1:12330] 0 0 0 0 0 0 0 1 0 0 ...\n",
            " $ Administrative_Duration: num [1:12330] 0 0 -1 0 0 0 -1 -1 0 0 ...\n",
            " $ Informational          : int [1:12330] 0 0 0 0 0 0 0 0 0 0 ...\n",
            " $ Informational_Duration : num [1:12330] 0 0 -1 0 0 0 -1 -1 0 0 ...\n",
            " $ ProductRelated         : int [1:12330] 1 2 1 2 10 19 1 1 2 3 ...\n",
            " $ ProductRelated_Duration: num [1:12330] 0 64 -1 2.67 627.5 ...\n",
            " $ BounceRates            : num [1:12330] 0.2 0 0.2 0.05 0.02 ...\n",
            " $ ExitRates              : num [1:12330] 0.2 0.1 0.2 0.14 0.05 ...\n",
            " $ PageValues             : num [1:12330] 0 0 0 0 0 0 0 0 0 0 ...\n",
            " $ SpecialDay             : num [1:12330] 0 0 0 0 0 0 0.4 0 0.8 0.4 ...\n",
            " $ Month                  : chr [1:12330] \"Feb\" \"Feb\" \"Feb\" \"Feb\" ...\n",
            " $ OperatingSystems       : int [1:12330] 1 2 4 3 3 2 2 1 2 2 ...\n",
            " $ Browser                : int [1:12330] 1 2 1 2 3 2 4 2 2 4 ...\n",
            " $ Region                 : int [1:12330] 1 1 9 2 1 1 3 1 2 1 ...\n",
            " $ TrafficType            : int [1:12330] 1 2 3 4 4 3 3 5 3 2 ...\n",
            " $ VisitorType            : chr [1:12330] \"Returning_Visitor\" \"Returning_Visitor\" \"Returning_Visitor\" \"Returning_Visitor\" ...\n",
            " $ Weekend                : logi [1:12330] FALSE FALSE FALSE FALSE TRUE FALSE ...\n",
            " $ Revenue                : logi [1:12330] FALSE FALSE FALSE FALSE FALSE FALSE ...\n"
          ],
          "name": "stdout"
        }
      ]
    },
    {
      "cell_type": "code",
      "metadata": {
        "id": "0Q_PpC-kjBCW",
        "outputId": "240f36f2-b209-4fd8-c79b-fbe21a538827",
        "colab": {
          "base_uri": "https://localhost:8080/"
        }
      },
      "source": [
        "#Checking for missing values using the complete function\n",
        "%%R\n",
        "my_data[!complete.cases(my_data),]\n",
        "#There are so many identified missing values in the following columns; Administrative,Administrative_Duration,Informational,Informational_Duration and Product_Related."
      ],
      "execution_count": null,
      "outputs": [
        {
          "output_type": "stream",
          "text": [
            "# A tibble: 14 x 18\n",
            "   Administrative Administrative_… Informational Informational_D… ProductRelated\n",
            "            <int>            <dbl>         <int>            <dbl>          <int>\n",
            " 1             NA               NA            NA               NA             NA\n",
            " 2             NA               NA            NA               NA             NA\n",
            " 3             NA               NA            NA               NA             NA\n",
            " 4             NA               NA            NA               NA             NA\n",
            " 5             NA               NA            NA               NA             NA\n",
            " 6             NA               NA            NA               NA             NA\n",
            " 7             NA               NA            NA               NA             NA\n",
            " 8             NA               NA            NA               NA             NA\n",
            " 9             NA               NA            NA               NA             NA\n",
            "10             NA               NA            NA               NA             NA\n",
            "11             NA               NA            NA               NA             NA\n",
            "12             NA               NA            NA               NA             NA\n",
            "13             NA               NA            NA               NA             NA\n",
            "14             NA               NA            NA               NA             NA\n",
            "# … with 13 more variables: ProductRelated_Duration <dbl>, BounceRates <dbl>,\n",
            "#   ExitRates <dbl>, PageValues <dbl>, SpecialDay <dbl>, Month <chr>,\n",
            "#   OperatingSystems <int>, Browser <int>, Region <int>, TrafficType <int>,\n",
            "#   VisitorType <chr>, Weekend <lgl>, Revenue <lgl>\n"
          ],
          "name": "stdout"
        }
      ]
    },
    {
      "cell_type": "code",
      "metadata": {
        "id": "CDNY6hd0kbbT",
        "outputId": "c8a08b16-3df8-4290-9a0f-a00540d3e243",
        "colab": {
          "base_uri": "https://localhost:8080/"
        }
      },
      "source": [
        "%%R\n",
        "#Rechecking the sum of missing values to ascertain the above finding\n",
        "colSums(is.na(my_data))\n",
        "#A further analysis into the sum of the missing values indicate that 14 rows have missing values in stated columns hence easy to drop these rows.\n",
        "#"
      ],
      "execution_count": null,
      "outputs": [
        {
          "output_type": "stream",
          "text": [
            "         Administrative Administrative_Duration           Informational \n",
            "                     14                      14                      14 \n",
            " Informational_Duration          ProductRelated ProductRelated_Duration \n",
            "                     14                      14                      14 \n",
            "            BounceRates               ExitRates              PageValues \n",
            "                     14                      14                       0 \n",
            "             SpecialDay                   Month        OperatingSystems \n",
            "                      0                       0                       0 \n",
            "                Browser                  Region             TrafficType \n",
            "                      0                       0                       0 \n",
            "            VisitorType                 Weekend                 Revenue \n",
            "                      0                       0                       0 \n"
          ],
          "name": "stdout"
        }
      ]
    },
    {
      "cell_type": "code",
      "metadata": {
        "id": "02uMqN1ZmMWX",
        "outputId": "1a19be4e-7b3e-4cda-e2a1-67e7c0439346",
        "colab": {
          "base_uri": "https://localhost:8080/"
        }
      },
      "source": [
        "#Dropping the missing columns\n",
        "%%R\n",
        "na.omit(my_data)"
      ],
      "execution_count": null,
      "outputs": [
        {
          "output_type": "stream",
          "text": [
            "# A tibble: 12,316 x 18\n",
            "   Administrative Administrative_… Informational Informational_D… ProductRelated\n",
            "            <int>            <dbl>         <int>            <dbl>          <int>\n",
            " 1              0                0             0                0              1\n",
            " 2              0                0             0                0              2\n",
            " 3              0               -1             0               -1              1\n",
            " 4              0                0             0                0              2\n",
            " 5              0                0             0                0             10\n",
            " 6              0                0             0                0             19\n",
            " 7              0               -1             0               -1              1\n",
            " 8              1               -1             0               -1              1\n",
            " 9              0                0             0                0              2\n",
            "10              0                0             0                0              3\n",
            "# … with 12,306 more rows, and 13 more variables:\n",
            "#   ProductRelated_Duration <dbl>, BounceRates <dbl>, ExitRates <dbl>,\n",
            "#   PageValues <dbl>, SpecialDay <dbl>, Month <chr>, OperatingSystems <int>,\n",
            "#   Browser <int>, Region <int>, TrafficType <int>, VisitorType <chr>,\n",
            "#   Weekend <lgl>, Revenue <lgl>\n"
          ],
          "name": "stdout"
        }
      ]
    },
    {
      "cell_type": "code",
      "metadata": {
        "id": "okXgzBiwnjfX",
        "outputId": "e1ff72b4-a5e3-45e9-ebff-f2cd10751f63",
        "colab": {
          "base_uri": "https://localhost:8080/"
        }
      },
      "source": [
        "%%R\n",
        "#Pulling out numerical columns\n",
        "Numeric=my_data %>% select_if(is.numeric)\n",
        "Numeric"
      ],
      "execution_count": null,
      "outputs": [
        {
          "output_type": "stream",
          "text": [
            "# A tibble: 12,330 x 14\n",
            "   Administrative Administrative_… Informational Informational_D… ProductRelated\n",
            "            <int>            <dbl>         <int>            <dbl>          <int>\n",
            " 1              0                0             0                0              1\n",
            " 2              0                0             0                0              2\n",
            " 3              0               -1             0               -1              1\n",
            " 4              0                0             0                0              2\n",
            " 5              0                0             0                0             10\n",
            " 6              0                0             0                0             19\n",
            " 7              0               -1             0               -1              1\n",
            " 8              1               -1             0               -1              1\n",
            " 9              0                0             0                0              2\n",
            "10              0                0             0                0              3\n",
            "# … with 12,320 more rows, and 9 more variables: ProductRelated_Duration <dbl>,\n",
            "#   BounceRates <dbl>, ExitRates <dbl>, PageValues <dbl>, SpecialDay <dbl>,\n",
            "#   OperatingSystems <int>, Browser <int>, Region <int>, TrafficType <int>\n"
          ],
          "name": "stdout"
        }
      ]
    },
    {
      "cell_type": "code",
      "metadata": {
        "id": "bKvq528_w-hi",
        "outputId": "9a5f2e03-c460-44fa-ed5d-91d623a6f33d",
        "colab": {
          "base_uri": "https://localhost:8080/",
          "height": 497
        }
      },
      "source": [
        "%%R\n",
        "#Checking for outliers\n",
        "boxplot(Numeric,col=\"blue\")\n",
        "#There are mant outliers most of which are related with the productRelated column \\\n",
        "#This is expected as most of the clients visit the product related pages and take different times hence the huge variance."
      ],
      "execution_count": null,
      "outputs": [
        {
          "output_type": "display_data",
          "data": {
            "image/png": "[encoded data removed]"
          },
          "metadata": {
            "tags": []
          }
        }
      ]
    },
    {
      "cell_type": "markdown",
      "metadata": {
        "id": "4QjVlzSQqr4D"
      },
      "source": [
        "# Univariate Analysis"
      ]
    },
    {
      "cell_type": "markdown",
      "metadata": {
        "id": "mibZb0HWjd84"
      },
      "source": [
        "# 1.Numerical Analysis"
      ]
    },
    {
      "cell_type": "code",
      "metadata": {
        "id": "W8FRV9pfqxs1",
        "outputId": "09aa41b1-dd07-4e37-c6ed-e6e5e76f0b39",
        "colab": {
          "base_uri": "https://localhost:8080/"
        }
      },
      "source": [
        "%%R\n",
        "#Getting the summary statistics of the numeric data\n",
        "summary(Numeric)"
      ],
      "execution_count": null,
      "outputs": [
        {
          "output_type": "stream",
          "text": [
            " Administrative   Administrative_Duration Informational   \n",
            " Min.   : 0.000   Min.   :  -1.00         Min.   : 0.000  \n",
            " 1st Qu.: 0.000   1st Qu.:   0.00         1st Qu.: 0.000  \n",
            " Median : 1.000   Median :   8.00         Median : 0.000  \n",
            " Mean   : 2.318   Mean   :  80.91         Mean   : 0.504  \n",
            " 3rd Qu.: 4.000   3rd Qu.:  93.50         3rd Qu.: 0.000  \n",
            " Max.   :27.000   Max.   :3398.75         Max.   :24.000  \n",
            " NA's   :14       NA's   :14              NA's   :14      \n",
            " Informational_Duration ProductRelated   ProductRelated_Duration\n",
            " Min.   :  -1.00        Min.   :  0.00   Min.   :   -1.0        \n",
            " 1st Qu.:   0.00        1st Qu.:  7.00   1st Qu.:  185.0        \n",
            " Median :   0.00        Median : 18.00   Median :  599.8        \n",
            " Mean   :  34.51        Mean   : 31.76   Mean   : 1196.0        \n",
            " 3rd Qu.:   0.00        3rd Qu.: 38.00   3rd Qu.: 1466.5        \n",
            " Max.   :2549.38        Max.   :705.00   Max.   :63973.5        \n",
            " NA's   :14             NA's   :14       NA's   :14             \n",
            "  BounceRates         ExitRates         PageValues        SpecialDay     \n",
            " Min.   :0.000000   Min.   :0.00000   Min.   :  0.000   Min.   :0.00000  \n",
            " 1st Qu.:0.000000   1st Qu.:0.01429   1st Qu.:  0.000   1st Qu.:0.00000  \n",
            " Median :0.003119   Median :0.02512   Median :  0.000   Median :0.00000  \n",
            " Mean   :0.022152   Mean   :0.04300   Mean   :  5.889   Mean   :0.06143  \n",
            " 3rd Qu.:0.016684   3rd Qu.:0.05000   3rd Qu.:  0.000   3rd Qu.:0.00000  \n",
            " Max.   :0.200000   Max.   :0.20000   Max.   :361.764   Max.   :1.00000  \n",
            " NA's   :14         NA's   :14                                           \n",
            " OperatingSystems    Browser           Region       TrafficType   \n",
            " Min.   :1.000    Min.   : 1.000   Min.   :1.000   Min.   : 1.00  \n",
            " 1st Qu.:2.000    1st Qu.: 2.000   1st Qu.:1.000   1st Qu.: 2.00  \n",
            " Median :2.000    Median : 2.000   Median :3.000   Median : 2.00  \n",
            " Mean   :2.124    Mean   : 2.357   Mean   :3.147   Mean   : 4.07  \n",
            " 3rd Qu.:3.000    3rd Qu.: 2.000   3rd Qu.:4.000   3rd Qu.: 4.00  \n",
            " Max.   :8.000    Max.   :13.000   Max.   :9.000   Max.   :20.00  \n",
            "                                                                  \n"
          ],
          "name": "stdout"
        }
      ]
    },
    {
      "cell_type": "code",
      "metadata": {
        "id": "f_jr4AqsrGDZ",
        "outputId": "fbb306de-52f1-42b5-e576-1665d8d1c554",
        "colab": {
          "base_uri": "https://localhost:8080/"
        }
      },
      "source": [
        "#Finding the mode\n",
        "%%R\n",
        "v<-my_data %>% pull(Administrative)\n",
        "getmode <- function(v) {\n",
        "   uniqv <- unique(v)\n",
        "   uniqv[which.max(tabulate(match(v, uniqv)))]\n",
        "}\n",
        "Administrative.Mode<-getmode(my_data$Administrative)\n",
        "Administrative.Mode"
      ],
      "execution_count": null,
      "outputs": [
        {
          "output_type": "stream",
          "text": [
            "[1] 0\n"
          ],
          "name": "stdout"
        }
      ]
    },
    {
      "cell_type": "code",
      "metadata": {
        "id": "FFWC7t3gTX4B",
        "outputId": "3e6d712a-6be6-4908-ace9-eb3fc1820161",
        "colab": {
          "base_uri": "https://localhost:8080/",
          "height": 497
        }
      },
      "source": [
        "%%R\n",
        "hist(my_data$Administrative)"
      ],
      "execution_count": null,
      "outputs": [
        {
          "output_type": "display_data",
          "data": {
            "image/png": "[encoded data removed]"
          },
          "metadata": {
            "tags": []
          }
        }
      ]
    },
    {
      "cell_type": "code",
      "metadata": {
        "id": "Y5kLgmogTf7x",
        "outputId": "074ebb8a-3655-4187-8ad9-339b0034c740",
        "colab": {
          "base_uri": "https://localhost:8080/",
          "height": 497
        }
      },
      "source": [
        "%%R\n",
        "boxplot(my_data$Administrative)"
      ],
      "execution_count": null,
      "outputs": [
        {
          "output_type": "display_data",
          "data": {
            "image/png": "[encoded data removed]"
          },
          "metadata": {
            "tags": []
          }
        }
      ]
    },
    {
      "cell_type": "code",
      "metadata": {
        "id": "3Q4z6b_wNJMy",
        "outputId": "9272b00a-f365-4caf-937d-14eb785600ed",
        "colab": {
          "base_uri": "https://localhost:8080/"
        }
      },
      "source": [
        "%%R\n",
        "v<-my_data %>% pull(Administrative_Duration)\n",
        "getmode <- function(v) {\n",
        "   uniqv <- unique(v)\n",
        "   uniqv[which.max(tabulate(match(v, uniqv)))]\n",
        "}\n",
        "Administrative_Duration.Mode<-getmode(my_data$Administrative_Duration)\n",
        "Administrative_Duration.Mode"
      ],
      "execution_count": null,
      "outputs": [
        {
          "output_type": "stream",
          "text": [
            "[1] 0\n"
          ],
          "name": "stdout"
        }
      ]
    },
    {
      "cell_type": "code",
      "metadata": {
        "id": "bKNjetM8TnXy",
        "outputId": "987e258f-102c-49ac-ca5d-2bf11a82ac95",
        "colab": {
          "base_uri": "https://localhost:8080/",
          "height": 497
        }
      },
      "source": [
        "%%R\n",
        "hist(my_data$Administrative_Duration,col=\"red\")"
      ],
      "execution_count": null,
      "outputs": [
        {
          "output_type": "display_data",
          "data": {
            "image/png": "[encoded data removed]"
          },
          "metadata": {
            "tags": []
          }
        }
      ]
    },
    {
      "cell_type": "code",
      "metadata": {
        "id": "Zraq4ECaUF1B",
        "outputId": "bf346394-ae3a-424d-def3-19067cfaa088",
        "colab": {
          "base_uri": "https://localhost:8080/",
          "height": 497
        }
      },
      "source": [
        "%%R\n",
        "boxplot(my_data$Administrative_Duration,col=\"blue\")"
      ],
      "execution_count": null,
      "outputs": [
        {
          "output_type": "display_data",
          "data": {
            "image/png": "[encoded data removed]"
          },
          "metadata": {
            "tags": []
          }
        }
      ]
    },
    {
      "cell_type": "code",
      "metadata": {
        "id": "dLU8rd3xNUtY",
        "outputId": "8d7cf016-ef96-4387-d5bd-709a4b315a93",
        "colab": {
          "base_uri": "https://localhost:8080/"
        }
      },
      "source": [
        "%%R\n",
        "v<-my_data %>% pull(Informational)\n",
        "getmode <- function(v) {\n",
        "   uniqv <- unique(v)\n",
        "   uniqv[which.max(tabulate(match(v, uniqv)))]\n",
        "}\n",
        "Informational.Mode<-getmode(my_data$Informational)\n",
        "Informational.Mode"
      ],
      "execution_count": null,
      "outputs": [
        {
          "output_type": "stream",
          "text": [
            "[1] 0\n"
          ],
          "name": "stdout"
        }
      ]
    },
    {
      "cell_type": "code",
      "metadata": {
        "id": "VJcRsnXOUgUN",
        "outputId": "c662d0fa-7636-4838-98a8-2c3ae4234486",
        "colab": {
          "base_uri": "https://localhost:8080/",
          "height": 497
        }
      },
      "source": [
        "%%R\n",
        "hist(my_data$Informational,col=\"green\")"
      ],
      "execution_count": null,
      "outputs": [
        {
          "output_type": "display_data",
          "data": {
            "image/png": "[encoded data removed]"
          },
          "metadata": {
            "tags": []
          }
        }
      ]
    },
    {
      "cell_type": "code",
      "metadata": {
        "id": "4tB6JeCaUz2A",
        "outputId": "52fe5ed2-2efa-47ab-ecfd-6ab429eb87cb",
        "colab": {
          "base_uri": "https://localhost:8080/",
          "height": 497
        }
      },
      "source": [
        "%%R\n",
        "boxplot(my_data$Informational,col=\"green\")"
      ],
      "execution_count": null,
      "outputs": [
        {
          "output_type": "display_data",
          "data": {
            "image/png": "[encoded data removed]"
          },
          "metadata": {
            "tags": []
          }
        }
      ]
    },
    {
      "cell_type": "code",
      "metadata": {
        "id": "TTxH9Y2zNhzO",
        "outputId": "961883cd-d37f-494c-b1b6-2ae1a130dafe",
        "colab": {
          "base_uri": "https://localhost:8080/"
        }
      },
      "source": [
        "%%R\n",
        "v<-my_data %>% pull(Informational_Duration)\n",
        "getmode <- function(v) {\n",
        "   uniqv <- unique(v)\n",
        "   uniqv[which.max(tabulate(match(v, uniqv)))]\n",
        "}\n",
        "Info_Duration.Mode<-getmode(my_data$Informational_Duration)\n",
        "Info_Duration.Mode"
      ],
      "execution_count": null,
      "outputs": [
        {
          "output_type": "stream",
          "text": [
            "[1] 0\n"
          ],
          "name": "stdout"
        }
      ]
    },
    {
      "cell_type": "code",
      "metadata": {
        "id": "KNBuUekAU__b",
        "outputId": "6002956e-7676-4bd0-9f3b-5862f2f5d759",
        "colab": {
          "base_uri": "https://localhost:8080/",
          "height": 497
        }
      },
      "source": [
        "%%R\n",
        "hist(my_data$Informational_Duration,col=\"red\")"
      ],
      "execution_count": null,
      "outputs": [
        {
          "output_type": "display_data",
          "data": {
            "image/png": "[encoded data removed]"
          },
          "metadata": {
            "tags": []
          }
        }
      ]
    },
    {
      "cell_type": "code",
      "metadata": {
        "id": "1v7sm07gVMEo",
        "outputId": "431cea7f-e9ed-4de8-a6cf-8d61c18487f2",
        "colab": {
          "base_uri": "https://localhost:8080/",
          "height": 497
        }
      },
      "source": [
        "%%R\n",
        "boxplot(my_data$Informational_Duration,col=\"red\")"
      ],
      "execution_count": null,
      "outputs": [
        {
          "output_type": "display_data",
          "data": {
            "image/png": "[encoded data removed]"
          },
          "metadata": {
            "tags": []
          }
        }
      ]
    },
    {
      "cell_type": "code",
      "metadata": {
        "id": "BYIAeJoXOBBR",
        "outputId": "729639d8-f60b-47d6-a41c-3815e818ee5c",
        "colab": {
          "base_uri": "https://localhost:8080/"
        }
      },
      "source": [
        "%%R\n",
        "v<-my_data %>% pull(ProductRelated)\n",
        "getmode <- function(v) {\n",
        "   uniqv <- unique(v)\n",
        "   uniqv[which.max(tabulate(match(v, uniqv)))]\n",
        "}\n",
        "Product_Related.Mode<-getmode(my_data$ProductRelated)\n",
        "Product_Related.Mode"
      ],
      "execution_count": null,
      "outputs": [
        {
          "output_type": "stream",
          "text": [
            "[1] 1\n"
          ],
          "name": "stdout"
        }
      ]
    },
    {
      "cell_type": "code",
      "metadata": {
        "id": "-QIrN4ZAVRXU",
        "outputId": "33581da1-1187-44fe-df2c-29481702da4c",
        "colab": {
          "base_uri": "https://localhost:8080/",
          "height": 497
        }
      },
      "source": [
        "%%R\n",
        "hist(my_data$ProductRelated,col=\"grey\")"
      ],
      "execution_count": null,
      "outputs": [
        {
          "output_type": "display_data",
          "data": {
            "image/png": "[encoded data removed]"
          },
          "metadata": {
            "tags": []
          }
        }
      ]
    },
    {
      "cell_type": "code",
      "metadata": {
        "id": "dsw3MvBUVZin",
        "outputId": "a049fbb2-53ad-4244-b880-23d6e9020d81",
        "colab": {
          "base_uri": "https://localhost:8080/",
          "height": 497
        }
      },
      "source": [
        "%%R\n",
        "boxplot(my_data$ProductRelated,col=\"grey\")\n"
      ],
      "execution_count": null,
      "outputs": [
        {
          "output_type": "display_data",
          "data": {
            "image/png": "[encoded data removed]"
          },
          "metadata": {
            "tags": []
          }
        }
      ]
    },
    {
      "cell_type": "code",
      "metadata": {
        "id": "eSibVM8NOci6",
        "outputId": "1f0f3809-b079-49bb-f875-af1400ec7195",
        "colab": {
          "base_uri": "https://localhost:8080/"
        }
      },
      "source": [
        "%%R\n",
        "v<-my_data %>% pull(ProductRelated_Duration)\n",
        "getmode <- function(v) {\n",
        "   uniqv <- unique(v)\n",
        "   uniqv[which.max(tabulate(match(v, uniqv)))]\n",
        "}\n",
        "Product_Duration.Mode<-getmode(my_data$ProductRelated_Duration)\n",
        "Product_Duration.Mode"
      ],
      "execution_count": null,
      "outputs": [
        {
          "output_type": "stream",
          "text": [
            "[1] 0\n"
          ],
          "name": "stdout"
        }
      ]
    },
    {
      "cell_type": "code",
      "metadata": {
        "id": "0o8RPCbAVt41",
        "outputId": "9ce70c17-f751-4555-dd2e-3db99eefaf2a",
        "colab": {
          "base_uri": "https://localhost:8080/",
          "height": 497
        }
      },
      "source": [
        "%%R\n",
        "hist(my_data$ProductRelated_Duration)"
      ],
      "execution_count": null,
      "outputs": [
        {
          "output_type": "display_data",
          "data": {
            "image/png": "[encoded data removed]"
          },
          "metadata": {
            "tags": []
          }
        }
      ]
    },
    {
      "cell_type": "code",
      "metadata": {
        "id": "fFKijuokWBmi",
        "outputId": "5a296361-b8b0-436a-b17e-0d08d7288fe2",
        "colab": {
          "base_uri": "https://localhost:8080/",
          "height": 497
        }
      },
      "source": [
        "%%R\n",
        "boxplot(my_data$ProductRelated_Duration)"
      ],
      "execution_count": null,
      "outputs": [
        {
          "output_type": "display_data",
          "data": {
            "image/png": "[encoded data removed]"
          },
          "metadata": {
            "tags": []
          }
        }
      ]
    },
    {
      "cell_type": "code",
      "metadata": {
        "id": "znZGyeBtPnMc",
        "outputId": "3b4d4bd3-04fd-44a9-90d4-730360f1870b",
        "colab": {
          "base_uri": "https://localhost:8080/"
        }
      },
      "source": [
        "%%R\n",
        "v<-my_data %>% pull(BounceRates)\n",
        "getmode <- function(v) {\n",
        "   uniqv <- unique(v)\n",
        "   uniqv[which.max(tabulate(match(v, uniqv)))]\n",
        "}\n",
        "Bounce_Rates.Mode<-getmode(my_data$BounceRates)\n",
        "Bounce_Rates.Mode"
      ],
      "execution_count": null,
      "outputs": [
        {
          "output_type": "stream",
          "text": [
            "[1] 0\n"
          ],
          "name": "stdout"
        }
      ]
    },
    {
      "cell_type": "code",
      "metadata": {
        "id": "wGhrZ4rZWHGf",
        "outputId": "fc591faa-907a-4d7d-93fa-dd9470803529",
        "colab": {
          "base_uri": "https://localhost:8080/",
          "height": 497
        }
      },
      "source": [
        "%%R\n",
        "hist(my_data$BounceRates)"
      ],
      "execution_count": null,
      "outputs": [
        {
          "output_type": "display_data",
          "data": {
            "image/png": "[encoded data removed]"
          },
          "metadata": {
            "tags": []
          }
        }
      ]
    },
    {
      "cell_type": "code",
      "metadata": {
        "id": "v9dM47uFWOWw",
        "outputId": "b2e2a67e-03ab-4ea4-9991-f2b02b8d61dc",
        "colab": {
          "base_uri": "https://localhost:8080/",
          "height": 497
        }
      },
      "source": [
        "%%R\n",
        "boxplot(my_data$BounceRates)"
      ],
      "execution_count": null,
      "outputs": [
        {
          "output_type": "display_data",
          "data": {
            "image/png": "[encoded data removed]"
          },
          "metadata": {
            "tags": []
          }
        }
      ]
    },
    {
      "cell_type": "code",
      "metadata": {
        "id": "LABfb9LPP7h4",
        "outputId": "107be6e5-7d36-4b82-c014-368edcae6690",
        "colab": {
          "base_uri": "https://localhost:8080/"
        }
      },
      "source": [
        "%%R\n",
        "v<-my_data %>% pull(ExitRates)\n",
        "getmode <- function(v) {\n",
        "   uniqv <- unique(v)\n",
        "   uniqv[which.max(tabulate(match(v, uniqv)))]\n",
        "}\n",
        "ExitRates.Mode<-getmode(my_data$ExitRates)\n",
        "ExitRates.Mode"
      ],
      "execution_count": null,
      "outputs": [
        {
          "output_type": "stream",
          "text": [
            "[1] 0.2\n"
          ],
          "name": "stdout"
        }
      ]
    },
    {
      "cell_type": "code",
      "metadata": {
        "id": "6Nq1SBHIWVS9",
        "outputId": "8c7140c1-2db8-413b-dc59-8cf11f188d07",
        "colab": {
          "base_uri": "https://localhost:8080/",
          "height": 497
        }
      },
      "source": [
        "%%R\n",
        "hist(my_data$ExitRates)"
      ],
      "execution_count": null,
      "outputs": [
        {
          "output_type": "display_data",
          "data": {
            "image/png": "[encoded data removed]"
          },
          "metadata": {
            "tags": []
          }
        }
      ]
    },
    {
      "cell_type": "code",
      "metadata": {
        "id": "xUoOb08UWcgP",
        "outputId": "11ea2601-0dc1-4157-bfc5-010252b74321",
        "colab": {
          "base_uri": "https://localhost:8080/",
          "height": 497
        }
      },
      "source": [
        "%%R\n",
        "boxplot(my_data$ExitRates)"
      ],
      "execution_count": null,
      "outputs": [
        {
          "output_type": "display_data",
          "data": {
            "image/png": "[encoded data removed]"
          },
          "metadata": {
            "tags": []
          }
        }
      ]
    },
    {
      "cell_type": "code",
      "metadata": {
        "id": "Kuo0nt5yQLWQ",
        "outputId": "9993006d-620e-40ca-f0ee-5b60d316aad9",
        "colab": {
          "base_uri": "https://localhost:8080/"
        }
      },
      "source": [
        "%%R\n",
        "v<-my_data %>% pull(PageValues)\n",
        "getmode <- function(v) {\n",
        "   uniqv <- unique(v)\n",
        "   uniqv[which.max(tabulate(match(v, uniqv)))]\n",
        "}\n",
        "Page_Values.Mode<-getmode(my_data$PageValues)\n",
        "Page_Values.Mode"
      ],
      "execution_count": null,
      "outputs": [
        {
          "output_type": "stream",
          "text": [
            "[1] 0\n"
          ],
          "name": "stdout"
        }
      ]
    },
    {
      "cell_type": "code",
      "metadata": {
        "id": "IeJLFLbpWhs_",
        "outputId": "c8f92cc8-4dd3-4bdd-8a8f-bb24fdccd065",
        "colab": {
          "base_uri": "https://localhost:8080/",
          "height": 497
        }
      },
      "source": [
        "%%R\n",
        "hist(my_data$PageValues)"
      ],
      "execution_count": null,
      "outputs": [
        {
          "output_type": "display_data",
          "data": {
            "image/png": "[encoded data removed]"
          },
          "metadata": {
            "tags": []
          }
        }
      ]
    },
    {
      "cell_type": "code",
      "metadata": {
        "id": "yAY8JdzaWqrH",
        "outputId": "415b6013-2552-4122-80df-db2e919dc2b0",
        "colab": {
          "base_uri": "https://localhost:8080/",
          "height": 497
        }
      },
      "source": [
        "%%R\n",
        "boxplot(my_data$PageValues)"
      ],
      "execution_count": null,
      "outputs": [
        {
          "output_type": "display_data",
          "data": {
            "image/png": "[encoded data removed]"
          },
          "metadata": {
            "tags": []
          }
        }
      ]
    },
    {
      "cell_type": "code",
      "metadata": {
        "id": "02QVGFluQbv0",
        "outputId": "5c659b5d-34ac-4eb4-9e6b-da4417a18317",
        "colab": {
          "base_uri": "https://localhost:8080/"
        }
      },
      "source": [
        "%%R\n",
        "v<-my_data %>% pull(SpecialDay)\n",
        "getmode <- function(v) {\n",
        "   uniqv <- unique(v)\n",
        "   uniqv[which.max(tabulate(match(v, uniqv)))]\n",
        "}\n",
        "SpecialDay.Mode<-getmode(my_data$SpecialDay)\n",
        "SpecialDay.Mode"
      ],
      "execution_count": null,
      "outputs": [
        {
          "output_type": "stream",
          "text": [
            "[1] 0\n"
          ],
          "name": "stdout"
        }
      ]
    },
    {
      "cell_type": "code",
      "metadata": {
        "id": "fTKXkQ0YWwtE",
        "outputId": "c5482551-b3a1-42a9-ecfb-881ef7ec292c",
        "colab": {
          "base_uri": "https://localhost:8080/",
          "height": 497
        }
      },
      "source": [
        "%%R\n",
        "hist(my_data$SpecialDay)"
      ],
      "execution_count": null,
      "outputs": [
        {
          "output_type": "display_data",
          "data": {
            "image/png": "[encoded data removed]"
          },
          "metadata": {
            "tags": []
          }
        }
      ]
    },
    {
      "cell_type": "code",
      "metadata": {
        "id": "A90CMsGkW0ui",
        "outputId": "9504efdc-dfe5-47b3-ee31-df1f8e08b291",
        "colab": {
          "base_uri": "https://localhost:8080/",
          "height": 497
        }
      },
      "source": [
        "%%R\n",
        "boxplot(my_data$SpecialDay)"
      ],
      "execution_count": null,
      "outputs": [
        {
          "output_type": "display_data",
          "data": {
            "image/png": "[encoded data removed]"
          },
          "metadata": {
            "tags": []
          }
        }
      ]
    },
    {
      "cell_type": "code",
      "metadata": {
        "id": "n_-0nzeuQtiZ",
        "outputId": "052b6f59-2a86-4cdb-8b97-750bcf795a21",
        "colab": {
          "base_uri": "https://localhost:8080/"
        }
      },
      "source": [
        "%%R\n",
        "v<-my_data %>% pull(OperatingSystems)\n",
        "getmode <- function(v) {\n",
        "   uniqv <- unique(v)\n",
        "   uniqv[which.max(tabulate(match(v, uniqv)))]\n",
        "}\n",
        "OS.Mode<-getmode(my_data$OperatingSystems)\n",
        "OS.Mode"
      ],
      "execution_count": null,
      "outputs": [
        {
          "output_type": "stream",
          "text": [
            "[1] 2\n"
          ],
          "name": "stdout"
        }
      ]
    },
    {
      "cell_type": "code",
      "metadata": {
        "id": "8Ae-0fAtXC7t",
        "outputId": "0097f812-edbe-474a-f4be-73c190f3044e",
        "colab": {
          "base_uri": "https://localhost:8080/",
          "height": 497
        }
      },
      "source": [
        "%%R\n",
        "hist(my_data$OperatingSystems)"
      ],
      "execution_count": null,
      "outputs": [
        {
          "output_type": "display_data",
          "data": {
            "image/png": "[encoded data removed]"
          },
          "metadata": {
            "tags": []
          }
        }
      ]
    },
    {
      "cell_type": "code",
      "metadata": {
        "id": "Njcz7Z3cXQIt",
        "outputId": "e4077aa8-3967-4f49-f149-5e4000cd7910",
        "colab": {
          "base_uri": "https://localhost:8080/",
          "height": 497
        }
      },
      "source": [
        "%%R\n",
        "boxplot(my_data$OperatingSystems)"
      ],
      "execution_count": null,
      "outputs": [
        {
          "output_type": "display_data",
          "data": {
            "image/png": "[encoded data removed]"
          },
          "metadata": {
            "tags": []
          }
        }
      ]
    },
    {
      "cell_type": "code",
      "metadata": {
        "id": "ZuoUQ9XfRBlh",
        "outputId": "1ebae37e-c8ea-48ce-900a-e932e96bce8f",
        "colab": {
          "base_uri": "https://localhost:8080/"
        }
      },
      "source": [
        "%%R\n",
        "v<-my_data %>% pull(Browser)\n",
        "getmode <- function(v) {\n",
        "   uniqv <- unique(v)\n",
        "   uniqv[which.max(tabulate(match(v, uniqv)))]\n",
        "}\n",
        "Browser.Mode<-getmode(my_data$Browser)\n",
        "Browser.Mode"
      ],
      "execution_count": null,
      "outputs": [
        {
          "output_type": "stream",
          "text": [
            "[1] 2\n"
          ],
          "name": "stdout"
        }
      ]
    },
    {
      "cell_type": "code",
      "metadata": {
        "id": "unvQPHISXVIX",
        "outputId": "f0cb2927-514e-401c-f670-280fa90c84c0",
        "colab": {
          "base_uri": "https://localhost:8080/",
          "height": 497
        }
      },
      "source": [
        "%%R\n",
        "hist(my_data$Browser)"
      ],
      "execution_count": null,
      "outputs": [
        {
          "output_type": "display_data",
          "data": {
            "image/png": "[encoded data removed]"
          },
          "metadata": {
            "tags": []
          }
        }
      ]
    },
    {
      "cell_type": "code",
      "metadata": {
        "id": "ydQcMyPPXaBl",
        "outputId": "39f18131-3f57-4d94-ae90-cea6a3f90bb4",
        "colab": {
          "base_uri": "https://localhost:8080/",
          "height": 497
        }
      },
      "source": [
        "%%R\n",
        "boxplot(my_data$Browser)"
      ],
      "execution_count": null,
      "outputs": [
        {
          "output_type": "display_data",
          "data": {
            "image/png": "[encoded data removed]"
          },
          "metadata": {
            "tags": []
          }
        }
      ]
    },
    {
      "cell_type": "code",
      "metadata": {
        "id": "7LwbA27oRV-D",
        "outputId": "2bcb7ed2-f080-4138-b16d-1c1a2a18f468",
        "colab": {
          "base_uri": "https://localhost:8080/"
        }
      },
      "source": [
        "%%R\n",
        "v<-my_data %>% pull(Region)\n",
        "getmode <- function(v) {\n",
        "   uniqv <- unique(v)\n",
        "   uniqv[which.max(tabulate(match(v, uniqv)))]\n",
        "}\n",
        "R.Mode<-getmode(my_data$Region)\n",
        "R.Mode"
      ],
      "execution_count": null,
      "outputs": [
        {
          "output_type": "stream",
          "text": [
            "[1] 1\n"
          ],
          "name": "stdout"
        }
      ]
    },
    {
      "cell_type": "code",
      "metadata": {
        "id": "SfV3YBA-Xipt",
        "outputId": "08554493-ff38-4f4e-8bcf-35132681cfbb",
        "colab": {
          "base_uri": "https://localhost:8080/",
          "height": 497
        }
      },
      "source": [
        "%%R\n",
        "hist(my_data$Region)"
      ],
      "execution_count": null,
      "outputs": [
        {
          "output_type": "display_data",
          "data": {
            "image/png": "[encoded data removed]"
          },
          "metadata": {
            "tags": []
          }
        }
      ]
    },
    {
      "cell_type": "code",
      "metadata": {
        "id": "evclSWCdXp6K",
        "outputId": "3be9e10b-e2ba-4a4e-8626-394751b934ba",
        "colab": {
          "base_uri": "https://localhost:8080/",
          "height": 497
        }
      },
      "source": [
        "%%R\n",
        "boxplot(my_data$Region)"
      ],
      "execution_count": null,
      "outputs": [
        {
          "output_type": "display_data",
          "data": {
            "image/png": "[encoded data removed]"
          },
          "metadata": {
            "tags": []
          }
        }
      ]
    },
    {
      "cell_type": "code",
      "metadata": {
        "id": "S7nZO4LLRgJB",
        "outputId": "51dc6dc1-b6e1-416f-d232-04056e81ea31",
        "colab": {
          "base_uri": "https://localhost:8080/"
        }
      },
      "source": [
        "%%R\n",
        "v<-my_data %>% pull(TrafficType)\n",
        "getmode <- function(v) {\n",
        "   uniqv <- unique(v)\n",
        "   uniqv[which.max(tabulate(match(v, uniqv)))]\n",
        "}\n",
        "TT.Mode<-getmode(my_data$TrafficType)\n",
        "TT.Mode"
      ],
      "execution_count": null,
      "outputs": [
        {
          "output_type": "stream",
          "text": [
            "[1] 2\n"
          ],
          "name": "stdout"
        }
      ]
    },
    {
      "cell_type": "code",
      "metadata": {
        "id": "nAZhpcWERrYV",
        "outputId": "4ef1fdf3-eae2-453a-d388-b6f66a428a28",
        "colab": {
          "base_uri": "https://localhost:8080/",
          "height": 497
        }
      },
      "source": [
        "%%R\n",
        "hist(my_data$TrafficType)"
      ],
      "execution_count": null,
      "outputs": [
        {
          "output_type": "display_data",
          "data": {
            "image/png": "[encoded data removed]"
          },
          "metadata": {
            "tags": []
          }
        }
      ]
    },
    {
      "cell_type": "code",
      "metadata": {
        "id": "kQvX4FFhX1P2",
        "outputId": "c8363a42-eee6-45f1-dea3-8e362b881e8f",
        "colab": {
          "base_uri": "https://localhost:8080/",
          "height": 497
        }
      },
      "source": [
        "%%R\n",
        "boxplot(my_data$TrafficType)"
      ],
      "execution_count": null,
      "outputs": [
        {
          "output_type": "display_data",
          "data": {
            "image/png": "[encoded data removed]"
          },
          "metadata": {
            "tags": []
          }
        }
      ]
    },
    {
      "cell_type": "markdown",
      "metadata": {
        "id": "yk_8sP8Czx_T"
      },
      "source": [
        "From the analysis it is clear that none of the numeric columns is normally distributed and there is presence of outliers in the data."
      ]
    },
    {
      "cell_type": "markdown",
      "metadata": {
        "id": "UxekFb3VYKpp"
      },
      "source": [
        "#2.Categorical Values"
      ]
    },
    {
      "cell_type": "code",
      "metadata": {
        "id": "spwDvmhQYPuE",
        "outputId": "bd92e784-3ae3-4cba-b468-5a68cf0fcbbd",
        "colab": {
          "base_uri": "https://localhost:8080/",
          "height": 497
        }
      },
      "source": [
        "%%R\n",
        "Month<- my_data$Month\n",
        "Month_frequency<- table(Month)\n",
        "Month_frequency\n",
        "barplot(Month_frequency,col=\"Blue\")"
      ],
      "execution_count": null,
      "outputs": [
        {
          "output_type": "display_data",
          "data": {
            "image/png": "[encoded data removed]"
          },
          "metadata": {
            "tags": []
          }
        }
      ]
    },
    {
      "cell_type": "markdown",
      "metadata": {
        "id": "3_LUBWgd1OYm"
      },
      "source": [
        "From the barplot it is clear that most of the site vistis are made in May and Novemeber hence these should be the priority months in terms of marketing in the organization.\n",
        "The top 5 months are as follows:\n",
        "1. May\n",
        "2. Novemeber\n",
        "3. March\n",
        "4. December\n",
        "5. October.\n",
        "\n",
        "The Organization should seek to establish religious and cultural events that occur in these months in the different branches such as Christmas,etc and capitalize in using them in their marketing. \n"
      ]
    },
    {
      "cell_type": "code",
      "metadata": {
        "id": "qS4dJW8zY9qB",
        "outputId": "25f53743-032f-4c3e-e328-e08ba6c5d847",
        "colab": {
          "base_uri": "https://localhost:8080/",
          "height": 497
        }
      },
      "source": [
        "%%R\n",
        "VisitorType <- my_data$VisitorType\n",
        "VisitorType_frequency<- table(VisitorType)\n",
        "VisitorType_frequency\n",
        "barplot(VisitorType_frequency,col=\"Red\")"
      ],
      "execution_count": null,
      "outputs": [
        {
          "output_type": "display_data",
          "data": {
            "image/png": "[encoded data removed]"
          },
          "metadata": {
            "tags": []
          }
        }
      ]
    },
    {
      "cell_type": "markdown",
      "metadata": {
        "id": "ZOosJhdt2RQi"
      },
      "source": [
        "From the Analysis,most of the visitors to the site are Returning Visistors an indication that clients are happy with the products and customer service.The organization should therefor look at ways of motivating these returning visitors through loyalty cards that accumulate points over time.\n",
        "\n",
        "Secondly, the organization should capitalize efforts in finding new clients as this group seems to be lagging behind.This could include more advertisement on the mainstream and social media avenues.Additionally,the organization should look at working with influencers in the different regions."
      ]
    },
    {
      "cell_type": "code",
      "metadata": {
        "id": "5m82fxvNZhQU",
        "outputId": "2b09375f-8f75-451d-f091-822d8da741e1",
        "colab": {
          "base_uri": "https://localhost:8080/",
          "height": 497
        }
      },
      "source": [
        "%%R\n",
        "Weekend <- my_data$Weekend\n",
        "Weekend_frequency<- table(Weekend)\n",
        "Weekend_frequency\n",
        "barplot(Weekend_frequency,col=\"Yellow\")"
      ],
      "execution_count": null,
      "outputs": [
        {
          "output_type": "display_data",
          "data": {
            "image/png": "[encoded data removed]"
          },
          "metadata": {
            "tags": []
          }
        }
      ]
    },
    {
      "cell_type": "markdown",
      "metadata": {
        "id": "OThEu8U434Xf"
      },
      "source": [
        "From the analysis it is clear that most of the customers visit the sites on week dayas and not on weekends as it is popularly known.The organization should therefore focus on giving discounts and promoting their products on week days."
      ]
    },
    {
      "cell_type": "code",
      "metadata": {
        "id": "6UwO2k3mZ0kJ",
        "outputId": "616d27c4-23c1-4060-e762-d6bc47eaa943",
        "colab": {
          "base_uri": "https://localhost:8080/",
          "height": 497
        }
      },
      "source": [
        "%%R\n",
        "Revenue <- my_data$Revenue\n",
        "Revenue_frequency<- table(Revenue)\n",
        "Revenue_frequency\n",
        "barplot(Revenue_frequency,col=\"Green\")"
      ],
      "execution_count": null,
      "outputs": [
        {
          "output_type": "display_data",
          "data": {
            "image/png": "[encoded data removed]"
          },
          "metadata": {
            "tags": []
          }
        }
      ]
    },
    {
      "cell_type": "markdown",
      "metadata": {
        "id": "72qzc7PG4mmq"
      },
      "source": [
        "A shocking revelation is revealed by the above plot whereby most of the site visits do not result into revenue.Revenue is the main aim of any business hence the traffic on the site should result into revenue.\n",
        "\n",
        "Perhaps this is an indication that most people have heard about the brand but when they visit the site the prices are not affordable or the quality of the products is not as expected.The Organization should therefore seek to find out why this is the case;maybe conduct a survey among the individuals who visite the site and did not purchase any product.\n",
        "\n",
        "Additionally,the organization should consider revamping their website to include pop up questions to direct the customers.\n",
        "\n",
        "I visited the website and found out that the website is in Russia which put me off in trying to navigate the website as I didn't understand the language.The oranization should therefore customize its website in English so as to attract customers from all over the world.This could be one of the reasons why the the revenue does not resonate with the number of site visits."
      ]
    },
    {
      "cell_type": "code",
      "metadata": {
        "id": "Sm21pSir7GSW",
        "outputId": "2752e27c-1358-4052-9c39-681388ed5b36",
        "colab": {
          "base_uri": "https://localhost:8080/",
          "height": 497
        }
      },
      "source": [
        "%%R\n",
        "Traffic <- my_data$TrafficType\n",
        "Traffic_frequency<- table(Traffic)\n",
        "Traffic_frequency\n",
        "barplot(Traffic_frequency,col=\"Green\")"
      ],
      "execution_count": null,
      "outputs": [
        {
          "output_type": "display_data",
          "data": {
            "image/png": "[encoded data removed]"
          },
          "metadata": {
            "tags": []
          }
        }
      ]
    },
    {
      "cell_type": "markdown",
      "metadata": {
        "id": "M2iv0uwG9SId"
      },
      "source": [
        "The most prevalent traffic type is the type 2.The top 5 types are as follows:\n",
        "\n",
        "1. 2\n",
        "2. 1\n",
        "3. 3\n",
        "4. 4\n",
        "5. 13"
      ]
    },
    {
      "cell_type": "code",
      "metadata": {
        "id": "qqu7SCLq76KK",
        "outputId": "cfbdf1a2-66f1-4516-c81f-35722a1b1da7",
        "colab": {
          "base_uri": "https://localhost:8080/",
          "height": 497
        }
      },
      "source": [
        "%%R\n",
        "Region <- my_data$Region\n",
        "Region_frequency<- table(Region)\n",
        "Region_frequency\n",
        "barplot(Region_frequency,col=\"Green\")"
      ],
      "execution_count": null,
      "outputs": [
        {
          "output_type": "display_data",
          "data": {
            "image/png": "[encoded data removed]"
          },
          "metadata": {
            "tags": []
          }
        }
      ]
    },
    {
      "cell_type": "markdown",
      "metadata": {
        "id": "D8_-Of5O9lSO"
      },
      "source": [
        "Most of the site visits come from region one foollowed by region 3,region 4,region 2 and region 6."
      ]
    },
    {
      "cell_type": "code",
      "metadata": {
        "id": "0NAmEOrB8Jxu",
        "outputId": "2518fadb-c180-41a3-f909-18984a1d61e1",
        "colab": {
          "base_uri": "https://localhost:8080/",
          "height": 497
        }
      },
      "source": [
        "%%R\n",
        "OperatingSystems <- my_data$OperatingSystems\n",
        "OperatingSystems_frequency<- table(OperatingSystems)\n",
        "OperatingSystems_frequency\n",
        "barplot(OperatingSystems_frequency,col=\"Yellow\")"
      ],
      "execution_count": null,
      "outputs": [
        {
          "output_type": "display_data",
          "data": {
            "image/png": "[encoded data removed]"
          },
          "metadata": {
            "tags": []
          }
        }
      ]
    },
    {
      "cell_type": "markdown",
      "metadata": {
        "id": "FLA3WuXd982m"
      },
      "source": [
        "Most of the clients have operating system 2."
      ]
    },
    {
      "cell_type": "markdown",
      "metadata": {
        "id": "PoNcdF-WaKuc"
      },
      "source": [
        "# Bivariate Analysis"
      ]
    },
    {
      "cell_type": "markdown",
      "metadata": {
        "id": "NEkz33rMbfAH"
      },
      "source": [
        "# 1.Covariance"
      ]
    },
    {
      "cell_type": "code",
      "metadata": {
        "id": "x1wJOnm_aPBE",
        "outputId": "47e6e670-c3cd-444d-d2fd-21223c22c063",
        "colab": {
          "base_uri": "https://localhost:8080/"
        }
      },
      "source": [
        "%%R\n",
        "cov(Numeric)"
      ],
      "execution_count": null,
      "outputs": [
        {
          "output_type": "stream",
          "text": [
            "                        Administrative Administrative_Duration Informational\n",
            "Administrative                      NA                      NA            NA\n",
            "Administrative_Duration             NA                      NA            NA\n",
            "Informational                       NA                      NA            NA\n",
            "Informational_Duration              NA                      NA            NA\n",
            "ProductRelated                      NA                      NA            NA\n",
            "ProductRelated_Duration             NA                      NA            NA\n",
            "BounceRates                         NA                      NA            NA\n",
            "ExitRates                           NA                      NA            NA\n",
            "PageValues                          NA                      NA            NA\n",
            "SpecialDay                          NA                      NA            NA\n",
            "OperatingSystems                    NA                      NA            NA\n",
            "Browser                             NA                      NA            NA\n",
            "Region                              NA                      NA            NA\n",
            "TrafficType                         NA                      NA            NA\n",
            "                        Informational_Duration ProductRelated\n",
            "Administrative                              NA             NA\n",
            "Administrative_Duration                     NA             NA\n",
            "Informational                               NA             NA\n",
            "Informational_Duration                      NA             NA\n",
            "ProductRelated                              NA             NA\n",
            "ProductRelated_Duration                     NA             NA\n",
            "BounceRates                                 NA             NA\n",
            "ExitRates                                   NA             NA\n",
            "PageValues                                  NA             NA\n",
            "SpecialDay                                  NA             NA\n",
            "OperatingSystems                            NA             NA\n",
            "Browser                                     NA             NA\n",
            "Region                                      NA             NA\n",
            "TrafficType                                 NA             NA\n",
            "                        ProductRelated_Duration BounceRates ExitRates\n",
            "Administrative                               NA          NA        NA\n",
            "Administrative_Duration                      NA          NA        NA\n",
            "Informational                                NA          NA        NA\n",
            "Informational_Duration                       NA          NA        NA\n",
            "ProductRelated                               NA          NA        NA\n",
            "ProductRelated_Duration                      NA          NA        NA\n",
            "BounceRates                                  NA          NA        NA\n",
            "ExitRates                                    NA          NA        NA\n",
            "PageValues                                   NA          NA        NA\n",
            "SpecialDay                                   NA          NA        NA\n",
            "OperatingSystems                             NA          NA        NA\n",
            "Browser                                      NA          NA        NA\n",
            "Region                                       NA          NA        NA\n",
            "TrafficType                                  NA          NA        NA\n",
            "                         PageValues   SpecialDay OperatingSystems     Browser\n",
            "Administrative                   NA           NA               NA          NA\n",
            "Administrative_Duration          NA           NA               NA          NA\n",
            "Informational                    NA           NA               NA          NA\n",
            "Informational_Duration           NA           NA               NA          NA\n",
            "ProductRelated                   NA           NA               NA          NA\n",
            "ProductRelated_Duration          NA           NA               NA          NA\n",
            "BounceRates                      NA           NA               NA          NA\n",
            "ExitRates                        NA           NA               NA          NA\n",
            "PageValues              344.7868381 -0.234694947      0.313189202 1.453796030\n",
            "SpecialDay               -0.2346949  0.039568082      0.002293575 0.001195158\n",
            "OperatingSystems          0.3131892  0.002293575      0.830512943 0.349014473\n",
            "Browser                   1.4537960  0.001195158      0.349014473 2.949039180\n",
            "Region                    0.5045921 -0.007690292      0.168033110 0.401667259\n",
            "TrafficType               0.9366325  0.041876493      0.693860202 0.773753848\n",
            "                              Region TrafficType\n",
            "Administrative                    NA          NA\n",
            "Administrative_Duration           NA          NA\n",
            "Informational                     NA          NA\n",
            "Informational_Duration            NA          NA\n",
            "ProductRelated                    NA          NA\n",
            "ProductRelated_Duration           NA          NA\n",
            "BounceRates                       NA          NA\n",
            "ExitRates                         NA          NA\n",
            "PageValues               0.504592141  0.93663247\n",
            "SpecialDay              -0.007690292  0.04187649\n",
            "OperatingSystems         0.168033110  0.69386020\n",
            "Browser                  0.401667259  0.77375385\n",
            "Region                   5.767640468  0.45936909\n",
            "TrafficType              0.459369094 16.20198677\n"
          ],
          "name": "stdout"
        }
      ]
    },
    {
      "cell_type": "markdown",
      "metadata": {
        "id": "9FsAwRzMBSPD"
      },
      "source": [
        "There are positive covariance relations between the following Variables:\n",
        "1. Page Values and Opearating Systems\n",
        "2. Page Values and Browser\n",
        "3. Page Values and Region\n",
        "4. Page Values and TrafficType\n",
        "5. Special Day and Operating Systems\n",
        "6. Special Day and Browser\n",
        "7. Special Day and TrafficType\n",
        "8. Operating Systems and Browser\n",
        "9. Operating Systems and Region\n",
        "10. Operating Systems and TrafficType\n",
        "11. ...etc\n",
        "\n",
        "The rest indicate negative or no covariance relationships."
      ]
    },
    {
      "cell_type": "markdown",
      "metadata": {
        "id": "yGer67uEbq0x"
      },
      "source": [
        "# 2.Correlation"
      ]
    },
    {
      "cell_type": "code",
      "metadata": {
        "id": "3p5xs1hUaf5s",
        "outputId": "686307e2-c4ab-4184-b52b-67733618f547",
        "colab": {
          "base_uri": "https://localhost:8080/"
        }
      },
      "source": [
        "%%R\n",
        "cor(Numeric)"
      ],
      "execution_count": null,
      "outputs": [
        {
          "output_type": "stream",
          "text": [
            "                        Administrative Administrative_Duration Informational\n",
            "Administrative                       1                      NA            NA\n",
            "Administrative_Duration             NA                       1            NA\n",
            "Informational                       NA                      NA             1\n",
            "Informational_Duration              NA                      NA            NA\n",
            "ProductRelated                      NA                      NA            NA\n",
            "ProductRelated_Duration             NA                      NA            NA\n",
            "BounceRates                         NA                      NA            NA\n",
            "ExitRates                           NA                      NA            NA\n",
            "PageValues                          NA                      NA            NA\n",
            "SpecialDay                          NA                      NA            NA\n",
            "OperatingSystems                    NA                      NA            NA\n",
            "Browser                             NA                      NA            NA\n",
            "Region                              NA                      NA            NA\n",
            "TrafficType                         NA                      NA            NA\n",
            "                        Informational_Duration ProductRelated\n",
            "Administrative                              NA             NA\n",
            "Administrative_Duration                     NA             NA\n",
            "Informational                               NA             NA\n",
            "Informational_Duration                       1             NA\n",
            "ProductRelated                              NA              1\n",
            "ProductRelated_Duration                     NA             NA\n",
            "BounceRates                                 NA             NA\n",
            "ExitRates                                   NA             NA\n",
            "PageValues                                  NA             NA\n",
            "SpecialDay                                  NA             NA\n",
            "OperatingSystems                            NA             NA\n",
            "Browser                                     NA             NA\n",
            "Region                                      NA             NA\n",
            "TrafficType                                 NA             NA\n",
            "                        ProductRelated_Duration BounceRates ExitRates\n",
            "Administrative                               NA          NA        NA\n",
            "Administrative_Duration                      NA          NA        NA\n",
            "Informational                                NA          NA        NA\n",
            "Informational_Duration                       NA          NA        NA\n",
            "ProductRelated                               NA          NA        NA\n",
            "ProductRelated_Duration                       1          NA        NA\n",
            "BounceRates                                  NA           1        NA\n",
            "ExitRates                                    NA          NA         1\n",
            "PageValues                                   NA          NA        NA\n",
            "SpecialDay                                   NA          NA        NA\n",
            "OperatingSystems                             NA          NA        NA\n",
            "Browser                                      NA          NA        NA\n",
            "Region                                       NA          NA        NA\n",
            "TrafficType                                  NA          NA        NA\n",
            "                         PageValues   SpecialDay OperatingSystems     Browser\n",
            "Administrative                   NA           NA               NA          NA\n",
            "Administrative_Duration          NA           NA               NA          NA\n",
            "Informational                    NA           NA               NA          NA\n",
            "Informational_Duration           NA           NA               NA          NA\n",
            "ProductRelated                   NA           NA               NA          NA\n",
            "ProductRelated_Duration          NA           NA               NA          NA\n",
            "BounceRates                      NA           NA               NA          NA\n",
            "ExitRates                        NA           NA               NA          NA\n",
            "PageValues               1.00000000 -0.063541272       0.01850795 0.045591919\n",
            "SpecialDay              -0.06354127  1.000000000       0.01265223 0.003498747\n",
            "OperatingSystems         0.01850795  0.012652235       1.00000000 0.223012888\n",
            "Browser                  0.04559192  0.003498747       0.22301289 1.000000000\n",
            "Region                   0.01131530 -0.016097975       0.07677549 0.097392849\n",
            "TrafficType              0.01253169  0.052301443       0.18915361 0.111938224\n",
            "                             Region TrafficType\n",
            "Administrative                   NA          NA\n",
            "Administrative_Duration          NA          NA\n",
            "Informational                    NA          NA\n",
            "Informational_Duration           NA          NA\n",
            "ProductRelated                   NA          NA\n",
            "ProductRelated_Duration          NA          NA\n",
            "BounceRates                      NA          NA\n",
            "ExitRates                        NA          NA\n",
            "PageValues               0.01131530  0.01253169\n",
            "SpecialDay              -0.01609797  0.05230144\n",
            "OperatingSystems         0.07677549  0.18915361\n",
            "Browser                  0.09739285  0.11193822\n",
            "Region                   1.00000000  0.04752023\n",
            "TrafficType              0.04752023  1.00000000\n"
          ],
          "name": "stdout"
        }
      ]
    },
    {
      "cell_type": "markdown",
      "metadata": {
        "id": "0lqDU942CnaH"
      },
      "source": [
        "The correlation inicate both negative, positive and no correlations between variables."
      ]
    },
    {
      "cell_type": "code",
      "metadata": {
        "id": "-WOMbhjNDEk3",
        "outputId": "f1377c57-e763-4f41-8c86-37ac510ca3f0",
        "colab": {
          "base_uri": "https://localhost:8080/"
        }
      },
      "source": [
        "%%R\n",
        "#Installing the Correlation Plot Library\n",
        "install.packages(\"corrplot\")"
      ],
      "execution_count": null,
      "outputs": [
        {
          "output_type": "stream",
          "text": [
            "R[write to console]: Installing package into ‘/usr/local/lib/R/site-library’\n",
            "(as ‘lib’ is unspecified)\n",
            "\n",
            "R[write to console]: trying URL 'https://cran.rstudio.com/src/contrib/corrplot_0.84.tar.gz'\n",
            "\n",
            "R[write to console]: Content type 'application/x-gzip'\n",
            "R[write to console]:  length 5385275 bytes (5.1 MB)\n",
            "\n",
            "R[write to console]: =\n",
            "R[write to console]: =\n",
            "R[write to console]: =\n",
            "R[write to console]: =\n",
            "R[write to console]: =\n",
            "R[write to console]: =\n",
            "R[write to console]: =\n",
            "R[write to console]: =\n",
            "R[write to console]: =\n",
            "R[write to console]: =\n",
            "R[write to console]: =\n",
            "R[write to console]: =\n",
            "R[write to console]: =\n",
            "R[write to console]: =\n",
            "R[write to console]: =\n",
            "R[write to console]: =\n",
            "R[write to console]: =\n",
            "R[write to console]: =\n",
            "R[write to console]: =\n",
            "R[write to console]: =\n",
            "R[write to console]: =\n",
            "R[write to console]: =\n",
            "R[write to console]: =\n",
            "R[write to console]: =\n",
            "R[write to console]: =\n",
            "R[write to console]: =\n",
            "R[write to console]: =\n",
            "R[write to console]: =\n",
            "R[write to console]: =\n",
            "R[write to console]: =\n",
            "R[write to console]: =\n",
            "R[write to console]: =\n",
            "R[write to console]: =\n",
            "R[write to console]: =\n",
            "R[write to console]: =\n",
            "R[write to console]: =\n",
            "R[write to console]: =\n",
            "R[write to console]: =\n",
            "R[write to console]: =\n",
            "R[write to console]: =\n",
            "R[write to console]: =\n",
            "R[write to console]: =\n",
            "R[write to console]: =\n",
            "R[write to console]: =\n",
            "R[write to console]: =\n",
            "R[write to console]: =\n",
            "R[write to console]: =\n",
            "R[write to console]: =\n",
            "R[write to console]: =\n",
            "R[write to console]: =\n",
            "R[write to console]: \n",
            "\n",
            "R[write to console]: downloaded 5.1 MB\n",
            "\n",
            "\n",
            "R[write to console]: \n",
            "\n",
            "R[write to console]: \n",
            "R[write to console]: The downloaded source packages are in\n",
            "\t‘/tmp/RtmpT8iStO/downloaded_packages’\n",
            "R[write to console]: \n",
            "R[write to console]: \n",
            "\n"
          ],
          "name": "stderr"
        }
      ]
    },
    {
      "cell_type": "code",
      "metadata": {
        "id": "kW6Ss6phzkfc",
        "outputId": "5582a45d-355c-4a84-b67d-bf82e059b87d",
        "colab": {
          "base_uri": "https://localhost:8080/",
          "height": 497
        }
      },
      "source": [
        "%%R\n",
        "library(corrplot)\n",
        "corrplot(cor(Numeric), type = 'upper', method = 'number', tl.cex = 0.9)"
      ],
      "execution_count": null,
      "outputs": [
        {
          "output_type": "display_data",
          "data": {
            "image/png": "[encoded data removed]"
          },
          "metadata": {
            "tags": []
          }
        }
      ]
    },
    {
      "cell_type": "code",
      "metadata": {
        "id": "bSb4-wXMPj8-",
        "outputId": "cf3ba13a-7c67-42f5-ca16-b3a252155ddb",
        "colab": {
          "base_uri": "https://localhost:8080/"
        }
      },
      "source": [
        "%%R\n",
        "install.packages(\"PerformanceAnalytics\")\n",
        "library(\"PerformanceAnalytics\")"
      ],
      "execution_count": null,
      "outputs": [
        {
          "output_type": "stream",
          "text": [
            "R[write to console]: Installing package into ‘/usr/local/lib/R/site-library’\n",
            "(as ‘lib’ is unspecified)\n",
            "\n",
            "R[write to console]: also installing the dependencies ‘xts’, ‘quadprog’, ‘zoo’\n",
            "\n",
            "\n",
            "R[write to console]: trying URL 'https://cran.rstudio.com/src/contrib/xts_0.12.1.tar.gz'\n",
            "\n",
            "R[write to console]: Content type 'application/x-gzip'\n",
            "R[write to console]:  length 517875 bytes (505 KB)\n",
            "\n",
            "R[write to console]: =\n",
            "R[write to console]: =\n",
            "R[write to console]: =\n",
            "R[write to console]: =\n",
            "R[write to console]: =\n",
            "R[write to console]: =\n",
            "R[write to console]: =\n",
            "R[write to console]: =\n",
            "R[write to console]: =\n",
            "R[write to console]: =\n",
            "R[write to console]: =\n",
            "R[write to console]: =\n",
            "R[write to console]: =\n",
            "R[write to console]: =\n",
            "R[write to console]: =\n",
            "R[write to console]: =\n",
            "R[write to console]: =\n",
            "R[write to console]: =\n",
            "R[write to console]: =\n",
            "R[write to console]: =\n",
            "R[write to console]: =\n",
            "R[write to console]: =\n",
            "R[write to console]: =\n",
            "R[write to console]: =\n",
            "R[write to console]: =\n",
            "R[write to console]: =\n",
            "R[write to console]: =\n",
            "R[write to console]: =\n",
            "R[write to console]: =\n",
            "R[write to console]: =\n",
            "R[write to console]: =\n",
            "R[write to console]: =\n",
            "R[write to console]: =\n",
            "R[write to console]: =\n",
            "R[write to console]: =\n",
            "R[write to console]: =\n",
            "R[write to console]: =\n",
            "R[write to console]: =\n",
            "R[write to console]: =\n",
            "R[write to console]: =\n",
            "R[write to console]: =\n",
            "R[write to console]: =\n",
            "R[write to console]: =\n",
            "R[write to console]: =\n",
            "R[write to console]: =\n",
            "R[write to console]: =\n",
            "R[write to console]: =\n",
            "R[write to console]: =\n",
            "R[write to console]: =\n",
            "R[write to console]: =\n",
            "R[write to console]: \n",
            "\n",
            "R[write to console]: downloaded 505 KB\n",
            "\n",
            "\n",
            "R[write to console]: trying URL 'https://cran.rstudio.com/src/contrib/quadprog_1.5-8.tar.gz'\n",
            "\n",
            "R[write to console]: Content type 'application/x-gzip'\n",
            "R[write to console]:  length 36141 bytes (35 KB)\n",
            "\n",
            "R[write to console]: =\n",
            "R[write to console]: =\n",
            "R[write to console]: =\n",
            "R[write to console]: =\n",
            "R[write to console]: =\n",
            "R[write to console]: =\n",
            "R[write to console]: =\n",
            "R[write to console]: =\n",
            "R[write to console]: =\n",
            "R[write to console]: =\n",
            "R[write to console]: =\n",
            "R[write to console]: =\n",
            "R[write to console]: =\n",
            "R[write to console]: =\n",
            "R[write to console]: =\n",
            "R[write to console]: =\n",
            "R[write to console]: =\n",
            "R[write to console]: =\n",
            "R[write to console]: =\n",
            "R[write to console]: =\n",
            "R[write to console]: =\n",
            "R[write to console]: =\n",
            "R[write to console]: =\n",
            "R[write to console]: =\n",
            "R[write to console]: =\n",
            "R[write to console]: =\n",
            "R[write to console]: =\n",
            "R[write to console]: =\n",
            "R[write to console]: =\n",
            "R[write to console]: =\n",
            "R[write to console]: =\n",
            "R[write to console]: =\n",
            "R[write to console]: =\n",
            "R[write to console]: =\n",
            "R[write to console]: =\n",
            "R[write to console]: =\n",
            "R[write to console]: =\n",
            "R[write to console]: =\n",
            "R[write to console]: =\n",
            "R[write to console]: =\n",
            "R[write to console]: =\n",
            "R[write to console]: =\n",
            "R[write to console]: =\n",
            "R[write to console]: =\n",
            "R[write to console]: =\n",
            "R[write to console]: =\n",
            "R[write to console]: =\n",
            "R[write to console]: =\n",
            "R[write to console]: =\n",
            "R[write to console]: =\n",
            "R[write to console]: \n",
            "\n",
            "R[write to console]: downloaded 35 KB\n",
            "\n",
            "\n",
            "R[write to console]: trying URL 'https://cran.rstudio.com/src/contrib/zoo_1.8-8.tar.gz'\n",
            "\n",
            "R[write to console]: Content type 'application/x-gzip'\n",
            "R[write to console]:  length 849487 bytes (829 KB)\n",
            "\n",
            "R[write to console]: =\n",
            "R[write to console]: =\n",
            "R[write to console]: =\n",
            "R[write to console]: =\n",
            "R[write to console]: =\n",
            "R[write to console]: =\n",
            "R[write to console]: =\n",
            "R[write to console]: =\n",
            "R[write to console]: =\n",
            "R[write to console]: =\n",
            "R[write to console]: =\n",
            "R[write to console]: =\n",
            "R[write to console]: =\n",
            "R[write to console]: =\n",
            "R[write to console]: =\n",
            "R[write to console]: =\n",
            "R[write to console]: =\n",
            "R[write to console]: =\n",
            "R[write to console]: =\n",
            "R[write to console]: =\n",
            "R[write to console]: =\n",
            "R[write to console]: =\n",
            "R[write to console]: =\n",
            "R[write to console]: =\n",
            "R[write to console]: =\n",
            "R[write to console]: =\n",
            "R[write to console]: =\n",
            "R[write to console]: =\n",
            "R[write to console]: =\n",
            "R[write to console]: =\n",
            "R[write to console]: =\n",
            "R[write to console]: =\n",
            "R[write to console]: =\n",
            "R[write to console]: =\n",
            "R[write to console]: =\n",
            "R[write to console]: =\n",
            "R[write to console]: =\n",
            "R[write to console]: =\n",
            "R[write to console]: =\n",
            "R[write to console]: =\n",
            "R[write to console]: =\n",
            "R[write to console]: =\n",
            "R[write to console]: =\n",
            "R[write to console]: =\n",
            "R[write to console]: =\n",
            "R[write to console]: =\n",
            "R[write to console]: =\n",
            "R[write to console]: =\n",
            "R[write to console]: =\n",
            "R[write to console]: =\n",
            "R[write to console]: \n",
            "\n",
            "R[write to console]: downloaded 829 KB\n",
            "\n",
            "\n",
            "R[write to console]: trying URL 'https://cran.rstudio.com/src/contrib/PerformanceAnalytics_2.0.4.tar.gz'\n",
            "\n",
            "R[write to console]: Content type 'application/x-gzip'\n",
            "R[write to console]:  length 2455098 bytes (2.3 MB)\n",
            "\n",
            "R[write to console]: =\n",
            "R[write to console]: =\n",
            "R[write to console]: =\n",
            "R[write to console]: =\n",
            "R[write to console]: =\n",
            "R[write to console]: =\n",
            "R[write to console]: =\n",
            "R[write to console]: =\n",
            "R[write to console]: =\n",
            "R[write to console]: =\n",
            "R[write to console]: =\n",
            "R[write to console]: =\n",
            "R[write to console]: =\n",
            "R[write to console]: =\n",
            "R[write to console]: =\n",
            "R[write to console]: =\n",
            "R[write to console]: =\n",
            "R[write to console]: =\n",
            "R[write to console]: =\n",
            "R[write to console]: =\n",
            "R[write to console]: =\n",
            "R[write to console]: =\n",
            "R[write to console]: =\n",
            "R[write to console]: =\n",
            "R[write to console]: =\n",
            "R[write to console]: =\n",
            "R[write to console]: =\n",
            "R[write to console]: =\n",
            "R[write to console]: =\n",
            "R[write to console]: =\n",
            "R[write to console]: =\n",
            "R[write to console]: =\n",
            "R[write to console]: =\n",
            "R[write to console]: =\n",
            "R[write to console]: =\n",
            "R[write to console]: =\n",
            "R[write to console]: =\n",
            "R[write to console]: =\n",
            "R[write to console]: =\n",
            "R[write to console]: =\n",
            "R[write to console]: =\n",
            "R[write to console]: =\n",
            "R[write to console]: =\n",
            "R[write to console]: =\n",
            "R[write to console]: =\n",
            "R[write to console]: =\n",
            "R[write to console]: =\n",
            "R[write to console]: =\n",
            "R[write to console]: =\n",
            "R[write to console]: =\n",
            "R[write to console]: \n",
            "\n",
            "R[write to console]: downloaded 2.3 MB\n",
            "\n",
            "\n",
            "R[write to console]: \n",
            "\n",
            "R[write to console]: \n",
            "R[write to console]: The downloaded source packages are in\n",
            "\t‘/tmp/RtmpT8iStO/downloaded_packages’\n",
            "R[write to console]: \n",
            "R[write to console]: \n",
            "\n",
            "R[write to console]: Loading required package: xts\n",
            "\n",
            "R[write to console]: Loading required package: zoo\n",
            "\n",
            "R[write to console]: \n",
            "Attaching package: ‘zoo’\n",
            "\n",
            "\n",
            "R[write to console]: The following objects are masked from ‘package:base’:\n",
            "\n",
            "    as.Date, as.Date.numeric\n",
            "\n",
            "\n",
            "R[write to console]: \n",
            "Attaching package: ‘xts’\n",
            "\n",
            "\n",
            "R[write to console]: The following objects are masked from ‘package:dplyr’:\n",
            "\n",
            "    first, last\n",
            "\n",
            "\n",
            "R[write to console]: \n",
            "Attaching package: ‘PerformanceAnalytics’\n",
            "\n",
            "\n",
            "R[write to console]: The following object is masked from ‘package:graphics’:\n",
            "\n",
            "    legend\n",
            "\n",
            "\n"
          ],
          "name": "stderr"
        }
      ]
    },
    {
      "cell_type": "code",
      "metadata": {
        "id": "gzrWWRG4Pofy",
        "outputId": "700c5267-1250-4559-d41d-f78c762c64ca",
        "colab": {
          "base_uri": "https://localhost:8080/",
          "height": 497
        }
      },
      "source": [
        "%%R\n",
        "chart.Correlation(Numeric, histogram=TRUE, pch=30)"
      ],
      "execution_count": null,
      "outputs": [
        {
          "output_type": "display_data",
          "data": {
            "image/png": "[encoded data removed]"
          },
          "metadata": {
            "tags": []
          }
        }
      ]
    },
    {
      "cell_type": "markdown",
      "metadata": {
        "id": "asKGz7zQb6uz"
      },
      "source": [
        "# 3.Scatter Plots"
      ]
    },
    {
      "cell_type": "code",
      "metadata": {
        "id": "RGjOkcBncDz6",
        "outputId": "e0cb76ad-43ce-4823-e7f4-e7fe94f247a7",
        "colab": {
          "base_uri": "https://localhost:8080/",
          "height": 497
        }
      },
      "source": [
        "%%R\n",
        "ADM_D<-my_data$Administrative_Duration\n",
        "ADM_D\n",
        "I_D<-my_data$Informational_Duration\n",
        "I_D\n",
        "plot(ADM_D, I_D, xlab=\"Time Spent on Administrative Site\", ylab=\"Time Spent on Informational Site\")\n"
      ],
      "execution_count": null,
      "outputs": [
        {
          "output_type": "display_data",
          "data": {
            "image/png": "[encoded data removed]"
          },
          "metadata": {
            "tags": []
          }
        }
      ]
    },
    {
      "cell_type": "code",
      "metadata": {
        "id": "-llgGLEnhAsi",
        "outputId": "41085482-d134-4f1b-ec36-8212dcc0df0a",
        "colab": {
          "base_uri": "https://localhost:8080/",
          "height": 497
        }
      },
      "source": [
        "%%R\n",
        "ADM_D<-my_data$Administrative_Duration\n",
        "ADM_D\n",
        "Bounce<-my_data$BounceRates\n",
        "Bounce\n",
        "plot(ADM_D, Bounce, xlab=\"Time Spent on Administrative Site\", ylab=\"Bounce Rates\")"
      ],
      "execution_count": null,
      "outputs": [
        {
          "output_type": "display_data",
          "data": {
            "image/png": "[encoded data removed]"
          },
          "metadata": {
            "tags": []
          }
        }
      ]
    },
    {
      "cell_type": "code",
      "metadata": {
        "id": "sNrwAAo_fQML",
        "outputId": "fe091620-63e2-46ab-dbb2-539c378165b0",
        "colab": {
          "base_uri": "https://localhost:8080/",
          "height": 497
        }
      },
      "source": [
        "%%R\n",
        "Revenue<-my_data$Revenue\n",
        "Revenue\n",
        "plot(ADM_D, Revenue, xlab=\"Time Spent on Administrative Site\", ylab=\"Revenue\")"
      ],
      "execution_count": null,
      "outputs": [
        {
          "output_type": "display_data",
          "data": {
            "image/png": "[encoded data removed]"
          },
          "metadata": {
            "tags": []
          }
        }
      ]
    },
    {
      "cell_type": "code",
      "metadata": {
        "id": "QJmL6cM0g-Dw",
        "outputId": "9bb1166a-a270-47c5-b489-450dd955e41c",
        "colab": {
          "base_uri": "https://localhost:8080/",
          "height": 497
        }
      },
      "source": [
        "%%R\n",
        "Bounce<-my_data$BounceRates\n",
        "Bounce\n",
        "Exit<-my_data$ExitRates\n",
        "Exit\n",
        "plot(Exit, Bounce, xlab=\"Exit Rates\", ylab=\"Bounce Rates\")\n",
        "#There is a positive linear relationship between the Exit and Bounce rates"
      ],
      "execution_count": null,
      "outputs": [
        {
          "output_type": "display_data",
          "data": {
            "image/png": "[encoded data removed]"
          },
          "metadata": {
            "tags": []
          }
        }
      ]
    },
    {
      "cell_type": "code",
      "metadata": {
        "id": "HwURfgUemUW8",
        "outputId": "a8ec6553-c921-4889-91c9-bc51de09b8f6",
        "colab": {
          "base_uri": "https://localhost:8080/",
          "height": 497
        }
      },
      "source": [
        "%%R\n",
        "Product<-my_data$ProductRelated\n",
        "Product\n",
        "plot(Product, Bounce, xlab=\"Product Related\", ylab=\"Bounce Rates\")"
      ],
      "execution_count": null,
      "outputs": [
        {
          "output_type": "display_data",
          "data": {
            "image/png": "[encoded data removed]"
          },
          "metadata": {
            "tags": []
          }
        }
      ]
    },
    {
      "cell_type": "code",
      "metadata": {
        "id": "6E1HRr1RnK8A",
        "outputId": "b5246801-f89a-4a2c-c4c2-8ead0de4a865",
        "colab": {
          "base_uri": "https://localhost:8080/",
          "height": 497
        }
      },
      "source": [
        "%%R\n",
        "Page<-my_data$PageValues\n",
        "Page\n",
        "plot(Page, Bounce, xlab=\"Page Values\", ylab=\"Bounce Rates\")"
      ],
      "execution_count": null,
      "outputs": [
        {
          "output_type": "display_data",
          "data": {
            "image/png": "[encoded data removed]"
          },
          "metadata": {
            "tags": []
          }
        }
      ]
    },
    {
      "cell_type": "code",
      "metadata": {
        "id": "RajA3leCnf-q",
        "outputId": "7f7498de-77cd-41d0-9a23-723811e3dc53",
        "colab": {
          "base_uri": "https://localhost:8080/",
          "height": 497
        }
      },
      "source": [
        "%%R\n",
        "Special<-my_data$SpecialDay\n",
        "Special\n",
        "plot(Special, Bounce, xlab=\"Special Day\", ylab=\"Bounce Rates\")"
      ],
      "execution_count": null,
      "outputs": [
        {
          "output_type": "display_data",
          "data": {
            "image/png": "[encoded data removed]"
          },
          "metadata": {
            "tags": []
          }
        }
      ]
    },
    {
      "cell_type": "code",
      "metadata": {
        "id": "6y4UAmUsnzce",
        "outputId": "de7a45a7-9cee-4a37-887c-badcf39a072a",
        "colab": {
          "base_uri": "https://localhost:8080/",
          "height": 497
        }
      },
      "source": [
        "%%R\n",
        "OS<-my_data$OperatingSystems\n",
        "OS\n",
        "plot(OS, Bounce, xlab=\"Operating System\", ylab=\"Bounce Rates\")"
      ],
      "execution_count": null,
      "outputs": [
        {
          "output_type": "display_data",
          "data": {
            "image/png": "[encoded data removed]"
          },
          "metadata": {
            "tags": []
          }
        }
      ]
    },
    {
      "cell_type": "markdown",
      "metadata": {
        "id": "N1hneBfIoPG-"
      },
      "source": [
        "# Implementing the solution"
      ]
    },
    {
      "cell_type": "markdown",
      "metadata": {
        "id": "BdLe7c4ipr3O"
      },
      "source": [
        "# 1.K-means Clustering"
      ]
    },
    {
      "cell_type": "code",
      "metadata": {
        "id": "0O2nAawWpzO5",
        "outputId": "e0c2528f-01e4-4675-973c-b010a167ea5b",
        "colab": {
          "base_uri": "https://localhost:8080/"
        }
      },
      "source": [
        "%%R\n",
        "my_data.new<-my_data[, c(1:17)]\n",
        "my_data.class<- my_data[, \"Revenue\"]\n",
        "head(my_data.new)\n"
      ],
      "execution_count": null,
      "outputs": [
        {
          "output_type": "stream",
          "text": [
            "# A tibble: 6 x 17\n",
            "  Administrative Administrative_… Informational Informational_D… ProductRelated\n",
            "           <int>            <dbl>         <int>            <dbl>          <int>\n",
            "1              0                0             0                0              1\n",
            "2              0                0             0                0              2\n",
            "3              0               -1             0               -1              1\n",
            "4              0                0             0                0              2\n",
            "5              0                0             0                0             10\n",
            "6              0                0             0                0             19\n",
            "# … with 12 more variables: ProductRelated_Duration <dbl>, BounceRates <dbl>,\n",
            "#   ExitRates <dbl>, PageValues <dbl>, SpecialDay <dbl>, Month <chr>,\n",
            "#   OperatingSystems <int>, Browser <int>, Region <int>, TrafficType <int>,\n",
            "#   VisitorType <chr>, Weekend <lgl>\n"
          ],
          "name": "stdout"
        }
      ]
    },
    {
      "cell_type": "code",
      "metadata": {
        "id": "--6NFrJqoUS5",
        "outputId": "c53ed007-eca4-4568-c426-26052c93d0be",
        "colab": {
          "base_uri": "https://localhost:8080/"
        }
      },
      "source": [
        "%%R\n",
        "head(my_data.class)\n"
      ],
      "execution_count": null,
      "outputs": [
        {
          "output_type": "stream",
          "text": [
            "# A tibble: 6 x 1\n",
            "  Revenue\n",
            "  <lgl>  \n",
            "1 FALSE  \n",
            "2 FALSE  \n",
            "3 FALSE  \n",
            "4 FALSE  \n",
            "5 FALSE  \n",
            "6 FALSE  \n"
          ],
          "name": "stdout"
        }
      ]
    },
    {
      "cell_type": "code",
      "metadata": {
        "id": "662kn_4vySSU",
        "outputId": "e5628019-d882-4748-921c-f7cd34a9914c",
        "colab": {
          "base_uri": "https://localhost:8080/"
        }
      },
      "source": [
        "%%R\n",
        "#Scaling the data\n",
        "my_data_Norm <- as.data.frame(scale(Numeric))\n",
        "head(my_data_Norm)"
      ],
      "execution_count": null,
      "outputs": [
        {
          "output_type": "stream",
          "text": [
            "  Administrative Administrative_Duration Informational Informational_Duration\n",
            "1     -0.6975533              -0.4574578    -0.3966145             -0.2450294\n",
            "2     -0.6975533              -0.4574578    -0.3966145             -0.2450294\n",
            "3     -0.6975533              -0.4631119    -0.3966145             -0.2521304\n",
            "4     -0.6975533              -0.4574578    -0.3966145             -0.2450294\n",
            "5     -0.6975533              -0.4574578    -0.3966145             -0.2450294\n",
            "6     -0.6975533              -0.4574578    -0.3966145             -0.2450294\n",
            "  ProductRelated ProductRelated_Duration BounceRates  ExitRates PageValues\n",
            "1     -0.6914734              -0.6247671  3.67247746  3.2352400  -0.317165\n",
            "2     -0.6689966              -0.5913358 -0.45743910  1.1745443  -0.317165\n",
            "3     -0.6914734              -0.6252895  3.67247746  3.2352400  -0.317165\n",
            "4     -0.6689966              -0.6233742  0.57504004  1.9988226  -0.317165\n",
            "5     -0.4891823              -0.2969835 -0.04444744  0.1441964  -0.317165\n",
            "6     -0.2868911              -0.5442099 -0.13139305 -0.3800157  -0.317165\n",
            "  SpecialDay OperatingSystems    Browser     Region TrafficType\n",
            "1 -0.3088088       -1.2333763 -0.7902608 -0.8941422 -0.76259811\n",
            "2 -0.3088088       -0.1360728 -0.2079435 -0.8941422 -0.51416134\n",
            "3 -0.3088088        2.0585344 -0.7902608  2.4369825 -0.26572458\n",
            "4 -0.3088088        0.9612308 -0.2079435 -0.4777516 -0.01728781\n",
            "5 -0.3088088        0.9612308  0.3743739 -0.8941422 -0.01728781\n",
            "6 -0.3088088       -0.1360728 -0.2079435 -0.8941422 -0.26572458\n"
          ],
          "name": "stdout"
        }
      ]
    },
    {
      "cell_type": "code",
      "metadata": {
        "id": "wEg-IBED5zcv",
        "outputId": "e5051fe7-dfa0-4403-cb0b-a1694bd2bf9b",
        "colab": {
          "base_uri": "https://localhost:8080/"
        }
      },
      "source": [
        "%%R\n",
        "set.seed(123)\n",
        "\n",
        "K5 <- kmeans(my_data_Norm, centers = 5, nstart = 25)\n",
        "print(K5)\n",
        "K6 <- kmeans(my_data_Norm, centers = 6, nstart = 25)\n",
        "k6\n",
        "K7 <- kmeans(my_data_Norm, centers = 7, nstart = 25)\n",
        "k7\n",
        "K8 <- kmeans(my_data_Norm, centers = 8, nstart = 25)\n",
        "k8\n",
        "k9<-kmeans(my_data_Norm, centers = 9, nstart = 25)\n",
        "k9"
      ],
      "execution_count": null,
      "outputs": [
        {
          "output_type": "stream",
          "text": [
            "R[write to console]: Error in do_one(nmeth) : NA/NaN/Inf in foreign function call (arg 1)\n",
            "Calls: <Anonymous> -> <Anonymous> -> withVisible -> kmeans -> do_one\n",
            "\n"
          ],
          "name": "stderr"
        },
        {
          "output_type": "stream",
          "text": [
            "\n",
            "Error in do_one(nmeth) : NA/NaN/Inf in foreign function call (arg 1)\n",
            "Calls: <Anonymous> -> <Anonymous> -> withVisible -> kmeans -> do_one\n"
          ],
          "name": "stdout"
        }
      ]
    },
    {
      "cell_type": "code",
      "metadata": {
        "id": "hitaHSsW9fj6",
        "outputId": "e098effb-8783-4cfa-95ed-e4d1c342219a",
        "colab": {
          "base_uri": "https://localhost:8080/"
        }
      },
      "source": [
        "%%R\n",
        "plot5 <- fviz_cluster(wines_K5, geom = \"point\", data = my_data_Norm) + ggtitle(\" K = 5\")\n",
        "plot6 <- fviz_cluster(wines_K3, geom = \"point\", data = my_data_Norm) + ggtitle(\" K = 6\")\n",
        "plot7 <- fviz_cluster(wines_K4, geom = \"point\", data = my_data_Norm) + ggtitle(\" K = 7\")\n",
        "plot8 <- fviz_cluster(wines_K5, geom = \"point\", data = my_data_Norm) + ggtitle(\" K = 8\")\n",
        "plot9 <- fviz_cluster(wines_K5, geom = \"point\", data = my_data_Norm) + ggtitle(\" K = 9\")\n",
        "\n",
        "grid.arrange(p5, p6, p7, p8, p9, nrow = 2)\n"
      ],
      "execution_count": null,
      "outputs": [
        {
          "output_type": "stream",
          "text": [
            "R[write to console]: Error in fviz_cluster(wines_K5, geom = \"point\", data = my_data_Norm) : \n",
            "  could not find function \"fviz_cluster\"\n",
            "Calls: <Anonymous> -> <Anonymous> -> withVisible\n",
            "\n"
          ],
          "name": "stderr"
        },
        {
          "output_type": "stream",
          "text": [
            "\n",
            "Error in fviz_cluster(wines_K5, geom = \"point\", data = my_data_Norm) : \n",
            "  could not find function \"fviz_cluster\"\n",
            "Calls: <Anonymous> -> <Anonymous> -> withVisible\n"
          ],
          "name": "stdout"
        }
      ]
    },
    {
      "cell_type": "code",
      "metadata": {
        "id": "WuPpclSO-OL5",
        "outputId": "a18417e8-7921-42d4-da01-8015f8ee5b7b",
        "colab": {
          "base_uri": "https://localhost:8080/"
        }
      },
      "source": [
        "%%R\n",
        "#Determining the optimal k means\n",
        "fviz_nbclust(x = my_data_Norm,FUNcluster = kmeans, method = 'silhouette' )"
      ],
      "execution_count": null,
      "outputs": [
        {
          "output_type": "stream",
          "text": [
            "R[write to console]: Error in fviz_nbclust(x = my_data_Norm, FUNcluster = kmeans, method = \"silhouette\") : \n",
            "  could not find function \"fviz_nbclust\"\n",
            "Calls: <Anonymous> -> <Anonymous> -> withVisible\n",
            "\n"
          ],
          "name": "stderr"
        },
        {
          "output_type": "stream",
          "text": [
            "\n",
            "Error in fviz_nbclust(x = my_data_Norm, FUNcluster = kmeans, method = \"silhouette\") : \n",
            "  could not find function \"fviz_nbclust\"\n",
            "Calls: <Anonymous> -> <Anonymous> -> withVisible\n"
          ],
          "name": "stdout"
        }
      ]
    },
    {
      "cell_type": "code",
      "metadata": {
        "id": "BGfDv_Xc-xO1",
        "outputId": "48af7100-1c98-48eb-e74b-8a3ac34a3ec1",
        "colab": {
          "base_uri": "https://localhost:8080/"
        }
      },
      "source": [
        "%%R\n",
        "set.seed(123)\n",
        "gap_stat <- clusGap(x = my_data_Norm, FUN = kmeans, K.max = 15, nstart = 25, B = 50 )\n",
        "\n",
        "# Print the result\n",
        "print(gap_stat, method = \"firstmax\")"
      ],
      "execution_count": null,
      "outputs": [
        {
          "output_type": "stream",
          "text": [
            "R[write to console]: Error in clusGap(x = my_data_Norm, FUN = kmeans, K.max = 15, nstart = 25,  : \n",
            "  could not find function \"clusGap\"\n",
            "Calls: <Anonymous> -> <Anonymous> -> withVisible\n",
            "\n"
          ],
          "name": "stderr"
        },
        {
          "output_type": "stream",
          "text": [
            "\n",
            "Error in clusGap(x = my_data_Norm, FUN = kmeans, K.max = 15, nstart = 25,  : \n",
            "  could not find function \"clusGap\"\n",
            "Calls: <Anonymous> -> <Anonymous> -> withVisible\n"
          ],
          "name": "stdout"
        }
      ]
    },
    {
      "cell_type": "code",
      "metadata": {
        "id": "10AEnO-z-8Sk",
        "outputId": "092f680f-968d-4e46-8b09-6c2efa19f388",
        "colab": {
          "base_uri": "https://localhost:8080/"
        }
      },
      "source": [
        "%%R\n",
        "# plot the result to determine the optimal number of clusters.\n",
        "fviz_gap_stat(gap_stat)"
      ],
      "execution_count": null,
      "outputs": [
        {
          "output_type": "stream",
          "text": [
            "R[write to console]: Error in fviz_gap_stat(gap_stat) : \n",
            "  could not find function \"fviz_gap_stat\"\n",
            "Calls: <Anonymous> -> <Anonymous> -> withVisible\n",
            "\n"
          ],
          "name": "stderr"
        },
        {
          "output_type": "stream",
          "text": [
            "\n",
            "Error in fviz_gap_stat(gap_stat) : \n",
            "  could not find function \"fviz_gap_stat\"\n",
            "Calls: <Anonymous> -> <Anonymous> -> withVisible\n"
          ],
          "name": "stdout"
        }
      ]
    },
    {
      "cell_type": "code",
      "metadata": {
        "id": "sjH2uVYI6V37",
        "outputId": "bda83674-6c31-49f3-8f68-e8e2a98a2907",
        "colab": {
          "base_uri": "https://localhost:8080/"
        }
      },
      "source": [
        "%%R\n",
        "fviz_cluster(K10, data = my_data_Norm)"
      ],
      "execution_count": null,
      "outputs": [
        {
          "output_type": "stream",
          "text": [
            "R[write to console]: Error in fviz_cluster(K10, data = my_data_Norm) : \n",
            "  could not find function \"fviz_cluster\"\n",
            "Calls: <Anonymous> -> <Anonymous> -> withVisible\n",
            "\n"
          ],
          "name": "stderr"
        },
        {
          "output_type": "stream",
          "text": [
            "\n",
            "Error in fviz_cluster(K10, data = my_data_Norm) : \n",
            "  could not find function \"fviz_cluster\"\n",
            "Calls: <Anonymous> -> <Anonymous> -> withVisible\n"
          ],
          "name": "stdout"
        }
      ]
    },
    {
      "cell_type": "markdown",
      "metadata": {
        "id": "L_d7nhWW_VLS"
      },
      "source": [
        "# 2.Hierarchical Clustering"
      ]
    },
    {
      "cell_type": "code",
      "metadata": {
        "id": "Hfhp-hqE8syn"
      },
      "source": [
        "%%R\n",
        "#Finding the Euclidean Distance\n",
        "E_Distance<- dist(my_data_Norm, method = \"euclidean\")"
      ],
      "execution_count": null,
      "outputs": []
    },
    {
      "cell_type": "code",
      "metadata": {
        "id": "27mfdfg2YJJd",
        "outputId": "730bb073-952b-4adc-bb1c-4699814d92f6",
        "colab": {
          "base_uri": "https://localhost:8080/"
        }
      },
      "source": [
        "%%R\n",
        "#Fitting the model\n",
        "res.hc <- hclust(E_Distance, method = \"ward.D2\" )\n",
        "res.hc"
      ],
      "execution_count": null,
      "outputs": [
        {
          "output_type": "stream",
          "text": [
            "\n",
            "Call:\n",
            "hclust(d = E_Distance, method = \"ward.D2\")\n",
            "\n",
            "Cluster method   : ward.D2 \n",
            "Distance         : euclidean \n",
            "Number of objects: 12330 \n",
            "\n"
          ],
          "name": "stdout"
        }
      ]
    },
    {
      "cell_type": "code",
      "metadata": {
        "id": "ph3iDvN-YGwV",
        "outputId": "2f24f289-8a87-41fb-b32a-3f22ea113764",
        "colab": {
          "base_uri": "https://localhost:8080/",
          "height": 497
        }
      },
      "source": [
        "%%R\n",
        "#Plotting a Dendogram of the results\n",
        "plot(res.hc, cex = 0.6, hang = -1)"
      ],
      "execution_count": null,
      "outputs": [
        {
          "output_type": "display_data",
          "data": {
            "image/png": "[encoded data removed]"
          },
          "metadata": {
            "tags": []
          }
        }
      ]
    },
    {
      "cell_type": "markdown",
      "metadata": {
        "id": "XYnFRnhaXi12"
      },
      "source": [
        "# 3.DBSCAN Clustering"
      ]
    },
    {
      "cell_type": "code",
      "metadata": {
        "id": "DRrKXWg4Xrsi",
        "outputId": "8ad37877-caa0-4d91-b548-0e0c7edd2799",
        "colab": {
          "base_uri": "https://localhost:8080/"
        }
      },
      "source": [
        "%%R\n",
        "install.packages(\"dbscan\")"
      ],
      "execution_count": null,
      "outputs": [
        {
          "output_type": "stream",
          "text": [
            "R[write to console]: Installing package into ‘/usr/local/lib/R/site-library’\n",
            "(as ‘lib’ is unspecified)\n",
            "\n",
            "R[write to console]: trying URL 'https://cran.rstudio.com/src/contrib/dbscan_1.1-5.tar.gz'\n",
            "\n",
            "R[write to console]: Content type 'application/x-gzip'\n",
            "R[write to console]:  length 1108993 bytes (1.1 MB)\n",
            "\n",
            "R[write to console]: =\n",
            "R[write to console]: =\n",
            "R[write to console]: =\n",
            "R[write to console]: =\n",
            "R[write to console]: =\n",
            "R[write to console]: =\n",
            "R[write to console]: =\n",
            "R[write to console]: =\n",
            "R[write to console]: =\n",
            "R[write to console]: =\n",
            "R[write to console]: =\n",
            "R[write to console]: =\n",
            "R[write to console]: =\n",
            "R[write to console]: =\n",
            "R[write to console]: =\n",
            "R[write to console]: =\n",
            "R[write to console]: =\n",
            "R[write to console]: =\n",
            "R[write to console]: =\n",
            "R[write to console]: =\n",
            "R[write to console]: =\n",
            "R[write to console]: =\n",
            "R[write to console]: =\n",
            "R[write to console]: =\n",
            "R[write to console]: =\n",
            "R[write to console]: =\n",
            "R[write to console]: =\n",
            "R[write to console]: =\n",
            "R[write to console]: =\n",
            "R[write to console]: =\n",
            "R[write to console]: =\n",
            "R[write to console]: =\n",
            "R[write to console]: =\n",
            "R[write to console]: =\n",
            "R[write to console]: =\n",
            "R[write to console]: =\n",
            "R[write to console]: =\n",
            "R[write to console]: =\n",
            "R[write to console]: =\n",
            "R[write to console]: =\n",
            "R[write to console]: =\n",
            "R[write to console]: =\n",
            "R[write to console]: =\n",
            "R[write to console]: =\n",
            "R[write to console]: =\n",
            "R[write to console]: =\n",
            "R[write to console]: =\n",
            "R[write to console]: =\n",
            "R[write to console]: =\n",
            "R[write to console]: =\n",
            "R[write to console]: \n",
            "\n",
            "R[write to console]: downloaded 1.1 MB\n",
            "\n",
            "\n",
            "R[write to console]: \n",
            "\n",
            "R[write to console]: \n",
            "R[write to console]: The downloaded source packages are in\n",
            "\t‘/tmp/RtmpT8iStO/downloaded_packages’\n",
            "R[write to console]: \n",
            "R[write to console]: \n",
            "\n"
          ],
          "name": "stderr"
        }
      ]
    },
    {
      "cell_type": "code",
      "metadata": {
        "id": "H6oZvdf4X6do"
      },
      "source": [
        "%%R\n",
        "library(\"dbscan\")"
      ],
      "execution_count": null,
      "outputs": []
    },
    {
      "cell_type": "code",
      "metadata": {
        "id": "YCKnP5p1YgwJ",
        "outputId": "6ef0d226-58cc-42df-c331-ebb51401f906",
        "colab": {
          "base_uri": "https://localhost:8080/"
        }
      },
      "source": [
        "%%R\n",
        "db<-dbscan(my_data_Norm,eps=0.4,MinPts = 0)"
      ],
      "execution_count": null,
      "outputs": [
        {
          "output_type": "stream",
          "text": [
            "R[write to console]: Error in dbscan(my_data_Norm, eps = 0.4, MinPts = 0) : \n",
            "  data/distances cannot contain NAs for dbscan (with kd-tree)!\n",
            "Calls: <Anonymous> -> <Anonymous> -> withVisible -> dbscan\n",
            "\n",
            "R[write to console]: In addition: \n",
            "R[write to console]: Warning message:\n",
            "\n",
            "R[write to console]: In dbscan(my_data_Norm, eps = 0.4, MinPts = 0) :\n",
            "R[write to console]: \n",
            " \n",
            "R[write to console]:  converting argument MinPts (fpc) to minPts (dbscan)!\n",
            "\n"
          ],
          "name": "stderr"
        },
        {
          "output_type": "stream",
          "text": [
            "\n",
            "Error in dbscan(my_data_Norm, eps = 0.4, MinPts = 0) : \n",
            "  data/distances cannot contain NAs for dbscan (with kd-tree)!\n",
            "Calls: <Anonymous> -> <Anonymous> -> withVisible -> dbscan\n"
          ],
          "name": "stdout"
        }
      ]
    },
    {
      "cell_type": "code",
      "metadata": {
        "id": "xv3EEyPPYihq",
        "outputId": "363bd1f6-8176-4017-f058-f93adca28c5f",
        "colab": {
          "base_uri": "https://localhost:8080/"
        }
      },
      "source": [
        "%%R\n",
        "print(db)"
      ],
      "execution_count": null,
      "outputs": [
        {
          "output_type": "stream",
          "text": [
            "R[write to console]: Error in print(db) : object 'db' not found\n",
            "Calls: <Anonymous> -> <Anonymous> -> withVisible -> print\n",
            "\n"
          ],
          "name": "stderr"
        },
        {
          "output_type": "stream",
          "text": [
            "\n",
            "Error in print(db) : object 'db' not found\n",
            "Calls: <Anonymous> -> <Anonymous> -> withVisible -> print\n"
          ],
          "name": "stdout"
        }
      ]
    },
    {
      "cell_type": "code",
      "metadata": {
        "id": "9ILcDK2DYxZc",
        "outputId": "64b56363-1b5b-4969-9544-0d6d991a5057",
        "colab": {
          "base_uri": "https://localhost:8080/"
        }
      },
      "source": [
        "%%R\n",
        "hullplot(my_data_Norm,db$cluster)"
      ],
      "execution_count": null,
      "outputs": [
        {
          "output_type": "stream",
          "text": [
            "R[write to console]: Error in svd(x, nu = 0, nv = k) : infinite or missing values in 'x'\n",
            "Calls: <Anonymous> ... withVisible -> hullplot -> prcomp -> prcomp.default -> svd\n",
            "\n"
          ],
          "name": "stderr"
        },
        {
          "output_type": "stream",
          "text": [
            "\n",
            "Error in svd(x, nu = 0, nv = k) : infinite or missing values in 'x'\n",
            "Calls: <Anonymous> ... withVisible -> hullplot -> prcomp -> prcomp.default -> svd\n"
          ],
          "name": "stdout"
        }
      ]
    },
    {
      "cell_type": "markdown",
      "metadata": {
        "id": "-hSsGT9tkB_v"
      },
      "source": [
        "# 4.KNN"
      ]
    },
    {
      "cell_type": "code",
      "metadata": {
        "id": "laFU6aosqqlB"
      },
      "source": [
        "%%R\n",
        "Train <- my_data_Norm[1:10000, ]\n",
        "Test <- my_data_Norm[10001:12320, ]\n",
        "Train_labels <- Train[1:10000, 1]\n",
        "Test_labels <- Test[10001:12320, 1]"
      ],
      "execution_count": null,
      "outputs": []
    },
    {
      "cell_type": "code",
      "metadata": {
        "id": "HRStSPedj_-b"
      },
      "source": [
        "%%R\n",
        "Test_pred <- knn(train = Train, test = Test,\n",
        "                      cl = Train_labels, k = 21)\n",
        "Test_pred"
      ],
      "execution_count": null,
      "outputs": []
    },
    {
      "cell_type": "code",
      "metadata": {
        "id": "jwyHAZXfkT0n"
      },
      "source": [
        "#Model Evaluation\n",
        "%%R\n",
        "t<-table(factor(Test_pred))\n",
        "t\n",
        "t1<-table(Test_labels,Test_pred)\n",
        "t1"
      ],
      "execution_count": null,
      "outputs": []
    },
    {
      "cell_type": "markdown",
      "metadata": {
        "id": "k0OUNBZAkeWw"
      },
      "source": [
        "# 5.Decision Trees"
      ]
    },
    {
      "cell_type": "code",
      "metadata": {
        "id": "79bWaPDrkYYW"
      },
      "source": [
        "%%R\n",
        "#Installing libraries\n",
        "install.packages('rpart')\n",
        "install.packages('caret')\n",
        "install.packages('rpart.plot')\n",
        "install.packages('rattle')\n",
        " \n",
        "#Loading libraries\n",
        "library(rpart,quietly = TRUE)\n",
        "library(caret,quietly = TRUE)\n",
        "library(rpart.plot,quietly = TRUE)\n",
        "library(rattle)"
      ],
      "execution_count": null,
      "outputs": []
    },
    {
      "cell_type": "code",
      "metadata": {
        "id": "pOSB87XGklZQ"
      },
      "source": [
        "%%R\n",
        "tree <- rpart(class~.,\n",
        "data=Train,\n",
        "parms = list(loss = penalty.matrix),\n",
        "method = \"class\")"
      ],
      "execution_count": null,
      "outputs": []
    },
    {
      "cell_type": "markdown",
      "metadata": {
        "id": "-WIkKR1Jkrr8"
      },
      "source": [
        "# 6.SVM"
      ]
    },
    {
      "cell_type": "code",
      "metadata": {
        "id": "Winwt6tjkt6B"
      },
      "source": [
        "%%R\n",
        "install.packages('caret')\n",
        "install.packages('kernlab')"
      ],
      "execution_count": null,
      "outputs": []
    },
    {
      "cell_type": "code",
      "metadata": {
        "id": "KBu4EhmvkzC9"
      },
      "source": [
        "%%R\n",
        "trctrl <- trainControl(method = \"repeatedcv\", number = 10, repeats = 3)\n",
        "\n",
        "svm_Linear <- train(Train$Revenue ~., data =Train, method = \"svmLinear\",\n",
        "trControl=trctrl,\n",
        "preProcess = c(\"center\", \"scale\"),\n",
        "tuneLength = 10)\n"
      ],
      "execution_count": null,
      "outputs": []
    },
    {
      "cell_type": "code",
      "metadata": {
        "id": "FiRaz-46k_EG"
      },
      "source": [
        "%%R\n",
        "svm_Linear"
      ],
      "execution_count": null,
      "outputs": []
    },
    {
      "cell_type": "code",
      "metadata": {
        "id": "CwYfIt--lDF3"
      },
      "source": [
        "%%R\n",
        "test_pred <- predict(svm_Linear, newdata = Test)\n",
        "test_pred"
      ],
      "execution_count": null,
      "outputs": []
    },
    {
      "cell_type": "code",
      "metadata": {
        "id": "0YpV9jn_lGGb"
      },
      "source": [
        "%%R\n",
        "confusionMatrix(table(test_pred, Test$Revenue)"
      ],
      "execution_count": null,
      "outputs": []
    },
    {
      "cell_type": "markdown",
      "metadata": {
        "id": "Sl11jwn8lKZt"
      },
      "source": [
        "# 7.Naive Bayes"
      ]
    },
    {
      "cell_type": "code",
      "metadata": {
        "id": "6ryMO-yFlPqi"
      },
      "source": [
        "# Checking dimensions of the split\n",
        "%%R\n",
        "prop.table(table(df_n$Revenue)) * 100\n",
        "prop.table(table(df_n$Revenue)) * 100\n",
        "prop.table(table(df_n$Revenue)) * 100\n"
      ],
      "execution_count": null,
      "outputs": []
    },
    {
      "cell_type": "code",
      "metadata": {
        "id": "kEPft2S1lYBt"
      },
      "source": [
        "%%R\n",
        "x = Train[,-6]\n",
        "y = Train$Revenue"
      ],
      "execution_count": null,
      "outputs": []
    },
    {
      "cell_type": "code",
      "metadata": {
        "id": "-xgh63A3lZF2"
      },
      "source": [
        "%%R\n",
        "model = train(x,y,'nb',trControl=trainControl(method='cv',number=10))"
      ],
      "execution_count": null,
      "outputs": []
    },
    {
      "cell_type": "code",
      "metadata": {
        "id": "cqdsR-O2le51"
      },
      "source": [
        "# Predicting our testing set\n",
        "# \n",
        "%%R\n",
        "Predict <- predict(model,newdata = Test )"
      ],
      "execution_count": null,
      "outputs": []
    },
    {
      "cell_type": "code",
      "metadata": {
        "id": "bDiONgNelkDc"
      },
      "source": [
        "%%R\n",
        "confusionMatrix(Predict, testing$Revenue)"
      ],
      "execution_count": null,
      "outputs": []
    },
    {
      "cell_type": "markdown",
      "metadata": {
        "id": "YDYNJraKE9zC"
      },
      "source": [
        "# Summary of Observations and Recommendations"
      ]
    },
    {
      "cell_type": "markdown",
      "metadata": {
        "id": "GNcN4d2RFFpz"
      },
      "source": [
        "1. From the barplot it is clear that most of the site vistis are made in May and Novemeber hence these should be the priority months in terms of marketing in the organization. The top 5 months are as follows:\n",
        "\n",
        "    May\n",
        "    Novemeber\n",
        "    March\n",
        "    December\n",
        "    October.\n",
        "\n",
        "The Organization should seek to establish religious and cultural events that occur in these months in the different branches such as Christmas,etc and capitalize in using them in their marketing.\n",
        "\n",
        "2. From the Analysis,most of the visitors to the site are Returning Visistors an indication that clients are happy with the products and customer service.The organization should therefor look at ways of motivating these returning visitors through loyalty cards that accumulate points over time.\n",
        "\n",
        "Secondly, the organization should capitalize efforts in finding new clients as this group seems to be lagging behind.This could include more advertisement on the mainstream and social media avenues.Additionally,the organization should look at working with influencers in the different regions.\n",
        "\n",
        "3.From the analysis it is clear that most of the customers visit the sites on week dayas and not on weekends as it is popularly known.The organization should therefore focus on giving discounts and promoting their products on week days.\n",
        "\n",
        "4. A shocking revelation is revealed by the above plot whereby most of the site visits do not result into revenue.Revenue is the main aim of any business hence the traffic on the site should result into revenue.\n",
        "\n",
        "Perhaps this is an indication that most people have heard about the brand but when they visit the site the prices are not affordable or the quality of the products is not as expected.The Organization should therefore seek to find out why this is the case;maybe conduct a survey among the individuals who visite the site and did not purchase any product.\n",
        "\n",
        "Additionally,the organization should consider revamping their website to include pop up questions to direct the customers.\n",
        "\n",
        "I visited the website and found out that the website is in Russia which put me off in trying to navigate the website as I didn't understand the language.The oranization should therefore customize its website in English so as to attract customers from all over the world.This could be one of the reasons why the the revenue does not resonate with the number of site visits.\n",
        "\n",
        "5. The most prevalent traffic type is the type 2.The top 5 types are as follows:\n",
        "\n",
        "1. 2\n",
        "2. 1\n",
        "3. 3\n",
        "4. 4\n",
        "5. 13\n",
        "\n",
        "6. There are positive covariance relations between the following Variables:\n",
        "1. Page Values and Opearating Systems\n",
        "2. Page Values and Browser\n",
        "3. Page Values and Region\n",
        "4. Page Values and TrafficType\n",
        "5. Special Day and Operating Systems\n",
        "6. Special Day and Browser\n",
        "7. Special Day and TrafficType\n",
        "8. Operating Systems and Browser\n",
        "9. Operating Systems and Region\n",
        "10. Operating Systems and TrafficType\n",
        "11. ...etc\n",
        "\n",
        "The rest indicate negative or no covariance relationships.\n",
        "\n",
        "7.Most of the site visits come from region one foollowed by region 3,region 4,region 2 and region 6.\n",
        "\n",
        "8. Most of the clients have operating system 2.\n",
        "\n",
        "9. There is a positive linear relationship between the Exit and Bounce rates\n",
        "\n"
      ]
    },
    {
      "cell_type": "markdown",
      "metadata": {
        "id": "A9JuoPX7LUBW"
      },
      "source": [
        "# Comaprison between K-means and Hieararchical Clustering"
      ]
    },
    {
      "cell_type": "markdown",
      "metadata": {
        "id": "7RMR7AgDseWj"
      },
      "source": [
        "**Disadvantages of K-mean Clustering**\n",
        "\n",
        "1. Difficult    to    predict    the    number    of    clusters    (K-­‐Value)    •IniHal    seeds    have    a    strong    impact    on    the    final    results    \n",
        "2.  The    order    of    the    data    has    an    impact    on    the    final    results    \n",
        "\n",
        "3. SensiHve    to    scale:    rescaling    your    datasets    (normalizaHon    or    standardizaHon)    will    completely    change    results.    While    this    itself    is    not    bad,    not    realizing    that    you    have    to    spend    extra    a4en(on    to    scaling    your    data    might    be    bad.        "
      ]
    },
    {
      "cell_type": "markdown",
      "metadata": {
        "id": "kF5rTfjist-N"
      },
      "source": [
        "**Disadvantages of Hierarchical Clustering**\n",
        "\n",
        "1. It    is    not    possible    to    undo    the    previous    step:    once    the    instances    have    been    assigned    to    a    cluster,    they    can    no    longer    be    moved    around.        \n",
        "2. Time    complexity:    not    suitable    for    large    datasets    •IniHal    seeds    have    a    strong    impact    on    the    final    results  \n",
        "3. The    order    of    the    data    has    an    impact    on    the    final    results    \n",
        "4. Very    sensitive    to    outlier"
      ]
    }
  ]
}