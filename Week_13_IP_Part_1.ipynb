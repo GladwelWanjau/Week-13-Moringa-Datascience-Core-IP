{
  "nbformat": 4,
  "nbformat_minor": 0,
  "metadata": {
    "colab": {
      "name": "Week 13 IP Part 1",
      "provenance": [],
      "collapsed_sections": [
        "XwPXFhGzwO0J",
        "x3ADAMHDBYyL",
        "J3fZzPAkGe31",
        "BKQWbDi7MXIY",
        "ePdCin2fMhiE",
        "npQ0gJGwNw9W",
        "C6WKQznWlQv8",
        "laryBhx5124T",
        "RafpelqX4uc0"
      ],
      "toc_visible": true,
      "authorship_tag": "ABX9TyPvYoWApFhxoaSHHeoKNS34",
      "include_colab_link": true
    },
    "kernelspec": {
      "name": "python3",
      "display_name": "Python 3"
    }
  },
  "cells": [
    {
      "cell_type": "markdown",
      "metadata": {
        "id": "view-in-github",
        "colab_type": "text"
      },
      "source": [
        "<a href=\"https://colab.research.google.com/github/GladwelWanjau/Week-13-Moringa-Datascience-Core-IP/blob/main/Week_13_IP_Part_1.ipynb\" target=\"_parent\"><img src=\"https://colab.research.google.com/assets/colab-badge.svg\" alt=\"Open In Colab\"/></a>"
      ]
    },
    {
      "cell_type": "markdown",
      "metadata": {
        "id": "8Qt0PSZr4Otc"
      },
      "source": [
        "# Defining the problem\n",
        "The research problem in this case is to find out individuals that are likely to click on a blog advert based on their characteristics which include;\n",
        "Age\n",
        "Daily Time spent on site\n",
        "Area of residence\n",
        "Internet Usage\n",
        "Gender\n",
        "Country of residence\n"
      ]
    },
    {
      "cell_type": "markdown",
      "metadata": {
        "id": "cPe6w1a8e8Kz"
      },
      "source": [
        "# Metric of Success\n",
        "The metric success of this project is to identify individuals that are likely to click on the add after performing exploratory data analysis.\n"
      ]
    },
    {
      "cell_type": "markdown",
      "metadata": {
        "id": "dxWZuiRKfTjX"
      },
      "source": [
        "# Data Relevance\n",
        "The data provided by the client is from the performance of a previous blog advert on the same website.\n",
        "The columns are as follows:\n",
        "Daily Time Spent on the site-Integer,\n",
        "Age-Age of the individual browsing-Integer,\n",
        "Area of residence\n",
        "Internet Usage\n",
        "Gender of the browsing individual\n",
        "Country of Residence\n"
      ]
    },
    {
      "cell_type": "markdown",
      "metadata": {
        "id": "uYdJbzMr5hoh"
      },
      "source": [
        "# Understanding the Context\n",
        "A Kenyan entrepreneur has created an online cryptography course and would want to advertise it on her blog. She currently targets audiences originating from various countries. In the past, she ran ads to advertise a related course on the same blog and collected data in the process. She would now like to employ your services as a Data Science Consultant to help her identify which individuals are most likely to click on her ads. "
      ]
    },
    {
      "cell_type": "markdown",
      "metadata": {
        "id": "bi1NAKBqgPuq"
      },
      "source": [
        "# Experimental Design\n",
        "1.Data Loading\n",
        "2.Data cleaning for missing values and outliers\n",
        "3.Exploratory Data Analysis\n",
        "4.Conclusion-Detecting the trend in behaviour.\n"
      ]
    },
    {
      "cell_type": "markdown",
      "metadata": {
        "id": "h1I2rpmzTjiY"
      },
      "source": [
        "# Data Loading and Cleaning"
      ]
    },
    {
      "cell_type": "code",
      "metadata": {
        "id": "wbFB--HM8r-H",
        "outputId": "660a994a-05d7-4519-deed-c09b1dd05d36",
        "colab": {
          "base_uri": "https://localhost:8080/"
        }
      },
      "source": [
        "!jupyter-kernelspec list"
      ],
      "execution_count": null,
      "outputs": [
        {
          "output_type": "stream",
          "text": [
            "Available kernels:\n",
            "  ir         /usr/local/share/jupyter/kernels/ir\n",
            "  python2    /usr/local/share/jupyter/kernels/python2\n",
            "  python3    /usr/local/share/jupyter/kernels/python3\n",
            "  swift      /usr/local/share/jupyter/kernels/swift\n"
          ],
          "name": "stdout"
        }
      ]
    },
    {
      "cell_type": "code",
      "metadata": {
        "id": "1lyoE71O83ax",
        "outputId": "70b61d94-8aba-4112-e598-a548a79413e9",
        "colab": {
          "base_uri": "https://localhost:8080/"
        }
      },
      "source": [
        "# activate R magic\n",
        "%load_ext rpy2.ipython"
      ],
      "execution_count": null,
      "outputs": [
        {
          "output_type": "stream",
          "text": [
            "The rpy2.ipython extension is already loaded. To reload it, use:\n",
            "  %reload_ext rpy2.ipython\n"
          ],
          "name": "stdout"
        }
      ]
    },
    {
      "cell_type": "code",
      "metadata": {
        "id": "8a8mWTxz9Duw",
        "outputId": "46cfb1e3-ff6d-4e62-e022-88a15a76259d",
        "colab": {
          "base_uri": "https://localhost:8080/"
        }
      },
      "source": [
        "%%R\n",
        "advertising_dataset =read.csv('https://ia803104.us.archive.org/27/items/advertising_201910/advertising.csv',header = TRUE,\n",
        "                 sep = \",\",fileEncoding = \"UTF-8-BOM\")\n",
        "head(advertising_dataset)\n",
        "\n"
      ],
      "execution_count": null,
      "outputs": [
        {
          "output_type": "stream",
          "text": [
            "  Daily.Time.Spent.on.Site Age Area.Income Daily.Internet.Usage\n",
            "1                    68.95  35    61833.90               256.09\n",
            "2                    80.23  31    68441.85               193.77\n",
            "3                    69.47  26    59785.94               236.50\n",
            "4                    74.15  29    54806.18               245.89\n",
            "5                    68.37  35    73889.99               225.58\n",
            "6                    59.99  23    59761.56               226.74\n",
            "                          Ad.Topic.Line           City Male    Country\n",
            "1    Cloned 5thgeneration orchestration    Wrightburgh    0    Tunisia\n",
            "2    Monitored national standardization      West Jodi    1      Nauru\n",
            "3      Organic bottom-line service-desk       Davidton    0 San Marino\n",
            "4 Triple-buffered reciprocal time-frame West Terrifurt    1      Italy\n",
            "5         Robust logistical utilization   South Manuel    0    Iceland\n",
            "6       Sharable client-driven software      Jamieberg    1     Norway\n",
            "            Timestamp Clicked.on.Ad\n",
            "1 2016-03-27 00:53:11             0\n",
            "2 2016-04-04 01:39:02             0\n",
            "3 2016-03-13 20:35:42             0\n",
            "4 2016-01-10 02:31:19             0\n",
            "5 2016-06-03 03:36:18             0\n",
            "6 2016-05-19 14:30:17             0\n"
          ],
          "name": "stdout"
        }
      ]
    },
    {
      "cell_type": "code",
      "metadata": {
        "id": "lfkLGW8WLR2d",
        "outputId": "6fbead66-09a4-4b18-ae35-05f74fb986ce",
        "colab": {
          "base_uri": "https://localhost:8080/"
        }
      },
      "source": [
        "%%R\n",
        "#Checking for missing values using the complete function\n",
        "advertising_dataset[!complete.cases(advertising_dataset),]\n",
        "#All the columns are complete hence no missing value"
      ],
      "execution_count": null,
      "outputs": [
        {
          "output_type": "stream",
          "text": [
            " [1] Daily.Time.Spent.on.Site Age                      Area.Income             \n",
            " [4] Daily.Internet.Usage     Ad.Topic.Line            City                    \n",
            " [7] Male                     Country                  Timestamp               \n",
            "[10] Clicked.on.Ad           \n",
            "<0 rows> (or 0-length row.names)\n"
          ],
          "name": "stdout"
        }
      ]
    },
    {
      "cell_type": "code",
      "metadata": {
        "id": "ATCR8gWAMkpW",
        "outputId": "28f65804-e026-46fa-9f38-464f2cb7d0aa",
        "colab": {
          "base_uri": "https://localhost:8080/"
        }
      },
      "source": [
        "%%R\n",
        "#Rechecking the sum of missing values to ascertain the above finding\n",
        "colSums(is.na(advertising_dataset))\n",
        "#There are no missing values"
      ],
      "execution_count": null,
      "outputs": [
        {
          "output_type": "stream",
          "text": [
            "Daily.Time.Spent.on.Site                      Age              Area.Income \n",
            "                       0                        0                        0 \n",
            "    Daily.Internet.Usage            Ad.Topic.Line                     City \n",
            "                       0                        0                        0 \n",
            "                    Male                  Country                Timestamp \n",
            "                       0                        0                        0 \n",
            "           Clicked.on.Ad \n",
            "                       0 \n"
          ],
          "name": "stdout"
        }
      ]
    },
    {
      "cell_type": "code",
      "metadata": {
        "id": "NWipVrhkN5mL",
        "outputId": "ddcff281-024c-4ce4-8f77-c6fbcf5e2999",
        "colab": {
          "base_uri": "https://localhost:8080/"
        }
      },
      "source": [
        "%%R\n",
        "class(advertising_dataset)"
      ],
      "execution_count": null,
      "outputs": [
        {
          "output_type": "stream",
          "text": [
            "[1] \"data.frame\"\n"
          ],
          "name": "stdout"
        }
      ]
    },
    {
      "cell_type": "code",
      "metadata": {
        "id": "8DnQ_z2xPoQD",
        "outputId": "45d17a39-4bc9-4d71-9f7a-e2131781f8b4",
        "colab": {
          "base_uri": "https://localhost:8080/"
        }
      },
      "source": [
        "%%R\n",
        "outlier(advertisng_dataset, opposite = FALSE, logical = FALSE)"
      ],
      "execution_count": null,
      "outputs": [
        {
          "output_type": "stream",
          "text": [
            "R[write to console]: Error in outlier(advertisng_dataset, opposite = FALSE, logical = FALSE) : \n",
            "  could not find function \"outlier\"\n",
            "Calls: <Anonymous> -> <Anonymous> -> withVisible\n",
            "\n"
          ],
          "name": "stderr"
        },
        {
          "output_type": "stream",
          "text": [
            "\n",
            "Error in outlier(advertisng_dataset, opposite = FALSE, logical = FALSE) : \n",
            "  could not find function \"outlier\"\n",
            "Calls: <Anonymous> -> <Anonymous> -> withVisible\n"
          ],
          "name": "stdout"
        }
      ]
    },
    {
      "cell_type": "code",
      "metadata": {
        "id": "sSgBmmm6RgKD"
      },
      "source": [
        "%%R\n",
        "#Checking for duplicated values in the columns\n",
        "duplicated_rows <- advertising_dataset[duplicated(advertising_dataset),]"
      ],
      "execution_count": null,
      "outputs": []
    },
    {
      "cell_type": "code",
      "metadata": {
        "id": "ilJef7yzzGp0",
        "outputId": "1063187e-606b-4f6c-8e84-d0642c4d00b3",
        "colab": {
          "base_uri": "https://localhost:8080/"
        }
      },
      "source": [
        "%%R\n",
        "advertising_dataset_m<-mean(advertising_dataset)\n",
        "advertising_dataset_m"
      ],
      "execution_count": null,
      "outputs": [
        {
          "output_type": "stream",
          "text": [
            "[1] NA\n"
          ],
          "name": "stdout"
        }
      ]
    },
    {
      "cell_type": "code",
      "metadata": {
        "id": "EtL2OwC_kEKJ"
      },
      "source": [
        "%%R\n",
        "library(tidyverse)"
      ],
      "execution_count": null,
      "outputs": []
    },
    {
      "cell_type": "code",
      "metadata": {
        "id": "i7i2RWxAkOPl",
        "outputId": "79d78736-1564-4ce3-d33e-d7206900efaf",
        "colab": {
          "base_uri": "https://localhost:8080/"
        }
      },
      "source": [
        "%%R\n",
        "#For ease in analysis,we convert the data into a tibble\n",
        "my_data<-as_tibble(advertising_dataset)\n",
        "my_data"
      ],
      "execution_count": null,
      "outputs": [
        {
          "output_type": "stream",
          "text": [
            "# A tibble: 1,000 x 10\n",
            "   Daily.Time.Spen…   Age Area.Income Daily.Internet.… Ad.Topic.Line City   Male\n",
            "              <dbl> <int>       <dbl>            <dbl> <chr>         <chr> <int>\n",
            " 1             69.0    35      61834.             256. Cloned 5thge… Wrig…     0\n",
            " 2             80.2    31      68442.             194. Monitored na… West…     1\n",
            " 3             69.5    26      59786.             236. Organic bott… Davi…     0\n",
            " 4             74.2    29      54806.             246. Triple-buffe… West…     1\n",
            " 5             68.4    35      73890.             226. Robust logis… Sout…     0\n",
            " 6             60.0    23      59762.             227. Sharable cli… Jami…     1\n",
            " 7             88.9    33      53853.             208. Enhanced ded… Bran…     0\n",
            " 8             66      48      24593.             132. Reactive loc… Port…     1\n",
            " 9             74.5    30      68862              222. Configurable… West…     1\n",
            "10             69.9    20      55642.             184. Mandatory ho… Rami…     1\n",
            "# … with 990 more rows, and 3 more variables: Country <chr>, Timestamp <chr>,\n",
            "#   Clicked.on.Ad <int>\n"
          ],
          "name": "stdout"
        }
      ]
    },
    {
      "cell_type": "code",
      "metadata": {
        "id": "jb0eGG-2kuM1",
        "outputId": "13340aef-799d-47d5-afbf-48d4b9713fe8",
        "colab": {
          "base_uri": "https://localhost:8080/"
        }
      },
      "source": [
        "%%R\n",
        "#Checking the data types of the columns\n",
        "Numeric=my_data %>% select_if(is.numeric)\n",
        "Numeric\n",
        "#The following columns have numeric datatyp:Daily Time Spent on site,Age,Area,Income,Daily Internet Usage,gender and whether the individual clicked on the add."
      ],
      "execution_count": null,
      "outputs": [
        {
          "output_type": "stream",
          "text": [
            "# A tibble: 1,000 x 6\n",
            "   Daily.Time.Spent.on…   Age Area.Income Daily.Internet.Us…  Male Clicked.on.Ad\n",
            "                  <dbl> <int>       <dbl>              <dbl> <int>         <int>\n",
            " 1                 69.0    35      61834.               256.     0             0\n",
            " 2                 80.2    31      68442.               194.     1             0\n",
            " 3                 69.5    26      59786.               236.     0             0\n",
            " 4                 74.2    29      54806.               246.     1             0\n",
            " 5                 68.4    35      73890.               226.     0             0\n",
            " 6                 60.0    23      59762.               227.     1             0\n",
            " 7                 88.9    33      53853.               208.     0             0\n",
            " 8                 66      48      24593.               132.     1             1\n",
            " 9                 74.5    30      68862                222.     1             0\n",
            "10                 69.9    20      55642.               184.     1             0\n",
            "# … with 990 more rows\n"
          ],
          "name": "stdout"
        }
      ]
    },
    {
      "cell_type": "code",
      "metadata": {
        "id": "3Ty5u8M0oegz",
        "outputId": "66394e0e-d275-4cda-f987-f8efe7987ccc",
        "colab": {
          "base_uri": "https://localhost:8080/"
        }
      },
      "source": [
        "%%R\n",
        "#Checking the data types of the columns\n",
        "Categorical=my_data %>% select_if(is.character)\n",
        "Categorical\n",
        "#The following columns have character datatype:Ad topic line,City,Country and Timestamp."
      ],
      "execution_count": null,
      "outputs": [
        {
          "output_type": "stream",
          "text": [
            "# A tibble: 1,000 x 4\n",
            "   Ad.Topic.Line                     City            Country   Timestamp        \n",
            "   <chr>                             <chr>           <chr>     <chr>            \n",
            " 1 Cloned 5thgeneration orchestrati… Wrightburgh     Tunisia   2016-03-27 00:53…\n",
            " 2 Monitored national standardizati… West Jodi       Nauru     2016-04-04 01:39…\n",
            " 3 Organic bottom-line service-desk  Davidton        San Mari… 2016-03-13 20:35…\n",
            " 4 Triple-buffered reciprocal time-… West Terrifurt  Italy     2016-01-10 02:31…\n",
            " 5 Robust logistical utilization     South Manuel    Iceland   2016-06-03 03:36…\n",
            " 6 Sharable client-driven software   Jamieberg       Norway    2016-05-19 14:30…\n",
            " 7 Enhanced dedicated support        Brandonstad     Myanmar   2016-01-28 20:59…\n",
            " 8 Reactive local challenge          Port Jefferybu… Australia 2016-03-07 01:40…\n",
            " 9 Configurable coherent function    West Colin      Grenada   2016-04-18 09:33…\n",
            "10 Mandatory homogeneous architectu… Ramirezton      Ghana     2016-07-11 01:42…\n",
            "# … with 990 more rows\n"
          ],
          "name": "stdout"
        }
      ]
    },
    {
      "cell_type": "markdown",
      "metadata": {
        "id": "XwPXFhGzwO0J"
      },
      "source": [
        "# Univariate Analysis"
      ]
    },
    {
      "cell_type": "markdown",
      "metadata": {
        "id": "7WuDoAfLBnok"
      },
      "source": [
        "# **1.Numerical Data**"
      ]
    },
    {
      "cell_type": "code",
      "metadata": {
        "id": "BLdAMtOSuTbc",
        "outputId": "aa639970-afbc-4b12-a7cd-f4a2f10d1d61",
        "colab": {
          "base_uri": "https://localhost:8080/"
        }
      },
      "source": [
        "%%R\n",
        "#Finding the mean\n",
        "Age_m<-mean(advertising_dataset$Age)\n",
        "print(Age_m)\n",
        "#Finding the median\n",
        "Age_m1<-median(advertising_dataset$Age)\n",
        "print(Age_m1)\n",
        "#Finding the maximum value in the age column\n",
        "Age_Max<-max(advertising_dataset$Age)\n",
        "print(Age_Max)\n",
        "#Finding the minimum value in the age column\n",
        "Age_Min<-min(advertising_dataset$Age)\n",
        "print(Age_Min)\n",
        "#Finding the range value of the age column\n",
        "Age_Range<-range(advertising_dataset$Age)\n",
        "print(Age_Range)\n",
        "#Finding the variance of the age column\n",
        "Age_Variance<-var(advertising_dataset$Age)\n",
        "print(Age_Variance)\n",
        "#Finding the standard deviation of the age column\n",
        "Age_Sd<-sd(advertising_dataset$Age)\n",
        "print(Age_Sd)\n",
        "\n"
      ],
      "execution_count": null,
      "outputs": [
        {
          "output_type": "stream",
          "text": [
            "[1] 36.009\n",
            "[1] 35\n",
            "[1] 61\n",
            "[1] 19\n",
            "[1] 19 61\n",
            "[1] 77.18611\n",
            "[1] 8.785562\n"
          ],
          "name": "stdout"
        }
      ]
    },
    {
      "cell_type": "code",
      "metadata": {
        "id": "puXmVafqyvVZ",
        "outputId": "333176f1-e423-462c-f081-4b9b1d9d28f0",
        "colab": {
          "base_uri": "https://localhost:8080/"
        }
      },
      "source": [
        "#Finding the mode\n",
        "%%R\n",
        "v<-my_data %>% pull(Age)\n",
        "getmode <- function(v) {\n",
        "   uniqv <- unique(v)\n",
        "   uniqv[which.max(tabulate(match(v, uniqv)))]\n",
        "}\n",
        "Age.Mode<-getmode(advertising_dataset$Age)\n",
        "Age.Mode\n",
        "#The modal age is 31 years"
      ],
      "execution_count": null,
      "outputs": [
        {
          "output_type": "stream",
          "text": [
            "[1] 31\n"
          ],
          "name": "stdout"
        }
      ]
    },
    {
      "cell_type": "code",
      "metadata": {
        "id": "mM-AYelsAogR",
        "outputId": "fd5c1d53-0bcf-49bf-a921-22ec41b6fbc3",
        "colab": {
          "base_uri": "https://localhost:8080/",
          "height": 497
        }
      },
      "source": [
        "%%R\n",
        "#Checking the outliers in the Age Column.\n",
        "boxplot(advertising_dataset$Age)"
      ],
      "execution_count": null,
      "outputs": [
        {
          "output_type": "display_data",
          "data": {
            "image/png": "[encoded data removed]"
          },
          "metadata": {
            "tags": []
          }
        }
      ]
    },
    {
      "cell_type": "code",
      "metadata": {
        "id": "EPrOgZNQGUvI",
        "outputId": "e591a53e-3d03-40dc-c82a-898fe6152512",
        "colab": {
          "base_uri": "https://localhost:8080/",
          "height": 497
        }
      },
      "source": [
        "%%R\n",
        "#Checking the distribution of Age\n",
        "hist(advertising_dataset$Age)"
      ],
      "execution_count": null,
      "outputs": [
        {
          "output_type": "display_data",
          "data": {
            "image/png": "[encoded data removed]"
          },
          "metadata": {
            "tags": []
          }
        }
      ]
    },
    {
      "cell_type": "code",
      "metadata": {
        "id": "_vKrYrUNwwhm",
        "outputId": "d98b1fbe-72d9-4033-969c-d48eaf7c4162",
        "colab": {
          "base_uri": "https://localhost:8080/"
        }
      },
      "source": [
        "%%R\n",
        "#Finding the mean\n",
        "DTS_m<-mean(advertising_dataset$Daily.Time.Spent.on.Site)\n",
        "print(DTS_m)\n",
        "#Finding the median\n",
        "DTS_m1<-median(advertising_dataset$Daily.Time.Spent.on.Site)\n",
        "print(DTS_m1)\n",
        "#Finding the maximum value in the Daily Time Spent on Site column\n",
        "DTS_Max<-max(advertising_dataset$Daily.Time.Spent.on.Site)\n",
        "print(DTS_Max)\n",
        "#Finding the minimum value in the Daily Time Spent on Site column\n",
        "DTS_Min<-min(advertising_dataset$Daily.Time.Spent.on.Site)\n",
        "print(DTS_Min)\n",
        "#Finding the range value of the Daily Time Spent on Site column\n",
        "DTS_Range<-range(advertising_dataset$Daily.Time.Spent.on.Site)\n",
        "print(DTS_Range)\n",
        "#Finding the variance of the Daily Time Spent on Site column\n",
        "DTS_Variance<-var(advertising_dataset$Daily.Time.Spent.on.Site)\n",
        "print(DTS_Variance)\n",
        "#Finding the standard deviation of the Daily Time Spent on Site column\n",
        "DTS_Sd<-sd(advertising_dataset$Daily.Time.Spent.on.Site)\n",
        "print(DTS_Sd)"
      ],
      "execution_count": null,
      "outputs": [
        {
          "output_type": "stream",
          "text": [
            "[1] 65.0002\n",
            "[1] 68.215\n",
            "[1] 91.43\n",
            "[1] 32.6\n",
            "[1] 32.60 91.43\n",
            "[1] 251.3371\n",
            "[1] 15.85361\n"
          ],
          "name": "stdout"
        }
      ]
    },
    {
      "cell_type": "code",
      "metadata": {
        "id": "qneT68F16i0L",
        "outputId": "de1ef962-9909-4723-b47a-e7f66950d44e",
        "colab": {
          "base_uri": "https://localhost:8080/"
        }
      },
      "source": [
        "#Finding the mode\n",
        "%%R\n",
        "v<-my_data %>% pull(Daily.Time.Spent.on.Site)\n",
        "getmode <- function(v) {\n",
        "   uniqv <- unique(v)\n",
        "   uniqv[which.max(tabulate(match(v, uniqv)))]\n",
        "}\n",
        "DTS.Mode<-getmode(advertising_dataset$Daily.Time.Spent.on.Site)\n",
        "DTS.Mode\n",
        "#The modal time is 62.26 minutes."
      ],
      "execution_count": null,
      "outputs": [
        {
          "output_type": "stream",
          "text": [
            "[1] 62.26\n"
          ],
          "name": "stdout"
        }
      ]
    },
    {
      "cell_type": "code",
      "metadata": {
        "id": "nkEJ5wl-AhH7",
        "outputId": "2a7f76df-5887-4f10-8cc2-435e5675e9e7",
        "colab": {
          "base_uri": "https://localhost:8080/",
          "height": 497
        }
      },
      "source": [
        "%%R\n",
        "#Checking for Outliers in the Daily Time Spent on Site Column\n",
        "boxplot(advertising_dataset$Daily.Time.Spent.on.Site)"
      ],
      "execution_count": null,
      "outputs": [
        {
          "output_type": "display_data",
          "data": {
            "image/png": "[encoded data removed]"
          },
          "metadata": {
            "tags": []
          }
        }
      ]
    },
    {
      "cell_type": "code",
      "metadata": {
        "id": "_kS6l2WGGMq0",
        "outputId": "279f3ba5-f228-4eca-bc63-f8dde217b3a1",
        "colab": {
          "base_uri": "https://localhost:8080/",
          "height": 497
        }
      },
      "source": [
        "%%R\n",
        "#Checking the distribution of Daily Time Spent on Site\n",
        "hist(advertising_dataset$Daily.Time.Spent.on.Site)"
      ],
      "execution_count": null,
      "outputs": [
        {
          "output_type": "display_data",
          "data": {
            "image/png": "[encoded data removed]"
          },
          "metadata": {
            "tags": []
          }
        }
      ]
    },
    {
      "cell_type": "code",
      "metadata": {
        "id": "D1MtWkT-7hvf",
        "outputId": "80e1b66c-420b-4ee6-82b6-42ab8aa5f4b5",
        "colab": {
          "base_uri": "https://localhost:8080/"
        }
      },
      "source": [
        "%%R\n",
        "#Finding the mean\n",
        "AI_m<-mean(advertising_dataset$Area.Income)\n",
        "print(AI_m)\n",
        "#Finding the median\n",
        "AI_m1<-median(advertising_dataset$Area.Income)\n",
        "print(AI_m1)\n",
        "#Finding the maximum value in the Area Income column\n",
        "AI_Max<-max(advertising_dataset$Area.Income)\n",
        "print(AI_Max)\n",
        "#Finding the minimum value in the Area Income column\n",
        "AI_Min<-min(advertising_dataset$Area.Income)\n",
        "print(AI_Min)\n",
        "#Finding the range value of the Area Income column\n",
        "AI_Range<-range(advertising_dataset$Area.Income)\n",
        "print(AI_Range)\n",
        "#Finding the variance of the Area Income column\n",
        "AI_Variance<-var(advertising_dataset$Area.Income)\n",
        "print(AI_Variance)\n",
        "#Finding the standard deviation Area Income column\n",
        "AI_Sd<-sd(advertising_dataset$Area.Income)\n",
        "print(AI_Sd)"
      ],
      "execution_count": null,
      "outputs": [
        {
          "output_type": "stream",
          "text": [
            "[1] 55000\n",
            "[1] 57012.3\n",
            "[1] 79484.8\n",
            "[1] 13996.5\n",
            "[1] 13996.5 79484.8\n",
            "[1] 179952406\n",
            "[1] 13414.63\n"
          ],
          "name": "stdout"
        }
      ]
    },
    {
      "cell_type": "code",
      "metadata": {
        "id": "tn5LRdtr82uP",
        "outputId": "1dba3ffa-f5c3-42a5-c829-10fc9d4961a1",
        "colab": {
          "base_uri": "https://localhost:8080/"
        }
      },
      "source": [
        "#Finding the mode\n",
        "%%R\n",
        "v<-my_data %>% pull(Area.Income)\n",
        "getmode <- function(v) {\n",
        "   uniqv <- unique(v)\n",
        "   uniqv[which.max(tabulate(match(v, uniqv)))]\n",
        "}\n",
        "AI.Mode<-getmode(advertising_dataset$Area.Income)\n",
        "AI.Mode\n",
        "#The modal Area Income is 61,833.90."
      ],
      "execution_count": null,
      "outputs": [
        {
          "output_type": "stream",
          "text": [
            "[1] 61833.9\n"
          ],
          "name": "stdout"
        }
      ]
    },
    {
      "cell_type": "code",
      "metadata": {
        "id": "6GUau59IAVro",
        "outputId": "4512bf8f-c1b2-43f0-c48d-90f93dfeddd9",
        "colab": {
          "base_uri": "https://localhost:8080/",
          "height": 497
        }
      },
      "source": [
        "%%R\n",
        "#Checking for outliers in the Area Income column.\n",
        "boxplot(advertising_dataset$Area.Income)"
      ],
      "execution_count": null,
      "outputs": [
        {
          "output_type": "display_data",
          "data": {
            "image/png": "[encoded data removed]"
          },
          "metadata": {
            "tags": []
          }
        }
      ]
    },
    {
      "cell_type": "code",
      "metadata": {
        "id": "Cj03AHgPGBgK",
        "outputId": "ce7231fb-2f43-4119-ad44-4cf82cd4bd0d",
        "colab": {
          "base_uri": "https://localhost:8080/",
          "height": 497
        }
      },
      "source": [
        "%%R\n",
        "#Checking the distribution of Area Income\n",
        "hist(advertising_dataset$Area.Income)"
      ],
      "execution_count": null,
      "outputs": [
        {
          "output_type": "display_data",
          "data": {
            "image/png": "[encoded data removed]"
          },
          "metadata": {
            "tags": []
          }
        }
      ]
    },
    {
      "cell_type": "code",
      "metadata": {
        "id": "qzjY9-4m9M4U",
        "outputId": "b218a24e-2760-46c6-a830-08d15a64195f",
        "colab": {
          "base_uri": "https://localhost:8080/"
        }
      },
      "source": [
        "%%R\n",
        "#Finding the mean\n",
        "DIU_m<-mean(advertising_dataset$Daily.Internet.Usage)\n",
        "print(DIU_m)\n",
        "#Finding the median\n",
        "DIU_m1<-median(advertising_dataset$Daily.Internet.Usage)\n",
        "print(DIU_m1)\n",
        "#Finding the maximum value in the Daily Internet Usage column\n",
        "DIU_Max<-max(advertising_dataset$Daily.Internet.Usage)\n",
        "print(DIU_Max)\n",
        "#Finding the minimum value in the Daily Internet Usage column\n",
        "DIU_Min<-min(advertising_dataset$Daily.Internet.Usage)\n",
        "print(DIU_Min)\n",
        "#Finding the range value of the Daily Internet Usagecolumn\n",
        "DIU_Range<-range(advertising_dataset$Daily.Internet.Usage)\n",
        "print(DIU_Range)\n",
        "#Finding the variance of the Daily Internet Usage column\n",
        "DIU_Variance<-var(advertising_dataset$Daily.Internet.Usage)\n",
        "print(DIU_Variance)\n",
        "#Finding the standard deviation Daily Internet Usage column\n",
        "DIU_Sd<-sd(advertising_dataset$Daily.Internet.Usage)\n",
        "print(DIU_Sd)"
      ],
      "execution_count": null,
      "outputs": [
        {
          "output_type": "stream",
          "text": [
            "[1] 180.0001\n",
            "[1] 183.13\n",
            "[1] 269.96\n",
            "[1] 104.78\n",
            "[1] 104.78 269.96\n",
            "[1] 1927.415\n",
            "[1] 43.90234\n"
          ],
          "name": "stdout"
        }
      ]
    },
    {
      "cell_type": "code",
      "metadata": {
        "id": "_EUT3pOy-Gf-",
        "outputId": "aa66cb9f-8e3e-458e-faad-10402c9b6b08",
        "colab": {
          "base_uri": "https://localhost:8080/"
        }
      },
      "source": [
        "#Finding the mode\n",
        "%%R\n",
        "v<-my_data %>% pull(Daily.Internet.Usage)\n",
        "getmode <- function(v) {\n",
        "   uniqv <- unique(v)\n",
        "   uniqv[which.max(tabulate(match(v, uniqv)))]\n",
        "}\n",
        "DIU.Mode<-getmode(advertising_dataset$Daily.Internet.Usage)\n",
        "DIU.Mode\n",
        "#The modal Daily Internet Usage is 167.22MB."
      ],
      "execution_count": null,
      "outputs": [
        {
          "output_type": "stream",
          "text": [
            "[1] 167.22\n"
          ],
          "name": "stdout"
        }
      ]
    },
    {
      "cell_type": "code",
      "metadata": {
        "id": "Ium_Bqs9AGkr",
        "outputId": "2fd7ec41-e4df-4762-89de-251c0e1f5b74",
        "colab": {
          "base_uri": "https://localhost:8080/",
          "height": 497
        }
      },
      "source": [
        "%%R\n",
        "#Checking for outliers in the Daily Internet Usage Column\n",
        "boxplot(advertising_dataset$Daily.Internet.Usage)"
      ],
      "execution_count": null,
      "outputs": [
        {
          "output_type": "display_data",
          "data": {
            "image/png": "[encoded data removed]"
          },
          "metadata": {
            "tags": []
          }
        }
      ]
    },
    {
      "cell_type": "code",
      "metadata": {
        "id": "wpRg3GGkFwaz",
        "outputId": "0e878784-3e40-4787-9c9b-dc156ecba2f2",
        "colab": {
          "base_uri": "https://localhost:8080/",
          "height": 497
        }
      },
      "source": [
        "%%R\n",
        "#Checking the distribution of Daily Internet Usage\n",
        "hist(advertising_dataset$Daily.Internet.Usage)"
      ],
      "execution_count": null,
      "outputs": [
        {
          "output_type": "display_data",
          "data": {
            "image/png": "[encoded data removed]"
          },
          "metadata": {
            "tags": []
          }
        }
      ]
    },
    {
      "cell_type": "code",
      "metadata": {
        "id": "nj1J1-T1_xPN",
        "outputId": "53226bcb-9003-41c5-966b-34d4bed45aea",
        "colab": {
          "base_uri": "https://localhost:8080/"
        }
      },
      "source": [
        "%%R\n",
        "#Getting the summary statistics of the numeric variables.\n",
        "summary(Numeric)"
      ],
      "execution_count": null,
      "outputs": [
        {
          "output_type": "stream",
          "text": [
            " Daily.Time.Spent.on.Site      Age         Area.Income    Daily.Internet.Usage\n",
            " Min.   :32.60            Min.   :19.00   Min.   :13996   Min.   :104.8       \n",
            " 1st Qu.:51.36            1st Qu.:29.00   1st Qu.:47032   1st Qu.:138.8       \n",
            " Median :68.22            Median :35.00   Median :57012   Median :183.1       \n",
            " Mean   :65.00            Mean   :36.01   Mean   :55000   Mean   :180.0       \n",
            " 3rd Qu.:78.55            3rd Qu.:42.00   3rd Qu.:65471   3rd Qu.:218.8       \n",
            " Max.   :91.43            Max.   :61.00   Max.   :79485   Max.   :270.0       \n",
            "      Male       Clicked.on.Ad\n",
            " Min.   :0.000   Min.   :0.0  \n",
            " 1st Qu.:0.000   1st Qu.:0.0  \n",
            " Median :0.000   Median :0.5  \n",
            " Mean   :0.481   Mean   :0.5  \n",
            " 3rd Qu.:1.000   3rd Qu.:1.0  \n",
            " Max.   :1.000   Max.   :1.0  \n"
          ],
          "name": "stdout"
        }
      ]
    },
    {
      "cell_type": "markdown",
      "metadata": {
        "id": "x3ADAMHDBYyL"
      },
      "source": [
        "# **2.Categorical Variable**"
      ]
    },
    {
      "cell_type": "code",
      "metadata": {
        "id": "YHeSzqSGBk81",
        "outputId": "352a6db8-69f5-4654-80a9-9f00d64bca69",
        "colab": {
          "base_uri": "https://localhost:8080/"
        }
      },
      "source": [
        "%%R\n",
        "Gender <- advertising_dataset$Male\n",
        "Gender_frequency<- table(Gender)\n",
        "Gender_frequency\n",
        "barplot(Gender_frequency,col=\"Red\")\n"
      ],
      "execution_count": null,
      "outputs": [
        {
          "output_type": "display_data",
          "data": {
            "image/png": "[encoded data removed]"
          },
          "metadata": {
            "tags": []
          }
        }
      ]
    },
    {
      "cell_type": "markdown",
      "metadata": {
        "id": "hdaEhbuqCxKI"
      },
      "source": [
        "Out of the 1,000 browsing individuals,519 were female whereas 481 were male"
      ]
    },
    {
      "cell_type": "code",
      "metadata": {
        "id": "VIbUmtVVDGFR",
        "outputId": "f3765c41-bbfb-44e0-fdf3-373455da02b9",
        "colab": {
          "base_uri": "https://localhost:8080/"
        }
      },
      "source": [
        "%%R\n",
        "Clicked <- advertising_dataset$Clicked.on.Ad\n",
        "Clicked_frequency<- table(Clicked)\n",
        "Clicked_frequency\n",
        "barplot(Clicked_frequency,col=\"Blue\")"
      ],
      "execution_count": null,
      "outputs": [
        {
          "output_type": "display_data",
          "data": {
            "image/png": "[encoded data removed]"
          },
          "metadata": {
            "tags": []
          }
        }
      ]
    },
    {
      "cell_type": "markdown",
      "metadata": {
        "id": "he6gMiCyDfKL"
      },
      "source": [
        "Out of the 1,000 browsing individuals,500 people clicked on the advert whereas an equal numeber did not."
      ]
    },
    {
      "cell_type": "code",
      "metadata": {
        "id": "eVhgkncRV5MB",
        "outputId": "546a9627-7a50-4883-81a8-96791240752b",
        "colab": {
          "base_uri": "https://localhost:8080/"
        }
      },
      "source": [
        "%%R\n",
        "Country <- advertising_dataset$Country\n",
        "Country_frequency<- table(Country)\n",
        "Country_frequency\n",
        "barplot(Country_frequency,col=\"Yellow\")"
      ],
      "execution_count": null,
      "outputs": [
        {
          "output_type": "display_data",
          "data": {
            "image/png": "[encoded data removed]"
          },
          "metadata": {
            "tags": []
          }
        }
      ]
    },
    {
      "cell_type": "code",
      "metadata": {
        "id": "YSLAa6jffz1y",
        "outputId": "16381073-836c-49ee-9e92-6a7931285028",
        "colab": {
          "base_uri": "https://localhost:8080/"
        }
      },
      "source": [
        "%%R\n",
        "City <- advertising_dataset$City\n",
        "City_frequency<- table(City)\n",
        "City_frequency\n",
        "barplot(City_frequency)"
      ],
      "execution_count": null,
      "outputs": [
        {
          "output_type": "display_data",
          "data": {
            "image/png": "[encoded data removed]"
          },
          "metadata": {
            "tags": []
          }
        }
      ]
    },
    {
      "cell_type": "code",
      "metadata": {
        "id": "3LFjgLtlgWfz",
        "outputId": "2796d2f6-80b4-46a8-fe0f-73b61d74a78c",
        "colab": {
          "base_uri": "https://localhost:8080/"
        }
      },
      "source": [
        "%%R\n",
        "Topic <- advertising_dataset$Ad.Topic.Line\n",
        "Topic_frequency<- table(Topic)\n",
        "Topic_frequency"
      ],
      "execution_count": null,
      "outputs": [
        {
          "output_type": "stream",
          "text": [
            "Topic\n",
            "                      Adaptive 24hour Graphic Interface \n",
            "                                                      1 \n",
            "                         Adaptive asynchronous attitude \n",
            "                                                      1 \n",
            "                 Adaptive context-sensitive application \n",
            "                                                      1 \n",
            "                Adaptive contextually-based methodology \n",
            "                                                      1 \n",
            "                   Adaptive demand-driven knowledgebase \n",
            "                                                      1 \n",
            "                            Adaptive uniform capability \n",
            "                                                      1 \n",
            "                             Advanced 24/7 productivity \n",
            "                                                      1 \n",
            "                      Advanced 5thgeneration capability \n",
            "                                                      1 \n",
            "                       Advanced didactic conglomeration \n",
            "                                                      1 \n",
            "                Advanced disintermediate data-warehouse \n",
            "                                                      1 \n",
            "                        Advanced exuding conglomeration \n",
            "                                                      1 \n",
            "                          Advanced full-range migration \n",
            "                                                      1 \n",
            "                            Advanced heuristic firmware \n",
            "                                                      1 \n",
            "                              Advanced local task-force \n",
            "                                                      1 \n",
            "                    Advanced modular Local Area Network \n",
            "                                                      1 \n",
            "                         Advanced systemic productivity \n",
            "                                                      1 \n",
            "                   Advanced web-enabled standardization \n",
            "                                                      1 \n",
            "                        Ameliorated actuating workforce \n",
            "                                                      1 \n",
            "            Ameliorated bandwidth-monitored contingency \n",
            "                                                      1 \n",
            "                     Ameliorated client-driven forecast \n",
            "                                                      1 \n",
            "                 Ameliorated coherent open architecture \n",
            "                                                      1 \n",
            "           Ameliorated contextually-based collaboration \n",
            "                                                      1 \n",
            "                          Ameliorated discrete extranet \n",
            "                                                      1 \n",
            "                         Ameliorated exuding encryption \n",
            "                                                      1 \n",
            "                           Ameliorated exuding solution \n",
            "                                                      1 \n",
            "      Ameliorated intermediate Graphical User Interface \n",
            "                                                      1 \n",
            "                      Ameliorated leadingedge help-desk \n",
            "                                                      1 \n",
            "                            Ameliorated local workforce \n",
            "                                                      1 \n",
            "                         Ameliorated tangible hierarchy \n",
            "                                                      1 \n",
            "                 Ameliorated upward-trending definition \n",
            "                                                      1 \n",
            "                      Ameliorated user-facing help-desk \n",
            "                                                      1 \n",
            "                  Ameliorated well-modulated complexity \n",
            "                                                      1 \n",
            "                           Assimilated actuating policy \n",
            "                                                      1 \n",
            "                          Assimilated discrete strategy \n",
            "                                                      1 \n",
            "                        Assimilated encompassing portal \n",
            "                                                      1 \n",
            "                         Assimilated fault-tolerant hub \n",
            "                                                      1 \n",
            "                   Assimilated homogeneous service-desk \n",
            "                                                      1 \n",
            "                          Assimilated hybrid initiative \n",
            "                                                      1 \n",
            "                       Assimilated multi-state paradigm \n",
            "                                                      1 \n",
            "                   Assimilated next generation firmware \n",
            "                                                      1 \n",
            "                          Assimilated stable encryption \n",
            "                                                      1 \n",
            "                  Automated client-driven orchestration \n",
            "                                                      1 \n",
            "                         Automated coherent flexibility \n",
            "                                                      1 \n",
            "                         Automated directional function \n",
            "                                                      1 \n",
            "                 Automated full-range Internet solution \n",
            "                                                      1 \n",
            "                                 Automated mobile model \n",
            "                                                      1 \n",
            "                          Automated multi-state toolset \n",
            "                                                      1 \n",
            "                     Automated object-oriented firmware \n",
            "                                                      1 \n",
            "                             Automated stable help-desk \n",
            "                                                      1 \n",
            "                               Automated static concept \n",
            "                                                      1 \n",
            "                        Automated web-enabled migration \n",
            "                                                      1 \n",
            "                         Balanced 4thgeneration success \n",
            "                                                      1 \n",
            "                           Balanced actuating moderator \n",
            "                                                      1 \n",
            "                        Balanced asynchronous hierarchy \n",
            "                                                      1 \n",
            "          Balanced contextually-based pricing structure \n",
            "                                                      1 \n",
            "                             Balanced discrete approach \n",
            "                                                      1 \n",
            "                Balanced disintermediate conglomeration \n",
            "                                                      1 \n",
            "                           Balanced dynamic application \n",
            "                                                      1 \n",
            "                            Balanced empowering success \n",
            "                                                      1 \n",
            "                          Balanced executive definition \n",
            "                                                      1 \n",
            "                            Balanced heuristic approach \n",
            "                                                      1 \n",
            "                     Balanced mobile Local Area Network \n",
            "                                                      1 \n",
            "                          Balanced motivating help-desk \n",
            "                                                      1 \n",
            "                        Balanced responsive open system \n",
            "                                                      1 \n",
            "                             Balanced uniform algorithm \n",
            "                                                      1 \n",
            "                          Balanced value-added database \n",
            "                                                      1 \n",
            "     Business-focused asynchronous budgetary management \n",
            "                                                      1 \n",
            "                    Business-focused background synergy \n",
            "                                                      1 \n",
            "                Business-focused client-driven forecast \n",
            "                                                      1 \n",
            "               Business-focused encompassing neural-net \n",
            "                                                      1 \n",
            "                   Business-focused high-level hardware \n",
            "                                                      1 \n",
            "                    Business-focused holistic benchmark \n",
            "                                                      1 \n",
            "                  Business-focused maximized complexity \n",
            "                                                      1 \n",
            "                     Business-focused real-time toolset \n",
            "                                                      1 \n",
            "                    Business-focused responsive website \n",
            "                                                      1 \n",
            "                 Business-focused transitional solution \n",
            "                                                      1 \n",
            "                 Business-focused user-facing benchmark \n",
            "                                                      1 \n",
            "                Business-focused value-added definition \n",
            "                                                      1 \n",
            "                          Centralized 24/7 installation \n",
            "                                                      1 \n",
            "                             Centralized 24hour synergy \n",
            "                                                      1 \n",
            "                        Centralized asynchronous portal \n",
            "                                                      1 \n",
            "           Centralized clear-thinking Graphic Interface \n",
            "                                                      1 \n",
            "                    Centralized client-driven workforce \n",
            "                                                      1 \n",
            "                  Centralized content-based focus group \n",
            "                                                      1 \n",
            "                    Centralized logistical secured line \n",
            "                                                      1 \n",
            "                      Centralized multi-state hierarchy \n",
            "                                                      1 \n",
            "                         Centralized neutral neural-net \n",
            "                                                      1 \n",
            "                   Centralized systematic knowledgebase \n",
            "                                                      1 \n",
            "                 Centralized tertiary pricing structure \n",
            "                                                      1 \n",
            "                   Centralized user-facing service-desk \n",
            "                                                      1 \n",
            "                      Centralized value-added hierarchy \n",
            "                                                      1 \n",
            "                     Cloned 5thgeneration orchestration \n",
            "                                                      1 \n",
            "               Cloned analyzing artificial intelligence \n",
            "                                                      1 \n",
            "                              Cloned dedicated analyzer \n",
            "                                                      1 \n",
            "                             Cloned explicit middleware \n",
            "                                                      1 \n",
            "                            Cloned incremental matrices \n",
            "                                                      1 \n",
            "                       Cloned object-oriented benchmark \n",
            "                                                      1 \n",
            "                                Cloned optimal leverage \n",
            "                                                      1 \n",
            "                           Compatible composite project \n",
            "                                                      1 \n",
            "                      Compatible dedicated productivity \n",
            "                                                      1 \n",
            "                 Compatible intangible customer loyalty \n",
            "                                                      1 \n",
            "                        Compatible intermediate concept \n",
            "                                                      1 \n",
            "                          Compatible scalable emulation \n",
            "                                                      1 \n",
            "                           Compatible systemic function \n",
            "                                                      1 \n",
            "                                  Configurable 24/7 hub \n",
            "                                                      1 \n",
            "                  Configurable asynchronous application \n",
            "                                                      1 \n",
            "                   Configurable bottom-line application \n",
            "                                                      1 \n",
            "                         Configurable coherent function \n",
            "                                                      1 \n",
            "                Configurable disintermediate throughput \n",
            "                                                      1 \n",
            "                           Configurable dynamic adapter \n",
            "                                                      1 \n",
            "                      Configurable dynamic secured line \n",
            "                                                      1 \n",
            "                 Configurable fault-tolerant monitoring \n",
            "                                                      1 \n",
            "                        Configurable impactful capacity \n",
            "                                                      1 \n",
            "                        Configurable impactful firmware \n",
            "                                                      1 \n",
            "                    Configurable impactful productivity \n",
            "                                                      1 \n",
            "                   Configurable interactive contingency \n",
            "                                                      1 \n",
            "       Configurable logistical Graphical User Interface \n",
            "                                                      1 \n",
            "                Configurable mission-critical algorithm \n",
            "                                                      1 \n",
            "                   Configurable multi-state utilization \n",
            "                                                      1 \n",
            "             Configurable tertiary budgetary management \n",
            "                                                      1 \n",
            "                       Configurable tertiary capability \n",
            "                                                      1 \n",
            "                       Cross-group global orchestration \n",
            "                                                      1 \n",
            "                  Cross-group human-resource time-frame \n",
            "                                                      1 \n",
            "                            Cross-group neutral synergy \n",
            "                                                      1 \n",
            "                  Cross-group non-volatile secured line \n",
            "                                                      1 \n",
            "                           Cross-group regional website \n",
            "                                                      1 \n",
            "                  Cross-group systemic customer loyalty \n",
            "                                                      1 \n",
            "                        Cross-group value-added success \n",
            "                                                      1 \n",
            "               Cross-platform 4thgeneration focus group \n",
            "                                                      1 \n",
            "                 Cross-platform client-server hierarchy \n",
            "                                                      1 \n",
            "                    Cross-platform directional intranet \n",
            "                                                      1 \n",
            "            Cross-platform logistical pricing structure \n",
            "                                                      1 \n",
            "                    Cross-platform multimedia algorithm \n",
            "                                                      1 \n",
            "                   Cross-platform neutral system engine \n",
            "                                                      1 \n",
            "                     Cross-platform regional task-force \n",
            "                                                      1 \n",
            "                   Cross-platform zero-defect structure \n",
            "                                                      1 \n",
            "                          Customer-focused 24/7 concept \n",
            "                                                      1 \n",
            "     Customer-focused attitude-oriented instruction set \n",
            "                                                      1 \n",
            "                    Customer-focused empowering ability \n",
            "                                                      1 \n",
            "                    Customer-focused explicit challenge \n",
            "                                                      1 \n",
            "         Customer-focused fault-tolerant implementation \n",
            "                                                      1 \n",
            "                 Customer-focused full-range neural-net \n",
            "                                                      1 \n",
            "                     Customer-focused impactful success \n",
            "                                                      1 \n",
            "             Customer-focused incremental system engine \n",
            "                                                      1 \n",
            "       Customer-focused multi-tasking Internet solution \n",
            "                                                      1 \n",
            "                  Customer-focused optimizing moderator \n",
            "                                                      1 \n",
            "            Customer-focused solution-oriented software \n",
            "                                                      1 \n",
            "          Customer-focused system-worthy superstructure \n",
            "                                                      1 \n",
            "                 Customer-focused transitional strategy \n",
            "                                                      1 \n",
            "           Customer-focused upward-trending contingency \n",
            "                                                      1 \n",
            "       Customer-focused zero-defect process improvement \n",
            "                                                      1 \n",
            "              Customizable 6thgeneration knowledge user \n",
            "                                                      1 \n",
            "                        Customizable executive software \n",
            "                                                      1 \n",
            "                          Customizable holistic archive \n",
            "                                                      1 \n",
            "                   Customizable homogeneous contingency \n",
            "                                                      1 \n",
            "                      Customizable hybrid system engine \n",
            "                                                      1 \n",
            "       Customizable methodical Graphical User Interface \n",
            "                                                      1 \n",
            "                  Customizable mission-critical adapter \n",
            "                                                      1 \n",
            "                 Customizable modular Internet solution \n",
            "                                                      1 \n",
            "                     Customizable multi-tasking website \n",
            "                                                      1 \n",
            "                   Customizable systematic service-desk \n",
            "                                                      1 \n",
            "                        Customizable tangible hierarchy \n",
            "                                                      1 \n",
            "                       Customizable value-added project \n",
            "                                                      1 \n",
            "             Customizable zero-defect Internet solution \n",
            "                                                      1 \n",
            "                        Customizable zero-defect matrix \n",
            "                                                      1 \n",
            "                      De-engineered actuating hierarchy \n",
            "                                                      1 \n",
            "             De-engineered attitude-oriented projection \n",
            "                                                      1 \n",
            "                  De-engineered fault-tolerant database \n",
            "                                                      1 \n",
            "                   De-engineered intangible flexibility \n",
            "                                                      1 \n",
            "                    De-engineered mobile infrastructure \n",
            "                                                      1 \n",
            "                 De-engineered object-oriented protocol \n",
            "                                                      1 \n",
            "      De-engineered solution-oriented open architecture \n",
            "                                                      1 \n",
            "                    De-engineered tertiary secured line \n",
            "                                                      1 \n",
            "                          Decentralized 24hour approach \n",
            "                                                      1 \n",
            "              Decentralized attitude-oriented interface \n",
            "                                                      1 \n",
            "                    Decentralized bottom-line help-desk \n",
            "                                                      1 \n",
            "             Decentralized client-driven data-warehouse \n",
            "                                                      1 \n",
            "                Decentralized foreground infrastructure \n",
            "                                                      1 \n",
            "                    Decentralized methodical capability \n",
            "                                                      1 \n",
            "                     Decentralized needs-based analyzer \n",
            "                                                      1 \n",
            "                        Decentralized real-time circuit \n",
            "                                                      1 \n",
            "                    Devolved exuding Local Area Network \n",
            "                                                      1 \n",
            "                        Devolved human-resource circuit \n",
            "                                                      1 \n",
            "                            Devolved regional moderator \n",
            "                                                      1 \n",
            "                          Devolved responsive structure \n",
            "                                                      1 \n",
            "                             Devolved tangible approach \n",
            "                                                      1 \n",
            "                  Devolved zero administration intranet \n",
            "                                                      1 \n",
            "                        Digitized content-based circuit \n",
            "                                                      1 \n",
            "                   Digitized contextually-based product \n",
            "                                                      1 \n",
            "                      Digitized disintermediate ability \n",
            "                                                      1 \n",
            "                            Digitized global capability \n",
            "                                                      1 \n",
            "                           Digitized heuristic solution \n",
            "                                                      1 \n",
            "                             Digitized homogeneous core \n",
            "                                                      1 \n",
            "                       Digitized interactive initiative \n",
            "                                                      1 \n",
            "                         Digitized radical architecture \n",
            "                                                      1 \n",
            "                                Digitized radical array \n",
            "                                                      1 \n",
            "                            Digitized static capability \n",
            "                                                      1 \n",
            "                 Digitized zero administration paradigm \n",
            "                                                      1 \n",
            "                   Digitized zero-defect implementation \n",
            "                                                      1 \n",
            "                   Distributed 3rdgeneration definition \n",
            "                                                      1 \n",
            "                       Distributed bifurcated challenge \n",
            "                                                      1 \n",
            "                         Distributed cohesive migration \n",
            "                                                      1 \n",
            "                Distributed fault-tolerant service-desk \n",
            "                                                      1 \n",
            "                        Distributed intangible database \n",
            "                                                      1 \n",
            "                  Distributed leadingedge orchestration \n",
            "                                                      1 \n",
            "                          Distributed maximized ability \n",
            "                                                      1 \n",
            "                     Distributed scalable orchestration \n",
            "                                                      1 \n",
            "                     Distributed tertiary system engine \n",
            "                                                      1 \n",
            "                             Diverse background ability \n",
            "                                                      1 \n",
            "                           Diverse directional hardware \n",
            "                                                      1 \n",
            "                            Diverse executive groupware \n",
            "                                                      1 \n",
            "                            Diverse leadingedge website \n",
            "                                                      1 \n",
            "                              Diverse modular interface \n",
            "                                                      1 \n",
            "                      Diverse multi-tasking parallelism \n",
            "                                                      1 \n",
            "                                 Diverse stable circuit \n",
            "                                                      1 \n",
            "                        Down-sized background groupware \n",
            "                                                      1 \n",
            "                    Down-sized bandwidth-monitored core \n",
            "                                                      1 \n",
            "               Down-sized explicit budgetary management \n",
            "                                                      1 \n",
            "                            Down-sized modular intranet \n",
            "                                                      1 \n",
            "                      Down-sized uniform info-mediaries \n",
            "                                                      1 \n",
            "                      Down-sized well-modulated archive \n",
            "                                                      1 \n",
            "                       Enhanced asymmetric installation \n",
            "                                                      1 \n",
            "                             Enhanced dedicated support \n",
            "                                                      1 \n",
            "                         Enhanced homogeneous moderator \n",
            "                                                      1 \n",
            "                             Enhanced intangible portal \n",
            "                                                      1 \n",
            "                  Enhanced intermediate standardization \n",
            "                                                      1 \n",
            "                              Enhanced maximized access \n",
            "                                                      1 \n",
            "                           Enhanced methodical database \n",
            "                                                      1 \n",
            "                            Enhanced optimizing website \n",
            "                                                      1 \n",
            "                       Enhanced regional conglomeration \n",
            "                                                      1 \n",
            "                     Enhanced system-worthy application \n",
            "                                                      1 \n",
            "                         Enhanced system-worthy toolset \n",
            "                                                      1 \n",
            "                            Enhanced systematic adapter \n",
            "                                                      1 \n",
            "                            Enhanced systemic benchmark \n",
            "                                                      1 \n",
            "                          Enhanced tertiary utilization \n",
            "                                                      1 \n",
            "              Enhanced zero tolerance Graphic Interface \n",
            "                                                      1 \n",
            "            Enterprise-wide bi-directional secured line \n",
            "                                                      1 \n",
            "              Enterprise-wide client-driven contingency \n",
            "                                                      1 \n",
            "                   Enterprise-wide foreground emulation \n",
            "                                                      1 \n",
            "          Enterprise-wide incremental Internet solution \n",
            "                                                      1 \n",
            "                         Enterprise-wide local matrices \n",
            "                                                      1 \n",
            "                         Enterprise-wide tangible model \n",
            "                                                      1 \n",
            "                                Ergonomic 24/7 solution \n",
            "                                                      1 \n",
            "                    Ergonomic client-driven application \n",
            "                                                      1 \n",
            "                             Ergonomic empowering frame \n",
            "                                                      1 \n",
            "                        Ergonomic full-range time-frame \n",
            "                                                      1 \n",
            "                          Ergonomic methodical encoding \n",
            "                                                      1 \n",
            "                        Ergonomic multi-state structure \n",
            "                                                      1 \n",
            "                               Ergonomic neutral portal \n",
            "                                                      1 \n",
            "                      Ergonomic zero tolerance encoding \n",
            "                                                      1 \n",
            "                          Exclusive client-driven model \n",
            "                                                      1 \n",
            "                            Exclusive cohesive intranet \n",
            "                                                      1 \n",
            "                            Exclusive discrete firmware \n",
            "                                                      1 \n",
            "            Exclusive disintermediate Internet solution \n",
            "                                                      1 \n",
            "                   Exclusive disintermediate task-force \n",
            "                                                      1 \n",
            "                       Exclusive even-keeled moratorium \n",
            "                                                      1 \n",
            "                Exclusive multi-state Internet solution \n",
            "                                                      1 \n",
            "                          Exclusive neutral parallelism \n",
            "                                                      1 \n",
            "                         Exclusive systematic algorithm \n",
            "                                                      1 \n",
            "                      Exclusive zero tolerance alliance \n",
            "                                                      1 \n",
            "                         Exclusive zero tolerance frame \n",
            "                                                      1 \n",
            "                           Expanded clear-thinking core \n",
            "                                                      1 \n",
            "                            Expanded full-range synergy \n",
            "                                                      1 \n",
            "                           Expanded intangible solution \n",
            "                                                      1 \n",
            "                           Expanded modular application \n",
            "                                                      1 \n",
            "                              Expanded radical software \n",
            "                                                      1 \n",
            "                         Expanded value-added emulation \n",
            "                                                      1 \n",
            "                  Expanded zero administration attitude \n",
            "                                                      1 \n",
            "                           Extended analyzing emulation \n",
            "                                                      1 \n",
            "                  Extended context-sensitive monitoring \n",
            "                                                      1 \n",
            "                        Extended grid-enabled hierarchy \n",
            "                                                      1 \n",
            "                             Extended interactive model \n",
            "                                                      1 \n",
            "                          Extended leadingedge solution \n",
            "                                                      1 \n",
            "                             Extended local methodology \n",
            "                                                      1 \n",
            "                               Extended systemic policy \n",
            "                                                      1 \n",
            "                      Face-to-face analyzing encryption \n",
            "                                                      1 \n",
            "                     Face-to-face dedicated flexibility \n",
            "                                                      1 \n",
            "                       Face-to-face even-keeled website \n",
            "                                                      1 \n",
            "                      Face-to-face executive encryption \n",
            "                                                      1 \n",
            "                     Face-to-face intermediate approach \n",
            "                                                      1 \n",
            "                       Face-to-face methodical intranet \n",
            "                                                      1 \n",
            "               Face-to-face mission-critical definition \n",
            "                                                      1 \n",
            "              Face-to-face modular budgetary management \n",
            "                                                      1 \n",
            "                        Face-to-face multimedia success \n",
            "                                                      1 \n",
            "                    Face-to-face reciprocal methodology \n",
            "                                                      1 \n",
            "                       Face-to-face responsive alliance \n",
            "                                                      1 \n",
            "                          Focused 24hour implementation \n",
            "                                                      1 \n",
            "                Focused 3rdgeneration pricing structure \n",
            "                                                      1 \n",
            "                               Focused coherent success \n",
            "                                                      1 \n",
            "               Focused fresh-thinking Graphic Interface \n",
            "                                                      1 \n",
            "                      Focused high-level conglomeration \n",
            "                                                      1 \n",
            "                               Focused high-level frame \n",
            "                                                      1 \n",
            "                  Focused incremental Graphic Interface \n",
            "                                                      1 \n",
            "                           Focused intangible moderator \n",
            "                                                      1 \n",
            "                          Focused multi-state workforce \n",
            "                                                      1 \n",
            "                      Focused multimedia implementation \n",
            "                                                      1 \n",
            "                            Focused scalable complexity \n",
            "                                                      1 \n",
            "                             Focused systemic benchmark \n",
            "                                                      1 \n",
            "                           Focused upward-trending core \n",
            "                                                      1 \n",
            "           Focused web-enabled Graphical User Interface \n",
            "                                                      1 \n",
            "                   Front-line actuating functionalities \n",
            "                                                      1 \n",
            "                Front-line bandwidth-monitored capacity \n",
            "                                                      1 \n",
            "                          Front-line bifurcated ability \n",
            "                                                      1 \n",
            "                               Front-line dynamic model \n",
            "                                                      1 \n",
            "                         Front-line even-keeled website \n",
            "                                                      1 \n",
            "                     Front-line fault-tolerant intranet \n",
            "                                                      1 \n",
            "                 Front-line fresh-thinking installation \n",
            "                                                      1 \n",
            "                  Front-line fresh-thinking open system \n",
            "                                                      1 \n",
            "                    Front-line heuristic data-warehouse \n",
            "                                                      1 \n",
            "                          Front-line incremental access \n",
            "                                                      1 \n",
            "                       Front-line intermediate database \n",
            "                                                      1 \n",
            "                      Front-line methodical utilization \n",
            "                                                      1 \n",
            "                             Front-line multi-state hub \n",
            "                                                      1 \n",
            "                            Front-line neutral alliance \n",
            "                                                      1 \n",
            "                 Front-line non-volatile implementation \n",
            "                                                      1 \n",
            "                   Front-line system-worthy flexibility \n",
            "                                                      1 \n",
            "                         Front-line systemic capability \n",
            "                                                      1 \n",
            "                           Front-line tangible alliance \n",
            "                                                      1 \n",
            "                   Front-line upward-trending groupware \n",
            "                                                      1 \n",
            "                           Front-line zero-defect array \n",
            "                                                      1 \n",
            "               Fully-configurable 5thgeneration circuit \n",
            "                                                      1 \n",
            "               Fully-configurable asynchronous firmware \n",
            "                                                      1 \n",
            "           Fully-configurable clear-thinking throughput \n",
            "                                                      1 \n",
            "      Fully-configurable client-driven customer loyalty \n",
            "                                                      1 \n",
            " Fully-configurable context-sensitive Graphic Interface \n",
            "                                                      1 \n",
            "                   Fully-configurable eco-centric frame \n",
            "                                                      1 \n",
            "                 Fully-configurable foreground solution \n",
            "                                                      1 \n",
            "                Fully-configurable high-level groupware \n",
            "                                                      1 \n",
            "           Fully-configurable high-level implementation \n",
            "                                                      1 \n",
            "                 Fully-configurable holistic throughput \n",
            "                                                      1 \n",
            "Fully-configurable incremental Graphical User Interface \n",
            "                                                      1 \n",
            "                 Fully-configurable neutral open system \n",
            "                                                      1 \n",
            "               Fully-configurable systemic productivity \n",
            "                                                      1 \n",
            "          Function-based context-sensitive secured line \n",
            "                                                      1 \n",
            "                Function-based directional productivity \n",
            "                                                      1 \n",
            "                     Function-based executive moderator \n",
            "                                                      1 \n",
            "                    Function-based fault-tolerant model \n",
            "                                                      1 \n",
            "             Function-based incremental standardization \n",
            "                                                      1 \n",
            "                     Function-based optimizing extranet \n",
            "                                                      1 \n",
            "                     Function-based optimizing protocol \n",
            "                                                      1 \n",
            "                         Function-based stable alliance \n",
            "                                                      1 \n",
            "                 Function-based transitional complexity \n",
            "                                                      1 \n",
            "               Fundamental clear-thinking knowledgebase \n",
            "                                                      1 \n",
            "                  Fundamental fault-tolerant neural-net \n",
            "                                                      1 \n",
            "                         Fundamental methodical support \n",
            "                                                      1 \n",
            "                          Fundamental modular algorithm \n",
            "                                                      1 \n",
            "                        Fundamental tangible moratorium \n",
            "                                                      1 \n",
            "                    Fundamental zero tolerance solution \n",
            "                                                      1 \n",
            "           Future-proofed coherent budgetary management \n",
            "                                                      1 \n",
            "                       Future-proofed coherent hardware \n",
            "                                                      1 \n",
            "           Future-proofed fresh-thinking conglomeration \n",
            "                                                      1 \n",
            "             Future-proofed grid-enabled implementation \n",
            "                                                      1 \n",
            "                 Future-proofed holistic superstructure \n",
            "                                                      1 \n",
            "                     Future-proofed methodical protocol \n",
            "                                                      1 \n",
            "                     Future-proofed modular utilization \n",
            "                                                      1 \n",
            "                       Future-proofed responsive matrix \n",
            "                                                      1 \n",
            "                         Future-proofed stable function \n",
            "                                                      1 \n",
            "                     Grass-roots 4thgeneration forecast \n",
            "                                                      1 \n",
            "                          Grass-roots coherent extranet \n",
            "                                                      1 \n",
            "                        Grass-roots cohesive monitoring \n",
            "                                                      1 \n",
            "                Grass-roots eco-centric instruction set \n",
            "                                                      1 \n",
            "                        Grass-roots empowering paradigm \n",
            "                                                      1 \n",
            "                    Grass-roots impactful system engine \n",
            "                                                      1 \n",
            "                 Grass-roots mission-critical emulation \n",
            "                                                      1 \n",
            "                          Grass-roots multimedia policy \n",
            "                                                      1 \n",
            "           Grass-roots solution-oriented conglomeration \n",
            "                                                      1 \n",
            "                        Grass-roots systematic hardware \n",
            "                                                      1 \n",
            "                   Grass-roots transitional flexibility \n",
            "                                                      1 \n",
            "                     Horizontal client-driven hierarchy \n",
            "                                                      1 \n",
            "                      Horizontal client-server database \n",
            "                                                      1 \n",
            "                       Horizontal content-based synergy \n",
            "                                                      1 \n",
            "                       Horizontal even-keeled challenge \n",
            "                                                      1 \n",
            "                             Horizontal global leverage \n",
            "                                                      1 \n",
            "                           Horizontal heuristic support \n",
            "                                                      1 \n",
            "                           Horizontal heuristic synergy \n",
            "                                                      1 \n",
            "                          Horizontal high-level concept \n",
            "                                                      1 \n",
            "                            Horizontal hybrid challenge \n",
            "                                                      1 \n",
            "                         Horizontal incremental website \n",
            "                                                      1 \n",
            "                     Horizontal intermediate monitoring \n",
            "                                                      1 \n",
            "                             Horizontal modular success \n",
            "                                                      1 \n",
            "                       Horizontal multi-state interface \n",
            "                                                      1 \n",
            "                       Horizontal national architecture \n",
            "                                                      1 \n",
            "                      Horizontal transitional challenge \n",
            "                                                      1 \n",
            "                   Implemented asynchronous application \n",
            "                                                      1 \n",
            "                       Implemented bifurcated workforce \n",
            "                                                      1 \n",
            "                 Implemented bottom-line implementation \n",
            "                                                      1 \n",
            "       Implemented context-sensitive Local Area Network \n",
            "                                                      1 \n",
            "                           Implemented didactic support \n",
            "                                                      1 \n",
            "                             Implemented discrete frame \n",
            "                                                      1 \n",
            "                   Implemented disintermediate attitude \n",
            "                                                      1 \n",
            "                            Implemented uniform synergy \n",
            "                                                      1 \n",
            "                   Innovative background conglomeration \n",
            "                                                      1 \n",
            "                  Innovative cohesive pricing structure \n",
            "                                                      1 \n",
            "                          Innovative executive encoding \n",
            "                                                      1 \n",
            "                        Innovative homogeneous alliance \n",
            "                                                      1 \n",
            "                          Innovative interactive portal \n",
            "                                                      1 \n",
            "                         Innovative maximized groupware \n",
            "                                                      1 \n",
            "                          Innovative regional groupware \n",
            "                                                      1 \n",
            "                          Innovative regional structure \n",
            "                                                      1 \n",
            "                        Innovative user-facing extranet \n",
            "                                                      1 \n",
            "                    Integrated 3rdgeneration monitoring \n",
            "                                                      1 \n",
            "                    Integrated client-server definition \n",
            "                                                      1 \n",
            "                  Integrated coherent pricing structure \n",
            "                                                      1 \n",
            "                        Integrated encompassing support \n",
            "                                                      1 \n",
            "           Integrated grid-enabled budgetary management \n",
            "                                                      1 \n",
            "                     Integrated human-resource encoding \n",
            "                                                      1 \n",
            "                         Integrated impactful groupware \n",
            "                                                      1 \n",
            "                         Integrated interactive support \n",
            "                                                      1 \n",
            "                           Integrated leadingedge frame \n",
            "                                                      1 \n",
            "                      Integrated maximized service-desk \n",
            "                                                      1 \n",
            "                       Integrated motivating neural-net \n",
            "                                                      1 \n",
            "                             Intuitive dynamic attitude \n",
            "                                                      1 \n",
            "                      Intuitive explicit conglomeration \n",
            "                                                      1 \n",
            "                            Intuitive explicit firmware \n",
            "                                                      1 \n",
            "                         Intuitive exuding service-desk \n",
            "                                                      1 \n",
            "                     Intuitive fresh-thinking moderator \n",
            "                                                      1 \n",
            "                               Intuitive global website \n",
            "                                                      1 \n",
            "                        Intuitive modular system engine \n",
            "                                                      1 \n",
            "                             Intuitive radical forecast \n",
            "                                                      1 \n",
            "         Intuitive transitional artificial intelligence \n",
            "                                                      1 \n",
            "                  Intuitive zero administration adapter \n",
            "                                                      1 \n",
            "                        Intuitive zero-defect framework \n",
            "                                                      1 \n",
            "                     Inverse asymmetric instruction set \n",
            "                                                      1 \n",
            "                  Inverse bi-directional knowledge user \n",
            "                                                      1 \n",
            "                              Inverse discrete extranet \n",
            "                                                      1 \n",
            "                          Inverse high-level capability \n",
            "                                                      1 \n",
            "                                      Inverse local hub \n",
            "                                                      1 \n",
            "                                  Inverse national core \n",
            "                                                      1 \n",
            "                     Inverse next generation moratorium \n",
            "                                                      1 \n",
            "                                 Inverse stable synergy \n",
            "                                                      1 \n",
            "                Inverse zero tolerance customer loyalty \n",
            "                                                      1 \n",
            "                         Inverse zero-defect capability \n",
            "                                                      1 \n",
            "                                Managed 24hour analyzer \n",
            "                                                      1 \n",
            "                       Managed 5thgeneration time-frame \n",
            "                                                      1 \n",
            "                        Managed 6thgeneration hierarchy \n",
            "                                                      1 \n",
            "            Managed attitude-oriented Internet solution \n",
            "                                                      1 \n",
            "                           Managed client-server access \n",
            "                                                      1 \n",
            "                           Managed didactic flexibility \n",
            "                                                      1 \n",
            "                     Managed disintermediate capability \n",
            "                                                      1 \n",
            "                       Managed disintermediate matrices \n",
            "                                                      1 \n",
            "                           Managed eco-centric encoding \n",
            "                                                      1 \n",
            "                   Managed grid-enabled standardization \n",
            "                                                      1 \n",
            "                           Managed impactful definition \n",
            "                                                      1 \n",
            "                              Managed national hardware \n",
            "                                                      1 \n",
            "                Managed upward-trending instruction set \n",
            "                                                      1 \n",
            "                   Managed well-modulated collaboration \n",
            "                                                      1 \n",
            "                         Managed zero tolerance concept \n",
            "                                                      1 \n",
            "                      Mandatory 3rdgeneration moderator \n",
            "                                                      1 \n",
            "                      Mandatory 4thgeneration structure \n",
            "                                                      1 \n",
            "                           Mandatory coherent groupware \n",
            "                                                      1 \n",
            "                     Mandatory dedicated data-warehouse \n",
            "                                                      1 \n",
            "               Mandatory disintermediate info-mediaries \n",
            "                                                      1 \n",
            "                  Mandatory disintermediate utilization \n",
            "                                                      1 \n",
            "                       Mandatory empowering focus group \n",
            "                                                      1 \n",
            "                     Mandatory homogeneous architecture \n",
            "                                                      1 \n",
            "                              Monitored 24/7 moratorium \n",
            "                                                      1 \n",
            "                 Monitored content-based implementation \n",
            "                                                      1 \n",
            "                 Monitored context-sensitive initiative \n",
            "                                                      1 \n",
            "                      Monitored dynamic instruction set \n",
            "                                                      1 \n",
            "                       Monitored executive architecture \n",
            "                                                      1 \n",
            "                           Monitored explicit hierarchy \n",
            "                                                      1 \n",
            "          Monitored homogeneous artificial intelligence \n",
            "                                                      1 \n",
            "                         Monitored intermediate circuit \n",
            "                                                      1 \n",
            "                      Monitored local Internet solution \n",
            "                                                      1 \n",
            "                     Monitored national standardization \n",
            "                                                      1 \n",
            "            Monitored object-oriented Graphic Interface \n",
            "                                                      1 \n",
            "                     Monitored real-time superstructure \n",
            "                                                      1 \n",
            "                         Monitored systematic hierarchy \n",
            "                                                      1 \n",
            "            Monitored zero administration collaboration \n",
            "                                                      1 \n",
            "                    Multi-channeled 3rdgeneration model \n",
            "                                                      1 \n",
            "                Multi-channeled asymmetric installation \n",
            "                                                      1 \n",
            "               Multi-channeled asynchronous open system \n",
            "                                                      1 \n",
            "              Multi-channeled attitude-oriented toolset \n",
            "                                                      1 \n",
            "               Multi-channeled mission-critical success \n",
            "                                                      1 \n",
            "                   Multi-channeled non-volatile website \n",
            "                                                      1 \n",
            "     Multi-channeled reciprocal artificial intelligence \n",
            "                                                      1 \n",
            "                    Multi-channeled scalable moratorium \n",
            "                                                      1 \n",
            "                   Multi-lateral 24/7 Internet solution \n",
            "                                                      1 \n",
            "                Multi-lateral attitude-oriented adapter \n",
            "                                                      1 \n",
            "                    Multi-lateral empowering throughput \n",
            "                                                      1 \n",
            "                       Multi-lateral motivating circuit \n",
            "                                                      1 \n",
            "                   Multi-lateral multi-state encryption \n",
            "                                                      1 \n",
            "             Multi-layered 4thgeneration knowledge user \n",
            "                                                      1 \n",
            "                Multi-layered fresh-thinking neural-net \n",
            "                                                      1 \n",
            "       Multi-layered fresh-thinking process improvement \n",
            "                                                      1 \n",
            "    Multi-layered non-volatile Graphical User Interface \n",
            "                                                      1 \n",
            "                       Multi-layered secondary software \n",
            "                                                      1 \n",
            "                          Multi-layered stable encoding \n",
            "                                                      1 \n",
            "                          Multi-layered tangible portal \n",
            "                                                      1 \n",
            "                     Multi-layered user-facing paradigm \n",
            "                                                      1 \n",
            "                  Multi-layered user-facing parallelism \n",
            "                                                      1 \n",
            "              Multi-tiered foreground Graphic Interface \n",
            "                                                      1 \n",
            "                        Multi-tiered heuristic strategy \n",
            "                                                      1 \n",
            "                  Multi-tiered human-resource structure \n",
            "                                                      1 \n",
            "                    Multi-tiered interactive neural-net \n",
            "                                                      1 \n",
            "                         Multi-tiered maximized archive \n",
            "                                                      1 \n",
            "                           Multi-tiered mobile encoding \n",
            "                                                      1 \n",
            "                     Multi-tiered multi-state moderator \n",
            "                                                      1 \n",
            "                  Multi-tiered real-time implementation \n",
            "                                                      1 \n",
            "                           Multi-tiered stable leverage \n",
            "                                                      1 \n",
            "                    Networked asymmetric infrastructure \n",
            "                                                      1 \n",
            "                       Networked client-server solution \n",
            "                                                      1 \n",
            "                           Networked coherent interface \n",
            "                                                      1 \n",
            "                        Networked even-keeled workforce \n",
            "                                                      1 \n",
            "                        Networked foreground definition \n",
            "                                                      1 \n",
            "                         Networked high-level structure \n",
            "                                                      1 \n",
            "                          Networked impactful framework \n",
            "                                                      1 \n",
            "                           Networked local secured line \n",
            "                                                      1 \n",
            "                    Networked logistical info-mediaries \n",
            "                                                      1 \n",
            "                         Networked non-volatile synergy \n",
            "                                                      1 \n",
            "                  Networked regional Local Area Network \n",
            "                                                      1 \n",
            "                       Networked responsive application \n",
            "                                                      1 \n",
            "                                 Networked stable array \n",
            "                                                      1 \n",
            "                     Networked stable open architecture \n",
            "                                                      1 \n",
            "                    Object-based executive productivity \n",
            "                                                      1 \n",
            "                    Object-based leadingedge complexity \n",
            "                                                      1 \n",
            "                   Object-based modular functionalities \n",
            "                                                      1 \n",
            "                Object-based motivating instruction set \n",
            "                                                      1 \n",
            "                            Object-based neutral policy \n",
            "                                                      1 \n",
            "                          Object-based optimal solution \n",
            "                                                      1 \n",
            "                  Object-based reciprocal knowledgebase \n",
            "                                                      1 \n",
            "              Object-based system-worthy superstructure \n",
            "                                                      1 \n",
            "                 Open-architected full-range projection \n",
            "                                                      1 \n",
            "                Open-architected impactful productivity \n",
            "                                                      1 \n",
            "                   Open-architected intangible strategy \n",
            "                                                      1 \n",
            "          Open-architected needs-based customer loyalty \n",
            "                                                      1 \n",
            "                 Open-architected system-worthy ability \n",
            "                                                      1 \n",
            "              Open-architected system-worthy task-force \n",
            "                                                      1 \n",
            "                 Open-architected web-enabled benchmark \n",
            "                                                      1 \n",
            "      Open-architected zero administration secured line \n",
            "                                                      1 \n",
            "                     Open-source 5thgeneration leverage \n",
            "                                                      1 \n",
            "                        Open-source coherent monitoring \n",
            "                                                      1 \n",
            "                            Open-source coherent policy \n",
            "                                                      1 \n",
            "                       Open-source even-keeled database \n",
            "                                                      1 \n",
            "                            Open-source global strategy \n",
            "                                                      1 \n",
            "                      Open-source holistic productivity \n",
            "                                                      1 \n",
            "                             Open-source local approach \n",
            "                                                      1 \n",
            "                     Open-source optimizing parallelism \n",
            "                                                      1 \n",
            "                          Open-source scalable protocol \n",
            "                                                      1 \n",
            "                            Open-source stable paradigm \n",
            "                                                      1 \n",
            "                       Operative actuating installation \n",
            "                                                      1 \n",
            "                  Operative didactic Local Area Network \n",
            "                                                      1 \n",
            "                          Operative full-range forecast \n",
            "                                                      1 \n",
            "              Operative multi-tasking Graphic Interface \n",
            "                                                      1 \n",
            "                           Operative scalable emulation \n",
            "                                                      1 \n",
            "                    Operative secondary functionalities \n",
            "                                                      1 \n",
            "                             Operative stable moderator \n",
            "                                                      1 \n",
            "                       Operative system-worthy protocol \n",
            "                                                      1 \n",
            "                     Optimized 5thgeneration moratorium \n",
            "                                                      1 \n",
            "                 Optimized attitude-oriented initiative \n",
            "                                                      1 \n",
            "                   Optimized coherent Internet solution \n",
            "                                                      1 \n",
            "                       Optimized intermediate help-desk \n",
            "                                                      1 \n",
            "                           Optimized multimedia website \n",
            "                                                      1 \n",
            "                               Optimized static archive \n",
            "                                                      1 \n",
            "                          Optimized systemic capability \n",
            "                                                      1 \n",
            "                 Optimized upward-trending productivity \n",
            "                                                      1 \n",
            "                Optional contextually-based flexibility \n",
            "                                                      1 \n",
            "                         Optional full-range projection \n",
            "                                                      1 \n",
            "              Optional mission-critical functionalities \n",
            "                                                      1 \n",
            "                            Optional modular throughput \n",
            "                                                      1 \n",
            "                          Optional multi-state hardware \n",
            "                                                      1 \n",
            "                           Optional regional throughput \n",
            "                                                      1 \n",
            "                              Optional secondary access \n",
            "                                                      1 \n",
            "                         Optional tangible productivity \n",
            "                                                      1 \n",
            "                       Organic 3rdgeneration encryption \n",
            "                                                      1 \n",
            "                         Organic asynchronous hierarchy \n",
            "                                                      1 \n",
            "                       Organic bottom-line service-desk \n",
            "                                                      1 \n",
            "                 Organic contextually-based focus group \n",
            "                                                      1 \n",
            "                            Organic interactive support \n",
            "                                                      1 \n",
            "                       Organic leadingedge secured line \n",
            "                                                      1 \n",
            "                             Organic logistical adapter \n",
            "                                                      1 \n",
            "                               Organic motivating model \n",
            "                                                      1 \n",
            "                         Organic next generation matrix \n",
            "                                                      1 \n",
            "                        Organic well-modulated database \n",
            "                                                      1 \n",
            "                              Organized 24/7 middleware \n",
            "                                                      1 \n",
            "                       Organized client-driven alliance \n",
            "                                                      1 \n",
            "          Organized contextually-based customer loyalty \n",
            "                                                      1 \n",
            "                  Organized demand-driven knowledgebase \n",
            "                                                      1 \n",
            "                            Organized empowering policy \n",
            "                                                      1 \n",
            "                           Organized global flexibility \n",
            "                                                      1 \n",
            "                                 Organized global model \n",
            "                                                      1 \n",
            "                           Organized static focus group \n",
            "                                                      1 \n",
            "                  Organized upward-trending contingency \n",
            "                                                      1 \n",
            "               Persevering 5thgeneration knowledge user \n",
            "                                                      1 \n",
            "                    Persevering eco-centric flexibility \n",
            "                                                      1 \n",
            "                      Persevering even-keeled help-desk \n",
            "                                                      1 \n",
            "                      Persevering exuding system engine \n",
            "                                                      1 \n",
            "              Persevering needs-based open architecture \n",
            "                                                      1 \n",
            "                        Persevering reciprocal firmware \n",
            "                                                      1 \n",
            "                        Persevering tertiary capability \n",
            "                                                      1 \n",
            "                     Persistent demand-driven interface \n",
            "                                                      1 \n",
            "                     Persistent even-keeled application \n",
            "                                                      1 \n",
            "                 Persistent fault-tolerant service-desk \n",
            "                                                      1 \n",
            "                       Persistent homogeneous framework \n",
            "                                                      1 \n",
            "                       Phased 5thgeneration open system \n",
            "                                                      1 \n",
            "                             Phased analyzing emulation \n",
            "                                                      1 \n",
            "                         Phased clear-thinking encoding \n",
            "                                                      1 \n",
            "                        Phased content-based middleware \n",
            "                                                      1 \n",
            "                        Phased dynamic customer loyalty \n",
            "                                                      1 \n",
            "                       Phased fault-tolerant definition \n",
            "                                                      1 \n",
            "                             Phased full-range hardware \n",
            "                                                      1 \n",
            "                                 Phased hybrid intranet \n",
            "                                                      1 \n",
            "                           Phased hybrid superstructure \n",
            "                                                      1 \n",
            "                Phased leadingedge budgetary management \n",
            "                                                      1 \n",
            "                    Phased transitional instruction set \n",
            "                                                      1 \n",
            "                     Phased zero administration success \n",
            "                                                      1 \n",
            "                         Phased zero tolerance extranet \n",
            "                                                      1 \n",
            "                              Phased zero-defect portal \n",
            "                                                      1 \n",
            "                         Polarized 5thgeneration matrix \n",
            "                                                      1 \n",
            "                 Polarized 6thgeneration info-mediaries \n",
            "                                                      1 \n",
            "                            Polarized analyzing concept \n",
            "                                                      1 \n",
            "                           Polarized analyzing intranet \n",
            "                                                      1 \n",
            "             Polarized attitude-oriented superstructure \n",
            "                                                      1 \n",
            "               Polarized bandwidth-monitored moratorium \n",
            "                                                      1 \n",
            "                             Polarized bifurcated array \n",
            "                                                      1 \n",
            "          Polarized clear-thinking budgetary management \n",
            "                                                      1 \n",
            "                           Polarized dynamic throughput \n",
            "                                                      1 \n",
            "                          Polarized intangible encoding \n",
            "                                                      1 \n",
            "                               Polarized logistical hub \n",
            "                                                      1 \n",
            "                   Polarized mission-critical structure \n",
            "                                                      1 \n",
            "                             Polarized modular function \n",
            "                                                      1 \n",
            "                     Polarized multimedia system engine \n",
            "                                                      1 \n",
            "                       Polarized tangible collaboration \n",
            "                                                      1 \n",
            "                 Pre-emptive client-driven secured line \n",
            "                                                      1 \n",
            "                 Pre-emptive client-server installation \n",
            "                                                      1 \n",
            "                  Pre-emptive client-server open system \n",
            "                                                      1 \n",
            "              Pre-emptive cohesive budgetary management \n",
            "                                                      1 \n",
            "                  Pre-emptive content-based focus group \n",
            "                                                      1 \n",
            "                        Pre-emptive content-based frame \n",
            "                                                      1 \n",
            "                    Pre-emptive executive knowledgebase \n",
            "                                                      1 \n",
            "                        Pre-emptive neutral contingency \n",
            "                                                      1 \n",
            "          Pre-emptive next generation Internet solution \n",
            "                                                      1 \n",
            "                   Pre-emptive next generation strategy \n",
            "                                                      1 \n",
            "            Pre-emptive systematic budgetary management \n",
            "                                                      1 \n",
            "                      Pre-emptive transitional protocol \n",
            "                                                      1 \n",
            "                      Pre-emptive value-added workforce \n",
            "                                                      1 \n",
            "                   Pre-emptive well-modulated moderator \n",
            "                                                      1 \n",
            "          Pre-emptive zero tolerance Local Area Network \n",
            "                                                      1 \n",
            "                          Proactive 5thgeneration frame \n",
            "                                                      1 \n",
            "           Proactive actuating Graphical User Interface \n",
            "                                                      1 \n",
            "                        Proactive asymmetric definition \n",
            "                                                      1 \n",
            "                   Proactive bandwidth-monitored policy \n",
            "                                                      1 \n",
            "                   Proactive client-server productivity \n",
            "                                                      1 \n",
            "                    Proactive context-sensitive project \n",
            "                                                      1 \n",
            "                        Proactive encompassing paradigm \n",
            "                                                      1 \n",
            "                     Proactive interactive service-desk \n",
            "                                                      1 \n",
            "                            Proactive local focus group \n",
            "                                                      1 \n",
            "               Proactive next generation knowledge user \n",
            "                                                      1 \n",
            "                      Proactive non-volatile encryption \n",
            "                                                      1 \n",
            "                              Proactive radical support \n",
            "                                                      1 \n",
            "                         Proactive secondary monitoring \n",
            "                                                      1 \n",
            "            Profit-focused attitude-oriented task-force \n",
            "                                                      1 \n",
            "                   Profit-focused dedicated utilization \n",
            "                                                      1 \n",
            "                        Profit-focused secondary portal \n",
            "                                                      1 \n",
            "                        Profit-focused systemic support \n",
            "                                                      1 \n",
            "                   Profound bottom-line standardization \n",
            "                                                      1 \n",
            "                              Profound dynamic attitude \n",
            "                                                      1 \n",
            "                         Profound executive flexibility \n",
            "                                                      1 \n",
            "                             Profound explicit hardware \n",
            "                                                      1 \n",
            "                           Profound maximized workforce \n",
            "                                                      1 \n",
            "                        Profound optimizing utilization \n",
            "                                                      1 \n",
            "                                Profound stable product \n",
            "                                                      1 \n",
            "                          Profound well-modulated array \n",
            "                                                      1 \n",
            "           Profound zero administration instruction set \n",
            "                                                      1 \n",
            "                 Programmable asymmetric data-warehouse \n",
            "                                                      1 \n",
            "                         Programmable didactic capacity \n",
            "                                                      1 \n",
            "                     Programmable empowering middleware \n",
            "                                                      1 \n",
            "                  Programmable empowering orchestration \n",
            "                                                      1 \n",
            "                      Programmable high-level benchmark \n",
            "                                                      1 \n",
            "                      Programmable uniform productivity \n",
            "                                                      1 \n",
            "                           Programmable uniform website \n",
            "                                                      1 \n",
            "                            Progressive 24/7 definition \n",
            "                                                      1 \n",
            "                            Progressive 24hour forecast \n",
            "                                                      1 \n",
            "                         Progressive analyzing attitude \n",
            "                                                      1 \n",
            "                       Progressive asynchronous adapter \n",
            "                                                      1 \n",
            "           Progressive clear-thinking open architecture \n",
            "                                                      1 \n",
            "                        Progressive empowering alliance \n",
            "                                                      1 \n",
            "                    Progressive intermediate throughput \n",
            "                                                      1 \n",
            "                    Progressive non-volatile neural-net \n",
            "                                                      1 \n",
            "               Progressive uniform budgetary management \n",
            "                                                      1 \n",
            "                         Public-key asynchronous matrix \n",
            "                                                      1 \n",
            "     Public-key bi-directional Graphical User Interface \n",
            "                                                      1 \n",
            "                   Public-key disintermediate emulation \n",
            "                                                      1 \n",
            "                        Public-key foreground groupware \n",
            "                                                      1 \n",
            "                        Public-key impactful neural-net \n",
            "                                                      1 \n",
            "         Public-key intangible Graphical User Interface \n",
            "                                                      1 \n",
            "                       Public-key mission-critical core \n",
            "                                                      1 \n",
            "                 Public-key non-volatile implementation \n",
            "                                                      1 \n",
            "                        Public-key real-time definition \n",
            "                                                      1 \n",
            "               Public-key solution-oriented focus group \n",
            "                                                      1 \n",
            "                        Public-key zero-defect analyzer \n",
            "                                                      1 \n",
            "            Quality-focused 5thgeneration orchestration \n",
            "                                                      1 \n",
            "              Quality-focused bi-directional throughput \n",
            "                                                      1 \n",
            "                           Quality-focused hybrid frame \n",
            "                                                      1 \n",
            "                     Quality-focused maximized extranet \n",
            "                                                      1 \n",
            "                 Quality-focused optimizing parallelism \n",
            "                                                      1 \n",
            "                   Quality-focused scalable utilization \n",
            "                                                      1 \n",
            "                Quality-focused zero tolerance matrices \n",
            "                                                      1 \n",
            "       Quality-focused zero-defect budgetary management \n",
            "                                                      1 \n",
            "             Quality-focused zero-defect data-warehouse \n",
            "                                                      1 \n",
            "               Re-contextualized human-resource success \n",
            "                                                      1 \n",
            "                 Re-contextualized optimal service-desk \n",
            "                                                      1 \n",
            "                 Re-contextualized reciprocal interface \n",
            "                                                      1 \n",
            "                  Re-contextualized systemic time-frame \n",
            "                                                      1 \n",
            "                     Re-engineered composite moratorium \n",
            "                                                      1 \n",
            "         Re-engineered context-sensitive knowledge user \n",
            "                                                      1 \n",
            "                   Re-engineered demand-driven capacity \n",
            "                                                      1 \n",
            "                            Re-engineered exuding frame \n",
            "                                                      1 \n",
            "                       Re-engineered impactful software \n",
            "                                                      1 \n",
            "                      Re-engineered intangible software \n",
            "                                                      1 \n",
            "                          Re-engineered neutral success \n",
            "                                                      1 \n",
            "                  Re-engineered non-volatile neural-net \n",
            "                                                      1 \n",
            "                           Re-engineered optimal policy \n",
            "                                                      1 \n",
            "                        Re-engineered real-time success \n",
            "                                                      1 \n",
            "                    Re-engineered responsive definition \n",
            "                                                      1 \n",
            "            Re-engineered zero-defect open architecture \n",
            "                                                      1 \n",
            "                Reactive bi-directional standardization \n",
            "                                                      1 \n",
            "                      Reactive bi-directional workforce \n",
            "                                                      1 \n",
            "                             Reactive composite project \n",
            "                                                      1 \n",
            "                        Reactive demand-driven capacity \n",
            "                                                      1 \n",
            "                        Reactive demand-driven strategy \n",
            "                                                      1 \n",
            "                           Reactive impactful challenge \n",
            "                                                      1 \n",
            "                          Reactive interactive protocol \n",
            "                                                      1 \n",
            "                               Reactive local challenge \n",
            "                                                      1 \n",
            "                              Reactive national success \n",
            "                                                      1 \n",
            "                   Reactive needs-based instruction set \n",
            "                                                      1 \n",
            "                          Reactive responsive emulation \n",
            "                                                      1 \n",
            "                          Reactive tangible contingency \n",
            "                                                      1 \n",
            "                     Reactive upward-trending migration \n",
            "                                                      1 \n",
            "                                    Realigned 24/7 core \n",
            "                                                      1 \n",
            "                       Realigned content-based leverage \n",
            "                                                      1 \n",
            "                            Realigned global initiative \n",
            "                                                      1 \n",
            "                         Realigned intangible benchmark \n",
            "                                                      1 \n",
            "                     Realigned intermediate application \n",
            "                                                      1 \n",
            "                   Realigned next generation projection \n",
            "                                                      1 \n",
            "                         Realigned reciprocal framework \n",
            "                                                      1 \n",
            "                     Realigned scalable standardization \n",
            "                                                      1 \n",
            "                          Realigned systematic function \n",
            "                                                      1 \n",
            "                       Realigned tangible collaboration \n",
            "                                                      1 \n",
            "                     Realigned zero tolerance emulation \n",
            "                                                      1 \n",
            "                      Reduced background data-warehouse \n",
            "                                                      1 \n",
            "                        Reduced bi-directional strategy \n",
            "                                                      1 \n",
            "                                 Reduced global support \n",
            "                                                      1 \n",
            "                             Reduced holistic help-desk \n",
            "                                                      1 \n",
            "                       Reduced incremental productivity \n",
            "                                                      1 \n",
            "                               Reduced mobile structure \n",
            "                                                      1 \n",
            "                             Reduced multimedia project \n",
            "                                                      1 \n",
            "                     Reverse-engineered 24hour hardware \n",
            "                                                      1 \n",
            "        Reverse-engineered background Graphic Interface \n",
            "                                                      1 \n",
            "              Reverse-engineered content-based intranet \n",
            "                                                      1 \n",
            "         Reverse-engineered context-sensitive emulation \n",
            "                                                      1 \n",
            "                    Reverse-engineered dynamic function \n",
            "                                                      1 \n",
            "               Reverse-engineered maximized focus group \n",
            "                                                      1 \n",
            "                 Reverse-engineered web-enabled support \n",
            "                                                      1 \n",
            "           Reverse-engineered well-modulated capability \n",
            "                                                      1 \n",
            "                       Right-sized asynchronous website \n",
            "                                                      1 \n",
            "                      Right-sized logistical middleware \n",
            "                                                      1 \n",
            "                          Right-sized mobile initiative \n",
            "                                                      1 \n",
            "                     Right-sized multi-tasking solution \n",
            "                                                      1 \n",
            "                Right-sized solution-oriented benchmark \n",
            "                                                      1 \n",
            "                      Right-sized system-worthy project \n",
            "                                                      1 \n",
            "                   Right-sized transitional parallelism \n",
            "                                                      1 \n",
            "                     Right-sized value-added initiative \n",
            "                                                      1 \n",
            "                    Robust context-sensitive neural-net \n",
            "                                                      1 \n",
            "                         Robust dedicated system engine \n",
            "                                                      1 \n",
            "                            Robust holistic application \n",
            "                                                      1 \n",
            "                          Robust logistical utilization \n",
            "                                                      1 \n",
            "               Robust object-oriented Graphic Interface \n",
            "                                                      1 \n",
            "                        Robust responsive collaboration \n",
            "                                                      1 \n",
            "                            Robust transitional ability \n",
            "                                                      1 \n",
            "                               Robust uniform framework \n",
            "                                                      1 \n",
            "                            Robust web-enabled attitude \n",
            "                                                      1 \n",
            "                     Seamless 4thgeneration contingency \n",
            "                                                      1 \n",
            "            Seamless bandwidth-monitored knowledge user \n",
            "                                                      1 \n",
            "                       Seamless cohesive conglomeration \n",
            "                                                      1 \n",
            "                Seamless composite budgetary management \n",
            "                                                      1 \n",
            "                            Seamless full-range website \n",
            "                                                      1 \n",
            "                           Seamless holistic time-frame \n",
            "                                                      1 \n",
            "                      Seamless impactful info-mediaries \n",
            "                                                      1 \n",
            "                       Seamless intangible secured line \n",
            "                                                      1 \n",
            "                           Seamless motivating approach \n",
            "                                                      1 \n",
            "                     Seamless object-oriented structure \n",
            "                                                      1 \n",
            "                           Seamless optimal contingency \n",
            "                                                      1 \n",
            "                               Seamless real-time array \n",
            "                                                      1 \n",
            "                                  Secured 24hour policy \n",
            "                                                      1 \n",
            "                      Secured clear-thinking middleware \n",
            "                                                      1 \n",
            "          Secured encompassing Graphical User Interface \n",
            "                                                      1 \n",
            "                          Secured intermediate approach \n",
            "                                                      1 \n",
            "              Secured scalable Graphical User Interface \n",
            "                                                      1 \n",
            "                       Secured secondary superstructure \n",
            "                                                      1 \n",
            "                        Secured uniform instruction set \n",
            "                                                      1 \n",
            "                      Secured upward-trending benchmark \n",
            "                                                      1 \n",
            "              Self-enabling asynchronous knowledge user \n",
            "                                                      1 \n",
            "               Self-enabling didactic pricing structure \n",
            "                                                      1 \n",
            "                  Self-enabling even-keeled methodology \n",
            "                                                      1 \n",
            "             Self-enabling holistic process improvement \n",
            "                                                      1 \n",
            "                Self-enabling incremental collaboration \n",
            "                                                      1 \n",
            "                           Self-enabling local strategy \n",
            "                                                      1 \n",
            "                 Self-enabling multimedia system engine \n",
            "                                                      1 \n",
            "                       Self-enabling optimal initiative \n",
            "                                                      1 \n",
            "                       Self-enabling tertiary challenge \n",
            "                                                      1 \n",
            "           Self-enabling zero administration neural-net \n",
            "                                                      1 \n",
            "                          Sharable 5thgeneration access \n",
            "                                                      1 \n",
            "                            Sharable analyzing alliance \n",
            "                                                      1 \n",
            "                          Sharable bottom-line solution \n",
            "                                                      1 \n",
            "                        Sharable client-driven software \n",
            "                                                      1 \n",
            "                   Sharable dedicated Graphic Interface \n",
            "                                                      1 \n",
            "                         Sharable encompassing database \n",
            "                                                      1 \n",
            "                           Sharable grid-enabled matrix \n",
            "                                                      1 \n",
            "                     Sharable multimedia conglomeration \n",
            "                                                      1 \n",
            "                              Sharable optimal capacity \n",
            "                                                      1 \n",
            "                            Sharable reciprocal project \n",
            "                                                      1 \n",
            "            Sharable secondary Graphical User Interface \n",
            "                                                      1 \n",
            "                       Sharable upward-trending support \n",
            "                                                      1 \n",
            "                          Sharable value-added solution \n",
            "                                                      1 \n",
            "                     Stand-alone background open system \n",
            "                                                      1 \n",
            "                  Stand-alone eco-centric system engine \n",
            "                                                      1 \n",
            "                       Stand-alone empowering benchmark \n",
            "                                                      1 \n",
            "                    Stand-alone encompassing throughput \n",
            "                                                      1 \n",
            "                     Stand-alone explicit orchestration \n",
            "                                                      1 \n",
            "                    Stand-alone logistical service-desk \n",
            "                                                      1 \n",
            "                      Stand-alone motivating moratorium \n",
            "                                                      1 \n",
            "                          Stand-alone national attitude \n",
            "                                                      1 \n",
            "                         Stand-alone radical throughput \n",
            "                                                      1 \n",
            "                         Stand-alone reciprocal synergy \n",
            "                                                      1 \n",
            "                         Stand-alone tangible moderator \n",
            "                                                      1 \n",
            "                     Stand-alone well-modulated product \n",
            "                                                      1 \n",
            "                       Streamlined analyzing initiative \n",
            "                                                      1 \n",
            "                    Streamlined cohesive conglomeration \n",
            "                                                      1 \n",
            "                            Streamlined exuding adapter \n",
            "                                                      1 \n",
            "                       Streamlined homogeneous analyzer \n",
            "                                                      1 \n",
            "                    Streamlined logistical secured line \n",
            "                                                      1 \n",
            "             Streamlined next generation implementation \n",
            "                                                      1 \n",
            "                      Streamlined non-volatile analyzer \n",
            "                                                      1 \n",
            "                           Switchable 3rdgeneration hub \n",
            "                                                      1 \n",
            "                        Switchable analyzing encryption \n",
            "                                                      1 \n",
            "                            Switchable mobile framework \n",
            "                                                      1 \n",
            "                         Switchable multi-state success \n",
            "                                                      1 \n",
            "                           Switchable real-time product \n",
            "                                                      1 \n",
            "                           Switchable secondary ability \n",
            "                                                      1 \n",
            "               Switchable well-modulated infrastructure \n",
            "                                                      1 \n",
            "                    Synchronized dedicated service-desk \n",
            "                                                      1 \n",
            "                         Synchronized full-range portal \n",
            "                                                      1 \n",
            "                   Synchronized grid-enabled moratorium \n",
            "                                                      1 \n",
            "                  Synchronized human-resource moderator \n",
            "                                                      1 \n",
            "                     Synchronized leadingedge help-desk \n",
            "                                                      1 \n",
            "                     Synchronized multi-tasking ability \n",
            "                                                      1 \n",
            "                          Synchronized multimedia model \n",
            "                                                      1 \n",
            "                   Synchronized national infrastructure \n",
            "                                                      1 \n",
            "                         Synchronized stable complexity \n",
            "                                                      1 \n",
            "                        Synchronized systemic hierarchy \n",
            "                                                      1 \n",
            "                          Synchronized user-facing core \n",
            "                                                      1 \n",
            "                    Synchronized zero tolerance product \n",
            "                                                      1 \n",
            "                Synergistic asynchronous superstructure \n",
            "                                                      1 \n",
            "                        Synergistic discrete middleware \n",
            "                                                      1 \n",
            "                      Synergistic dynamic orchestration \n",
            "                                                      1 \n",
            "                       Synergistic fresh-thinking array \n",
            "                                                      1 \n",
            "                      Synergistic non-volatile analyzer \n",
            "                                                      1 \n",
            "                        Synergistic reciprocal attitude \n",
            "                                                      1 \n",
            "                      Synergistic stable infrastructure \n",
            "                                                      1 \n",
            "                       Synergistic value-added extranet \n",
            "                                                      1 \n",
            "                     Synergized clear-thinking protocol \n",
            "                                                      1 \n",
            "                          Synergized coherent interface \n",
            "                                                      1 \n",
            "                              Synergized cohesive array \n",
            "                                                      1 \n",
            "                  Synergized context-sensitive database \n",
            "                                                      1 \n",
            "                      Synergized grid-enabled framework \n",
            "                                                      1 \n",
            "                           Synergized hybrid time-frame \n",
            "                                                      1 \n",
            "                      Synergized intangible open system \n",
            "                                                      1 \n",
            "                        Synergized multimedia emulation \n",
            "                                                      1 \n",
            "                           Synergized uniform hierarchy \n",
            "                                                      1 \n",
            "     Synergized well-modulated Graphical User Interface \n",
            "                                                      1 \n",
            "                   Team-oriented 6thgeneration extranet \n",
            "                                                      1 \n",
            "              Team-oriented bi-directional secured line \n",
            "                                                      1 \n",
            "           Team-oriented context-sensitive installation \n",
            "                                                      1 \n",
            "                         Team-oriented dynamic forecast \n",
            "                                                      1 \n",
            "                      Team-oriented encompassing portal \n",
            "                                                      1 \n",
            "                           Team-oriented executive core \n",
            "                                                      1 \n",
            "          Team-oriented grid-enabled Local Area Network \n",
            "                                                      1 \n",
            "                 Team-oriented high-level orchestration \n",
            "                                                      1 \n",
            "                  Team-oriented systematic installation \n",
            "                                                      1 \n",
            "                 Team-oriented transitional methodology \n",
            "                                                      1 \n",
            "                   Team-oriented zero-defect initiative \n",
            "                                                      1 \n",
            "                           Total 5thgeneration encoding \n",
            "                                                      1 \n",
            "                    Total 5thgeneration standardization \n",
            "                                                      1 \n",
            "                        Total asynchronous architecture \n",
            "                                                      1 \n",
            "                           Total bi-directional success \n",
            "                                                      1 \n",
            "                                 Total coherent archive \n",
            "                                                      1 \n",
            "                          Total coherent superstructure \n",
            "                                                      1 \n",
            "                              Total cohesive moratorium \n",
            "                                                      1 \n",
            "                             Total directional approach \n",
            "                                                      1 \n",
            "                         Total even-keeled architecture \n",
            "                                                      1 \n",
            "                         Total grid-enabled application \n",
            "                                                      1 \n",
            "                       Total human-resource flexibility \n",
            "                                                      1 \n",
            "                                    Total local synergy \n",
            "                                                      1 \n",
            "                            Total user-facing hierarchy \n",
            "                                                      1 \n",
            "                     Total zero administration software \n",
            "                                                      1 \n",
            "                Triple-buffered 3rdgeneration migration \n",
            "                                                      1 \n",
            "                 Triple-buffered demand-driven alliance \n",
            "                                                      1 \n",
            "                  Triple-buffered foreground encryption \n",
            "                                                      1 \n",
            "           Triple-buffered high-level Internet solution \n",
            "                                                      1 \n",
            "              Triple-buffered human-resource complexity \n",
            "                                                      1 \n",
            "                 Triple-buffered multi-state complexity \n",
            "                                                      1 \n",
            "         Triple-buffered needs-based Local Area Network \n",
            "                                                      1 \n",
            "                  Triple-buffered reciprocal time-frame \n",
            "                                                      1 \n",
            "                       Triple-buffered regional toolset \n",
            "                                                      1 \n",
            "                     Triple-buffered scalable groupware \n",
            "                                                      1 \n",
            "              Triple-buffered systematic info-mediaries \n",
            "                                                      1 \n",
            "                          Universal 24/7 implementation \n",
            "                                                      1 \n",
            "                           Universal asymmetric archive \n",
            "                                                      1 \n",
            "                         Universal asymmetric workforce \n",
            "                                                      1 \n",
            "                      Universal bi-directional extranet \n",
            "                                                      1 \n",
            "             Universal contextually-based system engine \n",
            "                                                      1 \n",
            "                           Universal empowering adapter \n",
            "                                                      1 \n",
            "                         Universal even-keeled analyzer \n",
            "                                                      1 \n",
            "                              Universal global intranet \n",
            "                                                      1 \n",
            "                            Universal incremental array \n",
            "                                                      1 \n",
            "                    Universal multi-state system engine \n",
            "                                                      1 \n",
            "        Universal transitional Graphical User Interface \n",
            "                                                      1 \n",
            "                      Up-sized 6thgeneration moratorium \n",
            "                                                      1 \n",
            "                           Up-sized asymmetric firmware \n",
            "                                                      1 \n",
            "                 Up-sized bi-directional infrastructure \n",
            "                                                      1 \n",
            "                         Up-sized bifurcated capability \n",
            "                                                      1 \n",
            "                           Up-sized executive moderator \n",
            "                                                      1 \n",
            "                        Up-sized incremental encryption \n",
            "                                                      1 \n",
            "                            Up-sized intangible circuit \n",
            "                                                      1 \n",
            "                               Up-sized maximized model \n",
            "                                                      1 \n",
            "                  Up-sized next generation architecture \n",
            "                                                      1 \n",
            "                         Up-sized real-time methodology \n",
            "                                                      1 \n",
            "                            Up-sized secondary software \n",
            "                                                      1 \n",
            "                          Up-sized tertiary contingency \n",
            "                                                      1 \n",
            "                        Upgradable 4thgeneration portal \n",
            "                                                      1 \n",
            "                        Upgradable asymmetric emulation \n",
            "                                                      1 \n",
            "                        Upgradable asynchronous circuit \n",
            "                                                      1 \n",
            "                   Upgradable directional system engine \n",
            "                                                      1 \n",
            "                       Upgradable even-keeled challenge \n",
            "                                                      1 \n",
            "                        Upgradable even-keeled hardware \n",
            "                                                      1 \n",
            "                     Upgradable heuristic system engine \n",
            "                                                      1 \n",
            "                             Upgradable local migration \n",
            "                                                      1 \n",
            "                      Upgradable logistical flexibility \n",
            "                                                      1 \n",
            "                    Upgradable multi-tasking initiative \n",
            "                                                      1 \n",
            "                          Upgradable optimizing toolset \n",
            "                                                      1 \n",
            "                         Upgradable system-worthy array \n",
            "                                                      1 \n",
            "                 User-centric attitude-oriented adapter \n",
            "                                                      1 \n",
            "                     User-centric composite contingency \n",
            "                                                      1 \n",
            "                          User-centric discrete success \n",
            "                                                      1 \n",
            "                    User-centric intangible contingency \n",
            "                                                      1 \n",
            "                     User-centric intangible task-force \n",
            "                                                      1 \n",
            "               User-centric intermediate knowledge user \n",
            "                                                      1 \n",
            "               User-centric solution-oriented emulation \n",
            "                                                      1 \n",
            "                User-friendly asymmetric info-mediaries \n",
            "                                                      1 \n",
            "             User-friendly bandwidth-monitored attitude \n",
            "                                                      1 \n",
            "            User-friendly client-server instruction set \n",
            "                                                      1 \n",
            "           User-friendly content-based customer loyalty \n",
            "                                                      1 \n",
            "                    User-friendly grid-enabled analyzer \n",
            "                                                      1 \n",
            "                     User-friendly impactful time-frame \n",
            "                                                      1 \n",
            "                 User-friendly upward-trending intranet \n",
            "                                                      1 \n",
            "                  User-friendly well-modulated leverage \n",
            "                                                      1 \n",
            "                  Versatile 4thgeneration system engine \n",
            "                                                      1 \n",
            "                    Versatile 6thgeneration parallelism \n",
            "                                                      1 \n",
            "                       Versatile content-based protocol \n",
            "                                                      1 \n",
            "                           Versatile dedicated software \n",
            "                                                      1 \n",
            "                         Versatile homogeneous capacity \n",
            "                                                      1 \n",
            "                               Versatile local forecast \n",
            "                                                      1 \n",
            "                 Versatile mission-critical application \n",
            "                                                      1 \n",
            "            Versatile next generation pricing structure \n",
            "                                                      1 \n",
            "                        Versatile optimizing projection \n",
            "                                                      1 \n",
            "                         Versatile reciprocal structure \n",
            "                                                      1 \n",
            "                    Versatile responsive knowledge user \n",
            "                                                      1 \n",
            "                          Versatile scalable encryption \n",
            "                                                      1 \n",
            "               Versatile solution-oriented secured line \n",
            "                                                      1 \n",
            "                      Versatile transitional monitoring \n",
            "                                                      1 \n",
            "                        Virtual 5thgeneration emulation \n",
            "                                                      1 \n",
            "                       Virtual 5thgeneration neural-net \n",
            "                                                      1 \n",
            "                 Virtual bandwidth-monitored initiative \n",
            "                                                      1 \n",
            "                              Virtual bifurcated portal \n",
            "                                                      1 \n",
            "                                Virtual composite model \n",
            "                                                      1 \n",
            "                      Virtual context-sensitive support \n",
            "                                                      1 \n",
            "                       Virtual executive implementation \n",
            "                                                      1 \n",
            "               Virtual homogeneous budgetary management \n",
            "                                                      1 \n",
            "                            Virtual impactful algorithm \n",
            "                                                      1 \n",
            "                          Virtual scalable secured line \n",
            "                                                      1 \n",
            "         Vision-oriented asynchronous Internet solution \n",
            "                                                      1 \n",
            "    Vision-oriented attitude-oriented Internet solution \n",
            "                                                      1 \n",
            "                 Vision-oriented bifurcated contingency \n",
            "                                                      1 \n",
            "            Vision-oriented contextually-based extranet \n",
            "                                                      1 \n",
            "                 Vision-oriented human-resource synergy \n",
            "                                                      1 \n",
            "                     Vision-oriented methodical support \n",
            "                                                      1 \n",
            "                  Vision-oriented multi-tasking success \n",
            "                                                      1 \n",
            "               Vision-oriented next generation solution \n",
            "                                                      1 \n",
            "                  Vision-oriented optimizing middleware \n",
            "                                                      1 \n",
            "                    Vision-oriented real-time framework \n",
            "                                                      1 \n",
            "                 Vision-oriented system-worthy forecast \n",
            "                                                      1 \n",
            "                  Vision-oriented uniform knowledgebase \n",
            "                                                      1 \n",
            "                          Visionary analyzing structure \n",
            "                                                      1 \n",
            "                        Visionary asymmetric encryption \n",
            "                                                      1 \n",
            "                   Visionary client-driven installation \n",
            "                                                      1 \n",
            "                Visionary maximized process improvement \n",
            "                                                      1 \n",
            "                 Visionary mission-critical application \n",
            "                                                      1 \n",
            "                       Visionary multi-tasking alliance \n",
            "                                                      1 \n",
            "                           Visionary reciprocal circuit \n",
            "                                                      1 \n"
          ],
          "name": "stdout"
        }
      ]
    },
    {
      "cell_type": "markdown",
      "metadata": {
        "id": "J3fZzPAkGe31"
      },
      "source": [
        "# Bivariate and Multivariate Analysis"
      ]
    },
    {
      "cell_type": "markdown",
      "metadata": {
        "id": "BKQWbDi7MXIY"
      },
      "source": [
        "# 1.Covariance"
      ]
    },
    {
      "cell_type": "code",
      "metadata": {
        "id": "MTi7NcrlGjq9",
        "outputId": "f8164dc2-c877-4e7f-928f-9dce13025946",
        "colab": {
          "base_uri": "https://localhost:8080/"
        }
      },
      "source": [
        "#Checking the covariance between age and the daily time spent on site\n",
        "%%R\n",
        "Age<-advertising_dataset$Age\n",
        "Age\n",
        "DTSS<-advertising_dataset$Daily.Time.Spent.on.Site\n",
        "DTSS\n",
        "cov(Age,DTSS)\n",
        "#There is a negative covaraiance indicating that high values of the age column vary together with little daily time spent on site."
      ],
      "execution_count": null,
      "outputs": [
        {
          "output_type": "stream",
          "text": [
            "[1] -46.17415\n"
          ],
          "name": "stdout"
        }
      ]
    },
    {
      "cell_type": "code",
      "metadata": {
        "id": "-u2GWNjYJHvF",
        "outputId": "0e7d9fc9-d105-4696-801a-aa76ff1c852d",
        "colab": {
          "base_uri": "https://localhost:8080/"
        }
      },
      "source": [
        "#Checking the covariance between age and the daily internet usage\n",
        "%%R\n",
        "Age<-advertising_dataset$Age\n",
        "Age \n",
        "DIU1<-advertising_dataset$Daily.Internet.Usage\n",
        "DIU1\n",
        "cov(Age,DIU1)\n",
        "#The higher the age the lower the level of Daily Internet Usage."
      ],
      "execution_count": null,
      "outputs": [
        {
          "output_type": "stream",
          "text": [
            "[1] -141.6348\n"
          ],
          "name": "stdout"
        }
      ]
    },
    {
      "cell_type": "code",
      "metadata": {
        "id": "2vhWqNjuJvDd",
        "outputId": "9957199e-0580-4cd6-e9e4-42d84f80bedd",
        "colab": {
          "base_uri": "https://localhost:8080/"
        }
      },
      "source": [
        "#Checking the covariance between age and the Area Income\n",
        "%%R\n",
        "Age<-advertising_dataset$Age\n",
        "Age\n",
        "Income<-advertising_dataset$Area.Income\n",
        "Income\n",
        "cov(Age,Income)\n",
        "#The higher the age the lower the Area Income-Negative Covariance."
      ],
      "execution_count": null,
      "outputs": [
        {
          "output_type": "stream",
          "text": [
            "[1] -21520.93\n"
          ],
          "name": "stdout"
        }
      ]
    },
    {
      "cell_type": "code",
      "metadata": {
        "id": "E9LAoU9QKQN8",
        "outputId": "b7464dd8-87b5-484f-f32f-f7f58ca7b070",
        "colab": {
          "base_uri": "https://localhost:8080/"
        }
      },
      "source": [
        "#Checking the covariance between Daily Time Spent on Site and the Daily Internet Usage\n",
        "%%R\n",
        "cov(DTSS,DIU1)\n",
        "#The higher the Daily Time Spent on Site the higher the Daily Internet Usage-Positive Covariance."
      ],
      "execution_count": null,
      "outputs": [
        {
          "output_type": "stream",
          "text": [
            "[1] 360.9919\n"
          ],
          "name": "stdout"
        }
      ]
    },
    {
      "cell_type": "code",
      "metadata": {
        "id": "AS4kkHTJLWqk",
        "outputId": "313de53b-a371-459b-86a6-ba77a4cf0c00",
        "colab": {
          "base_uri": "https://localhost:8080/"
        }
      },
      "source": [
        "%%R\n",
        "cov(Gender,Clicked)\n"
      ],
      "execution_count": null,
      "outputs": [
        {
          "output_type": "stream",
          "text": [
            "[1] -0.00950951\n"
          ],
          "name": "stdout"
        }
      ]
    },
    {
      "cell_type": "code",
      "metadata": {
        "id": "fcS7NEbKLu_n",
        "outputId": "118c430a-61e8-4a4f-8fe7-4ea80780cd17",
        "colab": {
          "base_uri": "https://localhost:8080/"
        }
      },
      "source": [
        "%%R\n",
        "cov(Clicked,Age)"
      ],
      "execution_count": null,
      "outputs": [
        {
          "output_type": "stream",
          "text": [
            "[1] 2.164665\n"
          ],
          "name": "stdout"
        }
      ]
    },
    {
      "cell_type": "code",
      "metadata": {
        "id": "Q3jHYvwxL5C4",
        "outputId": "3047697e-891d-4bc2-d49e-20fea82d4732",
        "colab": {
          "base_uri": "https://localhost:8080/"
        }
      },
      "source": [
        "%%R\n",
        "cov(Clicked,DTSS)"
      ],
      "execution_count": null,
      "outputs": [
        {
          "output_type": "stream",
          "text": [
            "[1] -5.933143\n"
          ],
          "name": "stdout"
        }
      ]
    },
    {
      "cell_type": "code",
      "metadata": {
        "id": "b6piTMSiMAV4",
        "outputId": "13374bac-ad98-4146-e3d9-3a52b23aba4f",
        "colab": {
          "base_uri": "https://localhost:8080/"
        }
      },
      "source": [
        "%%R\n",
        "cov(Clicked,DIU1)"
      ],
      "execution_count": null,
      "outputs": [
        {
          "output_type": "stream",
          "text": [
            "[1] -17.27409\n"
          ],
          "name": "stdout"
        }
      ]
    },
    {
      "cell_type": "code",
      "metadata": {
        "id": "0L3rpOHWMG-s",
        "outputId": "234c77d4-d91c-41c8-c6f4-7c647091faa4",
        "colab": {
          "base_uri": "https://localhost:8080/"
        }
      },
      "source": [
        "%%R\n",
        "cov(Clicked,Income)"
      ],
      "execution_count": null,
      "outputs": [
        {
          "output_type": "stream",
          "text": [
            "[1] -3195.989\n"
          ],
          "name": "stdout"
        }
      ]
    },
    {
      "cell_type": "code",
      "metadata": {
        "id": "1-V92RCyljN9",
        "outputId": "41041de9-375c-40c8-e467-558dfb6974dc",
        "colab": {
          "base_uri": "https://localhost:8080/"
        }
      },
      "source": [
        "%%R\n",
        "cov(Numeric)"
      ],
      "execution_count": null,
      "outputs": [
        {
          "output_type": "stream",
          "text": [
            "                         Daily.Time.Spent.on.Site           Age   Area.Income\n",
            "Daily.Time.Spent.on.Site              251.3370949 -4.617415e+01  6.613081e+04\n",
            "Age                                   -46.1741459  7.718611e+01 -2.152093e+04\n",
            "Area.Income                         66130.8109082 -2.152093e+04  1.799524e+08\n",
            "Daily.Internet.Usage                  360.9918827 -1.416348e+02  1.987625e+05\n",
            "Male                                   -0.1501864 -9.242142e-02  8.867509e+00\n",
            "Clicked.on.Ad                          -5.9331431  2.164665e+00 -3.195989e+03\n",
            "                         Daily.Internet.Usage        Male Clicked.on.Ad\n",
            "Daily.Time.Spent.on.Site         3.609919e+02 -0.15018639 -5.933143e+00\n",
            "Age                             -1.416348e+02 -0.09242142  2.164665e+00\n",
            "Area.Income                      1.987625e+05  8.86750903 -3.195989e+03\n",
            "Daily.Internet.Usage             1.927415e+03  0.61476667 -1.727409e+01\n",
            "Male                             6.147667e-01  0.24988889 -9.509510e-03\n",
            "Clicked.on.Ad                   -1.727409e+01 -0.00950951  2.502503e-01\n"
          ],
          "name": "stdout"
        }
      ]
    },
    {
      "cell_type": "markdown",
      "metadata": {
        "id": "LhlcnNWsqucm"
      },
      "source": [
        "There are positive covariances between the following variables\n",
        "1.Area Income and Daily Time Spent on Site\n",
        "2.Age and Clicking on the Advert.\n",
        "3.Area Income and Daily Internet Usage.\n",
        "4.Area Income and Male\n",
        "5.Daily Internet Usage and Daily Time Spent on Site\n",
        "6.Male and Daily Internet Usage\n",
        "7.Clicked on Advert and Age\n",
        "\n",
        "The rest of the variables exhibit negative Covariances. "
      ]
    },
    {
      "cell_type": "markdown",
      "metadata": {
        "id": "ePdCin2fMhiE"
      },
      "source": [
        "# 2.Correlation"
      ]
    },
    {
      "cell_type": "code",
      "metadata": {
        "id": "4-x306nueiUF"
      },
      "source": [
        ""
      ],
      "execution_count": null,
      "outputs": []
    },
    {
      "cell_type": "code",
      "metadata": {
        "id": "ojDr0v2lMkWQ",
        "outputId": "0e3729e0-6764-45aa-f98e-d14456179aba",
        "colab": {
          "base_uri": "https://localhost:8080/"
        }
      },
      "source": [
        "%%R\n",
        "cor(Age,DTSS)"
      ],
      "execution_count": null,
      "outputs": [
        {
          "output_type": "stream",
          "text": [
            "[1] -0.3315133\n"
          ],
          "name": "stdout"
        }
      ]
    },
    {
      "cell_type": "code",
      "metadata": {
        "id": "38HbWT9zMsx_",
        "outputId": "e21b54b2-2ac0-4fcd-dc75-e967c33d1d22",
        "colab": {
          "base_uri": "https://localhost:8080/"
        }
      },
      "source": [
        "%%R\n",
        "cor(Age,DIU1)"
      ],
      "execution_count": null,
      "outputs": [
        {
          "output_type": "stream",
          "text": [
            "[1] -0.3672086\n"
          ],
          "name": "stdout"
        }
      ]
    },
    {
      "cell_type": "code",
      "metadata": {
        "id": "6qSpYiOuM1WO",
        "outputId": "100ee0a6-4479-4619-99c7-42c4bf1ee648",
        "colab": {
          "base_uri": "https://localhost:8080/"
        }
      },
      "source": [
        "%%R\n",
        "cor(Age,Income)"
      ],
      "execution_count": null,
      "outputs": [
        {
          "output_type": "stream",
          "text": [
            "[1] -0.182605\n"
          ],
          "name": "stdout"
        }
      ]
    },
    {
      "cell_type": "code",
      "metadata": {
        "id": "tWfEm6_bRXZB",
        "outputId": "a35daa62-3887-4d5a-85a0-eed2aa0baae5",
        "colab": {
          "base_uri": "https://localhost:8080/"
        }
      },
      "source": [
        "%%R\n",
        "cor(Age,Clicked)"
      ],
      "execution_count": null,
      "outputs": [
        {
          "output_type": "stream",
          "text": [
            "[1] 0.4925313\n"
          ],
          "name": "stdout"
        }
      ]
    },
    {
      "cell_type": "code",
      "metadata": {
        "id": "hyaXk8YWM2tL",
        "outputId": "5f3c550b-9713-42ea-d279-08d5de3806e7",
        "colab": {
          "base_uri": "https://localhost:8080/"
        }
      },
      "source": [
        "%%R\n",
        "cor(DTSS,DIU1)"
      ],
      "execution_count": null,
      "outputs": [
        {
          "output_type": "stream",
          "text": [
            "[1] 0.5186585\n"
          ],
          "name": "stdout"
        }
      ]
    },
    {
      "cell_type": "code",
      "metadata": {
        "id": "lHJCxKmUM7Ki",
        "outputId": "90663b47-484f-48e9-f2ce-4dd4ac4470f2",
        "colab": {
          "base_uri": "https://localhost:8080/"
        }
      },
      "source": [
        "%%R\n",
        "cor(Gender,Clicked)"
      ],
      "execution_count": null,
      "outputs": [
        {
          "output_type": "stream",
          "text": [
            "[1] -0.03802747\n"
          ],
          "name": "stdout"
        }
      ]
    },
    {
      "cell_type": "code",
      "metadata": {
        "id": "wdOrXhfhN_DK",
        "outputId": "ffbc45c3-98e1-4740-fe41-8615ace29c91",
        "colab": {
          "base_uri": "https://localhost:8080/"
        }
      },
      "source": [
        "%%R\n",
        "cor(Gender,DTSS)"
      ],
      "execution_count": null,
      "outputs": [
        {
          "output_type": "stream",
          "text": [
            "[1] -0.01895085\n"
          ],
          "name": "stdout"
        }
      ]
    },
    {
      "cell_type": "code",
      "metadata": {
        "id": "XswIvo_9OC76",
        "outputId": "74c8a95f-60f3-4ed5-a8e8-fb66bdd74eb2",
        "colab": {
          "base_uri": "https://localhost:8080/"
        }
      },
      "source": [
        "%%R\n",
        "cor(Gender,DIU1)"
      ],
      "execution_count": null,
      "outputs": [
        {
          "output_type": "stream",
          "text": [
            "[1] 0.02801233\n"
          ],
          "name": "stdout"
        }
      ]
    },
    {
      "cell_type": "code",
      "metadata": {
        "id": "VmzCf9pRNB6B",
        "outputId": "65db7981-9ec0-46dc-ef14-4f494fef91ba",
        "colab": {
          "base_uri": "https://localhost:8080/"
        }
      },
      "source": [
        "%%R\n",
        "cor(Clicked,Income)"
      ],
      "execution_count": null,
      "outputs": [
        {
          "output_type": "stream",
          "text": [
            "[1] -0.4762546\n"
          ],
          "name": "stdout"
        }
      ]
    },
    {
      "cell_type": "code",
      "metadata": {
        "id": "1C7q4Ca5lojz",
        "outputId": "162cccfa-37b9-48be-ed14-02af0cbf3686",
        "colab": {
          "base_uri": "https://localhost:8080/"
        }
      },
      "source": [
        "%%R\n",
        "cor(Numeric)"
      ],
      "execution_count": null,
      "outputs": [
        {
          "output_type": "stream",
          "text": [
            "                         Daily.Time.Spent.on.Site         Age  Area.Income\n",
            "Daily.Time.Spent.on.Site               1.00000000 -0.33151334  0.310954413\n",
            "Age                                   -0.33151334  1.00000000 -0.182604955\n",
            "Area.Income                            0.31095441 -0.18260496  1.000000000\n",
            "Daily.Internet.Usage                   0.51865848 -0.36720856  0.337495533\n",
            "Male                                  -0.01895085 -0.02104406  0.001322359\n",
            "Clicked.on.Ad                         -0.74811656  0.49253127 -0.476254628\n",
            "                         Daily.Internet.Usage         Male Clicked.on.Ad\n",
            "Daily.Time.Spent.on.Site           0.51865848 -0.018950855   -0.74811656\n",
            "Age                               -0.36720856 -0.021044064    0.49253127\n",
            "Area.Income                        0.33749553  0.001322359   -0.47625463\n",
            "Daily.Internet.Usage               1.00000000  0.028012326   -0.78653918\n",
            "Male                               0.02801233  1.000000000   -0.03802747\n",
            "Clicked.on.Ad                     -0.78653918 -0.038027466    1.00000000\n"
          ],
          "name": "stdout"
        }
      ]
    },
    {
      "cell_type": "markdown",
      "metadata": {
        "id": "gk6PAWEOl1Ty"
      },
      "source": [
        "There are negative correlations between the following variables\n",
        "1.Area Income and Daily Time Spent on Site\n",
        "2.Male and Daily Time Spent on Site\n",
        "3.Clicking on the Advert and Daily Time Spent on Site.\n",
        "4.Area Income and Age\n",
        "5.Daily Internet Usage and Age\n",
        "6.Male and Age\n",
        "7.Area Income and Age\n",
        "8.Area Income and Clicking on the Advert\n",
        "9.Daily Internet usage and Clicking on the advert.\n",
        "10.Male and Clicking on the Advert\n",
        "\n",
        "\n",
        "There are positive Correlations between the following variables:\n",
        "1.Age and Clicking on the advert\n",
        "2.Male and Daily Internet Usage\n",
        "3.Male and Area Income\n",
        "4.Daily Time Spent on Site and Daily Internet Usage.\n",
        "5.Area Income and Daily Time Spent on Site\n",
        "6.Area Income and Daily Internet Usage\n",
        "7.Area Income and Male\n",
        "8.Age and Clicking on the Advert."
      ]
    },
    {
      "cell_type": "markdown",
      "metadata": {
        "id": "npQ0gJGwNw9W"
      },
      "source": [
        "# 3.Scatter Plots"
      ]
    },
    {
      "cell_type": "code",
      "metadata": {
        "id": "M2a8HwG5N2US",
        "outputId": "a3009efb-0f5b-4611-9dfa-9642dd6531db",
        "colab": {
          "base_uri": "https://localhost:8080/"
        }
      },
      "source": [
        "%%R\n",
        "plot(Age, DTSS, xlab=\"Age of the Individual\", ylab=\"Time spent on the site\")\n"
      ],
      "execution_count": null,
      "outputs": [
        {
          "output_type": "display_data",
          "data": {
            "image/png": "[encoded data removed]"
          },
          "metadata": {
            "tags": []
          }
        }
      ]
    },
    {
      "cell_type": "code",
      "metadata": {
        "id": "47Zddna3SRDz",
        "outputId": "3c6b1dde-a7bc-4363-c8b6-bf1be76acda2",
        "colab": {
          "base_uri": "https://localhost:8080/"
        }
      },
      "source": [
        "%%R\n",
        "plot(Age, DIU1, xlab=\"Age of the Individual\", ylab=\"Internet Usage\")"
      ],
      "execution_count": null,
      "outputs": [
        {
          "output_type": "display_data",
          "data": {
            "image/png": "[encoded data removed]"
          },
          "metadata": {
            "tags": []
          }
        }
      ]
    },
    {
      "cell_type": "code",
      "metadata": {
        "id": "dDrwKr7ESd4d",
        "outputId": "d0ca8b87-8f58-484c-8ecc-5d6b6768aac0",
        "colab": {
          "base_uri": "https://localhost:8080/"
        }
      },
      "source": [
        "%%R\n",
        "plot(Age, Income, xlab=\"Age of the Individual\", ylab=\"Area Income\")"
      ],
      "execution_count": null,
      "outputs": [
        {
          "output_type": "display_data",
          "data": {
            "image/png": "[encoded data removed]"
          },
          "metadata": {
            "tags": []
          }
        }
      ]
    },
    {
      "cell_type": "code",
      "metadata": {
        "id": "TS9EF3xTSpFi",
        "outputId": "fce74cca-be39-45b4-dfea-9a107c81ba02",
        "colab": {
          "base_uri": "https://localhost:8080/"
        }
      },
      "source": [
        "%%R\n",
        "plot(Age, Clicked, xlab=\"Age of the Individual\", ylab=\"Clicked on the Ad\")"
      ],
      "execution_count": null,
      "outputs": [
        {
          "output_type": "display_data",
          "data": {
            "image/png": "[encoded data removed]"
          },
          "metadata": {
            "tags": []
          }
        }
      ]
    },
    {
      "cell_type": "code",
      "metadata": {
        "id": "cHWZWqqZVZSw",
        "outputId": "a91ba8cb-1010-44f0-e0a1-8c3ee9ca8c0e",
        "colab": {
          "base_uri": "https://localhost:8080/"
        }
      },
      "source": [
        "%%R\n",
        "plot(Gender, Income, xlab=\"Gender of the Individual\", ylab=\"Area Income\")"
      ],
      "execution_count": null,
      "outputs": [
        {
          "output_type": "display_data",
          "data": {
            "image/png": "[encoded data removed]"
          },
          "metadata": {
            "tags": []
          }
        }
      ]
    },
    {
      "cell_type": "code",
      "metadata": {
        "id": "USU5i2V2VoRR",
        "outputId": "6495b63a-0d65-45d0-bfb2-4cb122c4e152",
        "colab": {
          "base_uri": "https://localhost:8080/"
        }
      },
      "source": [
        "%%R\n",
        "plot(Gender, DIU1, xlab=\"Gender of the Individual\", ylab=\"Internet Usage\")"
      ],
      "execution_count": null,
      "outputs": [
        {
          "output_type": "display_data",
          "data": {
            "image/png": "[encoded data removed]"
          },
          "metadata": {
            "tags": []
          }
        }
      ]
    },
    {
      "cell_type": "code",
      "metadata": {
        "id": "fFCbiaiAbbE4",
        "outputId": "b9a6451b-23b6-46a0-abe9-f43f9154f394",
        "colab": {
          "base_uri": "https://localhost:8080/"
        }
      },
      "source": [
        "%%R\n",
        "plot(Gender, DTSS, xlab=\"Gender of the Individual\", ylab=\"Time Spent on Site\")"
      ],
      "execution_count": null,
      "outputs": [
        {
          "output_type": "display_data",
          "data": {
            "image/png": "[encoded data removed]"
          },
          "metadata": {
            "tags": []
          }
        }
      ]
    },
    {
      "cell_type": "code",
      "metadata": {
        "id": "dKsbOehfbvwb",
        "outputId": "d8b5e328-c167-4d59-f251-d4e68b053c8b",
        "colab": {
          "base_uri": "https://localhost:8080/"
        }
      },
      "source": [
        "%%R\n",
        "plot(Income, DIU1, xlab=\"Income of the Area\", ylab=\"Internet Usage\")"
      ],
      "execution_count": null,
      "outputs": [
        {
          "output_type": "display_data",
          "data": {
            "image/png": "[encoded data removed]"
          },
          "metadata": {
            "tags": []
          }
        }
      ]
    },
    {
      "cell_type": "code",
      "metadata": {
        "id": "tH2M7T84b6Cq",
        "outputId": "e6ff7220-32d9-4ffd-f8e4-b0c1192661c2",
        "colab": {
          "base_uri": "https://localhost:8080/"
        }
      },
      "source": [
        "%%R\n",
        "plot(Income, DTSS, xlab=\"Income of the Area\", ylab=\"Time Spent on Site\")"
      ],
      "execution_count": null,
      "outputs": [
        {
          "output_type": "display_data",
          "data": {
            "image/png": "[encoded data removed]"
          },
          "metadata": {
            "tags": []
          }
        }
      ]
    },
    {
      "cell_type": "code",
      "metadata": {
        "id": "_P-PQewHcLy6",
        "outputId": "06afb79d-3d19-420d-e3b9-0c7fca517ffe",
        "colab": {
          "base_uri": "https://localhost:8080/"
        }
      },
      "source": [
        "%%R\n",
        "plot(Income, DTSS, xlab=\"Income of the Area\", ylab=\"Time Spent on Site\")"
      ],
      "execution_count": null,
      "outputs": [
        {
          "output_type": "display_data",
          "data": {
            "image/png": "[encoded data removed]"
          },
          "metadata": {
            "tags": []
          }
        }
      ]
    },
    {
      "cell_type": "code",
      "metadata": {
        "id": "eFVE_eXlVxRE",
        "outputId": "21284386-e36c-4464-cf92-be353ffc3dc9",
        "colab": {
          "base_uri": "https://localhost:8080/"
        }
      },
      "source": [
        "%%R\n",
        "Survey <- data.frame(Age, Gender, Country, Clicked)\n",
        "head(Survey)"
      ],
      "execution_count": null,
      "outputs": [
        {
          "output_type": "stream",
          "text": [
            "  Age Gender    Country Clicked\n",
            "1  35      0    Tunisia       0\n",
            "2  31      1      Nauru       0\n",
            "3  26      0 San Marino       0\n",
            "4  29      1      Italy       0\n",
            "5  35      0    Iceland       0\n",
            "6  23      1     Norway       0\n"
          ],
          "name": "stdout"
        }
      ]
    },
    {
      "cell_type": "code",
      "metadata": {
        "id": "XoeX4kmUXQey",
        "outputId": "6007a124-ddb1-4449-ee14-27708c1835a6",
        "colab": {
          "base_uri": "https://localhost:8080/"
        }
      },
      "source": [
        "%%R\n",
        "crosstab(Survey, row.vars = \"Age\", col.vars = \"Gender\", type = c(\"f\", \"t\"), style = \"long\", \n",
        "    addmargins = FALSE)"
      ],
      "execution_count": null,
      "outputs": [
        {
          "output_type": "stream",
          "text": [
            "R[write to console]: Error in crosstab(Survey, row.vars = \"Age\", col.vars = \"Gender\", type = c(\"f\",  : \n",
            "  could not find function \"crosstab\"\n",
            "Calls: <Anonymous> -> <Anonymous> -> withVisible\n",
            "\n",
            "R[write to console]: In addition: \n",
            "R[write to console]: Warning message:\n",
            "\n",
            "R[write to console]: In mean.default(advertising_dataset) :\n",
            "R[write to console]: \n",
            " \n",
            "R[write to console]:  argument is not numeric or logical: returning NA\n",
            "\n"
          ],
          "name": "stderr"
        },
        {
          "output_type": "stream",
          "text": [
            "\n",
            "Error in crosstab(Survey, row.vars = \"Age\", col.vars = \"Gender\", type = c(\"f\",  : \n",
            "  could not find function \"crosstab\"\n",
            "Calls: <Anonymous> -> <Anonymous> -> withVisible\n"
          ],
          "name": "stdout"
        }
      ]
    },
    {
      "cell_type": "markdown",
      "metadata": {
        "id": "UrHrJ0ssd3Qk"
      },
      "source": [
        "# Modelling"
      ]
    },
    {
      "cell_type": "markdown",
      "metadata": {
        "id": "aN76pu_iezRh"
      },
      "source": [
        "#1.Multiple Linear Regression\n",
        "Given that the dependent variable is categorical a linear model would not be appropriate,instead a logistic regression model should be fitted."
      ]
    },
    {
      "cell_type": "code",
      "metadata": {
        "id": "Q1X9sxcZd5qE"
      },
      "source": [
        "%%R\n",
        "library(ggplot2) \n"
      ],
      "execution_count": null,
      "outputs": []
    },
    {
      "cell_type": "code",
      "metadata": {
        "id": "L7fGxR_3x-nK",
        "outputId": "47f59f0d-1426-4895-eef9-f6c69cbf207f",
        "colab": {
          "base_uri": "https://localhost:8080/",
          "height": 497
        }
      },
      "source": [
        "#Examining the data by plotting a scatter plot in order understand relationships\n",
        "%%R\n",
        "ggplot(my_data, aes(Clicked.on.Ad, Daily.Time.Spent.on.Site))+\n",
        "  geom_point()+\n",
        "  labs(title = \"Daily Time Spent on Site Vs Clicking on the Ad\",\n",
        "       x = \"Daily.Time.Spent.on.Site\",\n",
        "       y = \"Clicked.on.Site\")"
      ],
      "execution_count": null,
      "outputs": [
        {
          "output_type": "display_data",
          "data": {
            "image/png": "[encoded data removed]"
          },
          "metadata": {
            "tags": []
          }
        }
      ]
    },
    {
      "cell_type": "code",
      "metadata": {
        "id": "IALAJqbZ-MDV",
        "outputId": "00db35b0-a035-40cf-8315-989620ae7e38",
        "colab": {
          "base_uri": "https://localhost:8080/",
          "height": 497
        }
      },
      "source": [
        "%%R\n",
        "ggplot(my_data, aes(Clicked.on.Ad, Daily.Internet.Usage))+\n",
        "  geom_point()+\n",
        "  labs(title = \"Daily Internet Usage Vs Clicking on the Ad\",\n",
        "       x = \"Daily.Internet.Usage\",\n",
        "       y = \"Clicked.on.Site\")"
      ],
      "execution_count": null,
      "outputs": [
        {
          "output_type": "display_data",
          "data": {
            "image/png": "[encoded data removed]"
          },
          "metadata": {
            "tags": []
          }
        }
      ]
    },
    {
      "cell_type": "code",
      "metadata": {
        "id": "vnNZDnpt-gdV",
        "outputId": "e6de2d21-249c-4be0-b3b0-3a4173144ae5",
        "colab": {
          "base_uri": "https://localhost:8080/",
          "height": 497
        }
      },
      "source": [
        "%%R\n",
        "ggplot(my_data, aes(Clicked.on.Ad, Age))+\n",
        "  geom_point()+\n",
        "  labs(title = \"Age Vs Clicking on the Ad\",\n",
        "       x = \"Age\",\n",
        "       y = \"Clicked.on.Site\")"
      ],
      "execution_count": null,
      "outputs": [
        {
          "output_type": "display_data",
          "data": {
            "image/png": "[encoded data removed]"
          },
          "metadata": {
            "tags": []
          }
        }
      ]
    },
    {
      "cell_type": "code",
      "metadata": {
        "id": "jNsLZjgo-rId",
        "outputId": "07254f86-dd2a-45e6-a5c7-32058a1c68e9",
        "colab": {
          "base_uri": "https://localhost:8080/",
          "height": 497
        }
      },
      "source": [
        "%%R\n",
        "ggplot(my_data, aes(Clicked.on.Ad, Area.Income))+\n",
        "  geom_point()+\n",
        "  labs(title = \"Area Income Vs Clicking on the Ad\",\n",
        "       x = \"Area Income\",\n",
        "       y = \"Clicked.on.Site\")"
      ],
      "execution_count": null,
      "outputs": [
        {
          "output_type": "display_data",
          "data": {
            "image/png": "[encoded data removed]"
          },
          "metadata": {
            "tags": []
          }
        }
      ]
    },
    {
      "cell_type": "code",
      "metadata": {
        "id": "_bCvAW-W--Nd",
        "outputId": "6379238a-083e-4a00-d61e-e6edf030bfb6",
        "colab": {
          "base_uri": "https://localhost:8080/",
          "height": 497
        }
      },
      "source": [
        "%%R\n",
        "ggplot(my_data, aes(Clicked.on.Ad, Male))+\n",
        "  geom_point()+\n",
        "  labs(title = \"Male Vs Clicking on the Ad\",\n",
        "       x = \"Male\",\n",
        "       y = \"Clicked.on.Site\")"
      ],
      "execution_count": null,
      "outputs": [
        {
          "output_type": "display_data",
          "data": {
            "image/png": "[encoded data removed]"
          },
          "metadata": {
            "tags": []
          }
        }
      ]
    },
    {
      "cell_type": "code",
      "metadata": {
        "id": "LseufscwXJYJ",
        "outputId": "2927690b-b53e-407b-96c6-1a990cbe6a04",
        "colab": {
          "base_uri": "https://localhost:8080/"
        }
      },
      "source": [
        "#Dropping the categorical columns as they will not be applicable in the model\n",
        "%%R\n",
        "df <- my_data[ -c(5:6,8:9) ]\n",
        "df"
      ],
      "execution_count": null,
      "outputs": [
        {
          "output_type": "stream",
          "text": [
            "# A tibble: 1,000 x 6\n",
            "   Daily.Time.Spent.on…   Age Area.Income Daily.Internet.Us…  Male Clicked.on.Ad\n",
            "                  <dbl> <int>       <dbl>              <dbl> <int>         <int>\n",
            " 1                 69.0    35      61834.               256.     0             0\n",
            " 2                 80.2    31      68442.               194.     1             0\n",
            " 3                 69.5    26      59786.               236.     0             0\n",
            " 4                 74.2    29      54806.               246.     1             0\n",
            " 5                 68.4    35      73890.               226.     0             0\n",
            " 6                 60.0    23      59762.               227.     1             0\n",
            " 7                 88.9    33      53853.               208.     0             0\n",
            " 8                 66      48      24593.               132.     1             1\n",
            " 9                 74.5    30      68862                222.     1             0\n",
            "10                 69.9    20      55642.               184.     1             0\n",
            "# … with 990 more rows\n"
          ],
          "name": "stdout"
        }
      ]
    },
    {
      "cell_type": "code",
      "metadata": {
        "id": "kAzZP9tC_L48"
      },
      "source": [
        "#Splitting the dataset into train and test sets \n",
        "%%R\n",
        "set.seed(123)\n",
        "sample <- sample(c(TRUE, FALSE), nrow(df), replace = T, prob = c(0.6,0.4))\n",
        "train <- df[sample, ]\n",
        "test <- df[!sample, ]"
      ],
      "execution_count": null,
      "outputs": []
    },
    {
      "cell_type": "code",
      "metadata": {
        "id": "X52pHKnziLmj",
        "outputId": "0a2474f2-4199-4b71-8a82-5b620ba744ce",
        "colab": {
          "base_uri": "https://localhost:8080/"
        }
      },
      "source": [
        "%%R\n",
        "Multiple_Regression <- lm(Clicked.on.Ad ~ ., train)\n",
        "Multiple_Regression\n"
      ],
      "execution_count": null,
      "outputs": [
        {
          "output_type": "stream",
          "text": [
            "\n",
            "Call:\n",
            "lm(formula = Clicked.on.Ad ~ ., data = train)\n",
            "\n",
            "Coefficients:\n",
            "             (Intercept)  Daily.Time.Spent.on.Site                       Age  \n",
            "               2.328e+00                -1.247e-02                 9.564e-03  \n",
            "             Area.Income      Daily.Internet.Usage                      Male  \n",
            "              -6.247e-06                -5.517e-03                -4.900e-02  \n",
            "\n"
          ],
          "name": "stdout"
        }
      ]
    },
    {
      "cell_type": "markdown",
      "metadata": {
        "id": "7e5SM3Mxi2_H"
      },
      "source": [
        "The coefficients are as follows:\n",
        "Intercept=2.328e+00\n",
        "Area.Income=-6.247e-06- An indication of a negative relationship with the dependent variable.\n",
        "Daily.Time.Spent.on.Site=-1.247e-02 -An indication of a negative relationship with the dependent variable\n",
        "Daily.Intenet.Usage=-5.517e-03-An indication of a negative relationship with the dependent variable\n",
        "Age=9.564e-03-An indication of a positive relationship with the dependent variable\n",
        "Male=-4.900e-02-An indication of a negative relationship with the dependent variable\n"
      ]
    },
    {
      "cell_type": "markdown",
      "metadata": {
        "id": "JUn6BZjqj7yg"
      },
      "source": [
        "The fitted equation is as follows:\n",
        "\n",
        "Clicked.on.Ad=2.328+00-6.247e-06*Area.Income-1.247e-02*Daily.Time.Spent.on.Site-5.517e-03*Daily.Internet.Usage+9.564e-03*Age-4.900e-02*Male"
      ]
    },
    {
      "cell_type": "code",
      "metadata": {
        "id": "hUvFBD4e19UL",
        "outputId": "fdc1a095-85b1-49d8-91a4-a56b6618a198",
        "colab": {
          "base_uri": "https://localhost:8080/"
        }
      },
      "source": [
        "%%R\n",
        "summary(Multiple_Regression)"
      ],
      "execution_count": null,
      "outputs": [
        {
          "output_type": "stream",
          "text": [
            "\n",
            "Call:\n",
            "lm(formula = Clicked.on.Ad ~ ., data = train)\n",
            "\n",
            "Residuals:\n",
            "     Min       1Q   Median       3Q      Max \n",
            "-0.50165 -0.12210 -0.03318  0.05956  1.01011 \n",
            "\n",
            "Coefficients:\n",
            "                           Estimate Std. Error t value Pr(>|t|)    \n",
            "(Intercept)               2.328e+00  7.398e-02  31.476   <2e-16 ***\n",
            "Daily.Time.Spent.on.Site -1.247e-02  6.618e-04 -18.848   <2e-16 ***\n",
            "Age                       9.564e-03  1.072e-03   8.919   <2e-16 ***\n",
            "Area.Income              -6.247e-06  7.032e-07  -8.885   <2e-16 ***\n",
            "Daily.Internet.Usage     -5.517e-03  2.391e-04 -23.070   <2e-16 ***\n",
            "Male                     -4.900e-02  1.727e-02  -2.837   0.0047 ** \n",
            "---\n",
            "Signif. codes:  0 ‘***’ 0.001 ‘**’ 0.01 ‘*’ 0.05 ‘.’ 0.1 ‘ ’ 1\n",
            "\n",
            "Residual standard error: 0.2114 on 601 degrees of freedom\n",
            "Multiple R-squared:  0.8228,\tAdjusted R-squared:  0.8213 \n",
            "F-statistic:   558 on 5 and 601 DF,  p-value: < 2.2e-16\n",
            "\n"
          ],
          "name": "stdout"
        }
      ]
    },
    {
      "cell_type": "markdown",
      "metadata": {
        "id": "5xAYjfXg2bFi"
      },
      "source": [
        "The R-squared value is 0.8228 which means that 82.28% of deviations in the clicking of the Advert are accounted for by the independent variables in the model which is a good fit."
      ]
    },
    {
      "cell_type": "code",
      "metadata": {
        "id": "P54MKI-57MG2",
        "outputId": "41f7fddc-ead7-4d40-c41b-d3d4f499cf71",
        "colab": {
          "base_uri": "https://localhost:8080/"
        }
      },
      "source": [
        "%%R\n",
        "#Getting the confidence interval\n",
        "confint(Multiple_Regression)"
      ],
      "execution_count": null,
      "outputs": [
        {
          "output_type": "stream",
          "text": [
            "                                 2.5 %        97.5 %\n",
            "(Intercept)               2.183145e+00  2.473708e+00\n",
            "Daily.Time.Spent.on.Site -1.377293e-02 -1.117355e-02\n",
            "Age                       7.457842e-03  1.166958e-02\n",
            "Area.Income              -7.628286e-06 -4.866408e-06\n",
            "Daily.Internet.Usage     -5.986346e-03 -5.047085e-03\n",
            "Male                     -8.291035e-02 -1.508324e-02\n"
          ],
          "name": "stdout"
        }
      ]
    },
    {
      "cell_type": "code",
      "metadata": {
        "id": "yoxrwUW18Sqf"
      },
      "source": [
        "%%R\n",
        "library(modelr)\n",
        "library(broom)   "
      ],
      "execution_count": null,
      "outputs": []
    },
    {
      "cell_type": "code",
      "metadata": {
        "id": "awcVNDawlAGc",
        "outputId": "ed9387f0-2c55-4a50-a36c-b72f0f6dd033",
        "colab": {
          "base_uri": "https://localhost:8080/"
        }
      },
      "source": [
        "# Generating the anova table\n",
        "%%R\n",
        "anova(Multiple_Regression)\n"
      ],
      "execution_count": null,
      "outputs": [
        {
          "output_type": "stream",
          "text": [
            "Analysis of Variance Table\n",
            "\n",
            "Response: Clicked.on.Ad\n",
            "                          Df Sum Sq Mean Sq   F value    Pr(>F)    \n",
            "Daily.Time.Spent.on.Site   1 81.141  81.141 1815.0809 < 2.2e-16 ***\n",
            "Age                        1 10.009  10.009  223.8967 < 2.2e-16 ***\n",
            "Area.Income                1  9.363   9.363  209.4422 < 2.2e-16 ***\n",
            "Daily.Internet.Usage       1 23.861  23.861  533.7542 < 2.2e-16 ***\n",
            "Male                       1  0.360   0.360    8.0507  0.004702 ** \n",
            "Residuals                601 26.867   0.045                        \n",
            "---\n",
            "Signif. codes:  0 ‘***’ 0.001 ‘**’ 0.01 ‘*’ 0.05 ‘.’ 0.1 ‘ ’ 1\n"
          ],
          "name": "stdout"
        }
      ]
    },
    {
      "cell_type": "code",
      "metadata": {
        "id": "nkunF6ljmY-5",
        "outputId": "fa29bf62-bc65-4608-e1f9-cb6fe9b4c32e",
        "colab": {
          "base_uri": "https://localhost:8080/"
        }
      },
      "source": [
        "#Making predictions\n",
        "%%R\n",
        "Value <- data.frame(Daily.Time.Spent.on.Site = 80.23, Age = 31, Area.Income = 8,441.85, Daily.Internet.Usage=193.77,Male=0)\n",
        "Predicted_Click <- predict(Multiple_Regression, Value)\n",
        "Predicted_Click\n",
        "#The model predicts that there will be a click with 55.51% accuracy."
      ],
      "execution_count": null,
      "outputs": [
        {
          "output_type": "stream",
          "text": [
            "        1 \n",
            "0.5551495 \n"
          ],
          "name": "stdout"
        }
      ]
    },
    {
      "cell_type": "code",
      "metadata": {
        "id": "7c-NCc1e_29x",
        "outputId": "db52cdbe-10b5-4c77-8bfd-5a3a7cf4cd34",
        "colab": {
          "base_uri": "https://localhost:8080/"
        }
      },
      "source": [
        "%%R\n",
        "(test <- test %>% \n",
        "  add_predictions(Multiple_Regression))"
      ],
      "execution_count": null,
      "outputs": [
        {
          "output_type": "stream",
          "text": [
            "# A tibble: 393 x 7\n",
            "   Daily.Time.Spen…   Age Area.Income Daily.Internet.…  Male Clicked.on.Ad\n",
            "              <dbl> <int>       <dbl>            <dbl> <int>         <int>\n",
            " 1             80.2    31      68442.             194.     1             0\n",
            " 2             74.2    29      54806.             246.     1             0\n",
            " 3             68.4    35      73890.             226.     0             0\n",
            " 4             66      48      24593.             132.     1             1\n",
            " 5             47.6    49      45633.             122.     0             1\n",
            " 6             69.6    48      51637.             113.     1             1\n",
            " 7             63.4    23      52182.             141.     1             1\n",
            " 8             74.6    40      23822.             136.     1             1\n",
            " 9             77.2    30      64802.             224.     1             0\n",
            "10             84.6    35      60016.             227.     1             0\n",
            "# … with 383 more rows, and 1 more variable: pred <dbl>\n"
          ],
          "name": "stdout"
        }
      ]
    },
    {
      "cell_type": "code",
      "metadata": {
        "id": "jjpbda5zAPEc",
        "outputId": "ee07c764-3a30-42b8-df33-477e02b456b4",
        "colab": {
          "base_uri": "https://localhost:8080/"
        }
      },
      "source": [
        "%%R\n",
        "#Testing MSE\n",
        "test %>% \n",
        "  add_predictions(Multiple_Regression) %>%\n",
        "  summarise(MSE = mean((Clicked.on.Ad - pred)^2))"
      ],
      "execution_count": null,
      "outputs": [
        {
          "output_type": "stream",
          "text": [
            "# A tibble: 1 x 1\n",
            "     MSE\n",
            "   <dbl>\n",
            "1 0.0442\n"
          ],
          "name": "stdout"
        }
      ]
    },
    {
      "cell_type": "code",
      "metadata": {
        "id": "m5ZZI34DAkow",
        "outputId": "a1088e9e-b30b-4fa1-8f01-37f4e3048f6a",
        "colab": {
          "base_uri": "https://localhost:8080/"
        }
      },
      "source": [
        "%%R\n",
        "#Training MSE\n",
        "train %>% \n",
        "  add_predictions(Multiple_Regression) %>%\n",
        "  summarise(MSE = mean((Clicked.on.Ad - pred)^2))"
      ],
      "execution_count": null,
      "outputs": [
        {
          "output_type": "stream",
          "text": [
            "# A tibble: 1 x 1\n",
            "     MSE\n",
            "   <dbl>\n",
            "1 0.0443\n"
          ],
          "name": "stdout"
        }
      ]
    },
    {
      "cell_type": "code",
      "metadata": {
        "id": "5dJOORKuzL60",
        "outputId": "32838d9a-021e-4c3a-bc35-35bbd5e73bcf",
        "colab": {
          "base_uri": "https://localhost:8080/"
        }
      },
      "source": [
        "%%R\n",
        "#Getting the deviation\n",
        "RSE<-sigma(Multiple_Regression)\n",
        "RSE\n",
        "#The RSE value is 0.2114 meaning that the actual clicks will deviate from the mean by 2.11 on average and when compared to the average value of clicks over all markets the percentage error is 43.65% as shown below."
      ],
      "execution_count": null,
      "outputs": [
        {
          "output_type": "stream",
          "text": [
            "[1] 0.2114332\n"
          ],
          "name": "stdout"
        }
      ]
    },
    {
      "cell_type": "code",
      "metadata": {
        "id": "B9lREdCy0FEs",
        "outputId": "c4330249-81c1-4f7d-a8de-dd8c81eaf88c",
        "colab": {
          "base_uri": "https://localhost:8080/"
        }
      },
      "source": [
        "%%R\n",
        "sigma(Multiple_Regression)/mean(train$Clicked.on.Ad)"
      ],
      "execution_count": null,
      "outputs": [
        {
          "output_type": "stream",
          "text": [
            "[1] 0.4365305\n"
          ],
          "name": "stdout"
        }
      ]
    },
    {
      "cell_type": "code",
      "metadata": {
        "id": "mGmEdYko-WyL"
      },
      "source": [
        "#Analyzing the F-Statistic\n",
        "#From the summary of the model,the value is as follow:F-statistic:   558 on 5 and 601 DF,  p-value: < 2.2e-16\n",
        "#The p-value is <0.05 hence the model is a good fit."
      ],
      "execution_count": null,
      "outputs": []
    },
    {
      "cell_type": "code",
      "metadata": {
        "id": "mFp0dEP2_JoE",
        "outputId": "7a0a42f4-035c-448c-e5fe-bbf12f823a82",
        "colab": {
          "base_uri": "https://localhost:8080/",
          "height": 570
        }
      },
      "source": [
        "#Assessing the model's visuality\n",
        "%%R\n",
        "ggplot(train, aes(Clicked.on.Ad, Daily.Internet.Usage)) +\n",
        "  geom_point() +\n",
        "  geom_smooth(method = \"lm\") +\n",
        "  geom_smooth(se = FALSE, color = \"red\")"
      ],
      "execution_count": null,
      "outputs": [
        {
          "output_type": "stream",
          "text": [
            "R[write to console]: `geom_smooth()` using formula 'y ~ x'\n",
            "\n",
            "R[write to console]: `geom_smooth()` using method = 'loess' and formula 'y ~ x'\n",
            "\n"
          ],
          "name": "stderr"
        },
        {
          "output_type": "display_data",
          "data": {
            "image/png": "[encoded data removed]"
          },
          "metadata": {
            "tags": []
          }
        }
      ]
    },
    {
      "cell_type": "code",
      "metadata": {
        "id": "1LWMNTG9POi1",
        "outputId": "660d793d-271b-429e-ff6e-206133467d05",
        "colab": {
          "base_uri": "https://localhost:8080/",
          "height": 570
        }
      },
      "source": [
        "%%R\n",
        "ggplot(train, aes(Clicked.on.Ad, Daily.Time.Spent.on.Site)) +\n",
        "  geom_point() +\n",
        "  geom_smooth(method = \"lm\") +\n",
        "  geom_smooth(se = FALSE, color = \"blue\")"
      ],
      "execution_count": null,
      "outputs": [
        {
          "output_type": "stream",
          "text": [
            "R[write to console]: `geom_smooth()` using formula 'y ~ x'\n",
            "\n",
            "R[write to console]: `geom_smooth()` using method = 'loess' and formula 'y ~ x'\n",
            "\n"
          ],
          "name": "stderr"
        },
        {
          "output_type": "display_data",
          "data": {
            "image/png": "[encoded data removed]"
          },
          "metadata": {
            "tags": []
          }
        }
      ]
    },
    {
      "cell_type": "code",
      "metadata": {
        "id": "yScB3NmXPcTU",
        "outputId": "f1524d8f-41f3-4a53-9fa0-627e1b6bd639",
        "colab": {
          "base_uri": "https://localhost:8080/",
          "height": 570
        }
      },
      "source": [
        "%%R\n",
        "ggplot(train, aes(Clicked.on.Ad, Age)) +\n",
        "  geom_point() +\n",
        "  geom_smooth(method = \"lm\") +\n",
        "  geom_smooth(se = FALSE, color = \"red\")"
      ],
      "execution_count": null,
      "outputs": [
        {
          "output_type": "stream",
          "text": [
            "R[write to console]: `geom_smooth()` using formula 'y ~ x'\n",
            "\n",
            "R[write to console]: `geom_smooth()` using method = 'loess' and formula 'y ~ x'\n",
            "\n"
          ],
          "name": "stderr"
        },
        {
          "output_type": "display_data",
          "data": {
            "image/png": "[encoded data removed]"
          },
          "metadata": {
            "tags": []
          }
        }
      ]
    },
    {
      "cell_type": "code",
      "metadata": {
        "id": "U_6s-iRWPiSa",
        "outputId": "7867d426-33fb-4671-e0cf-8db0bef99507",
        "colab": {
          "base_uri": "https://localhost:8080/",
          "height": 570
        }
      },
      "source": [
        "%%R\n",
        "ggplot(train, aes(Clicked.on.Ad, Area.Income)) +\n",
        "  geom_point() +\n",
        "  geom_smooth(method = \"lm\") +\n",
        "  geom_smooth(se = FALSE, color = \"red\")"
      ],
      "execution_count": null,
      "outputs": [
        {
          "output_type": "stream",
          "text": [
            "R[write to console]: `geom_smooth()` using formula 'y ~ x'\n",
            "\n",
            "R[write to console]: `geom_smooth()` using method = 'loess' and formula 'y ~ x'\n",
            "\n"
          ],
          "name": "stderr"
        },
        {
          "output_type": "display_data",
          "data": {
            "image/png": "[encoded data removed]"
          },
          "metadata": {
            "tags": []
          }
        }
      ]
    },
    {
      "cell_type": "markdown",
      "metadata": {
        "id": "VWy6xWInChMI"
      },
      "source": [
        "# 2.KNN"
      ]
    },
    {
      "cell_type": "code",
      "metadata": {
        "id": "BJPa339qMCok",
        "outputId": "e5aacc49-8b59-4086-ab4b-de714a3b0acc",
        "colab": {
          "base_uri": "https://localhost:8080/"
        }
      },
      "source": [
        "%%R\n",
        "#Finding the structure of  the dataset\n",
        "str(df)"
      ],
      "execution_count": null,
      "outputs": [
        {
          "output_type": "stream",
          "text": [
            "tibble [1,000 × 6] (S3: tbl_df/tbl/data.frame)\n",
            " $ Daily.Time.Spent.on.Site: num [1:1000] 69 80.2 69.5 74.2 68.4 ...\n",
            " $ Age                     : int [1:1000] 35 31 26 29 35 23 33 48 30 20 ...\n",
            " $ Area.Income             : num [1:1000] 61834 68442 59786 54806 73890 ...\n",
            " $ Daily.Internet.Usage    : num [1:1000] 256 194 236 246 226 ...\n",
            " $ Male                    : int [1:1000] 0 1 0 1 0 1 0 1 1 1 ...\n",
            " $ Clicked.on.Ad           : int [1:1000] 0 0 0 0 0 0 0 1 0 0 ...\n"
          ],
          "name": "stdout"
        }
      ]
    },
    {
      "cell_type": "code",
      "metadata": {
        "id": "aQNd8Zjq2Hba",
        "outputId": "c09d3c79-f8aa-4aa5-e60d-56cce5ca05f8",
        "colab": {
          "base_uri": "https://localhost:8080/"
        }
      },
      "source": [
        "#Normalization\n",
        "%%R\n",
        "dfNorm <- as.data.frame(scale(df))\n",
        "head(dfNorm)"
      ],
      "execution_count": null,
      "outputs": [
        {
          "output_type": "stream",
          "text": [
            "  Daily.Time.Spent.on.Site        Age Area.Income Daily.Internet.Usage\n",
            "1                0.2491419 -0.1148475  0.50943618            1.7331628\n",
            "2                0.9606516 -0.5701399  1.00202882            0.3136484\n",
            "3                0.2819420 -1.1392555  0.35677007            1.2869451\n",
            "4                0.5771428 -0.7977862 -0.01444841            1.5008289\n",
            "5                0.2125572 -0.1148475  1.40816290            1.0382112\n",
            "6               -0.3160289 -1.4807248  0.35495265            1.0646335\n",
            "        Male Clicked.on.Ad\n",
            "1 -0.9622138    -0.9994999\n",
            "2  1.0382307    -0.9994999\n",
            "3 -0.9622138    -0.9994999\n",
            "4  1.0382307    -0.9994999\n",
            "5 -0.9622138    -0.9994999\n",
            "6  1.0382307    -0.9994999\n"
          ],
          "name": "stdout"
        }
      ]
    },
    {
      "cell_type": "code",
      "metadata": {
        "id": "H6byEuIQkr0f"
      },
      "source": [
        "%%R\n",
        "normalize <- function(x) {\n",
        "return ((x - min(x)) / (max(x) - min(x)))\n",
        "}"
      ],
      "execution_count": null,
      "outputs": []
    },
    {
      "cell_type": "code",
      "metadata": {
        "id": "t8FCmfeYhVTM",
        "outputId": "a6562d18-1f4f-4116-daa2-4587e786cff3",
        "colab": {
          "base_uri": "https://localhost:8080/"
        }
      },
      "source": [
        "%%R\n",
        "df_n <- as.data.frame(lapply(df, normalize))\n",
        "summary(df_n$Daily.Time.Spent.on.Site)"
      ],
      "execution_count": null,
      "outputs": [
        {
          "output_type": "stream",
          "text": [
            "   Min. 1st Qu.  Median    Mean 3rd Qu.    Max. \n",
            " 0.0000  0.3189  0.6054  0.5507  0.7810  1.0000 \n"
          ],
          "name": "stdout"
        }
      ]
    },
    {
      "cell_type": "code",
      "metadata": {
        "id": "DA5L10nuNCR3"
      },
      "source": [
        "%%R\n",
        "Train <- df_n[1:200, ]\n",
        "Test <- df_n[201:393, ]\n",
        "Train_labels <- Train[1:200, 1]\n",
        "Test_labels <- Test[201:393, 1]"
      ],
      "execution_count": null,
      "outputs": []
    },
    {
      "cell_type": "code",
      "metadata": {
        "id": "VytRX_CIQIAt",
        "outputId": "ea32b044-db7e-4fe5-ea8f-c2d7531c07af",
        "colab": {
          "base_uri": "https://localhost:8080/"
        }
      },
      "source": [
        "#Training the Model\n",
        "%%R\n",
        "library(class)    \n",
        "require(class)\n",
        "Test_pred <- knn(train = Train, test = Test,\n",
        "                      cl = Train_labels, k = 21)\n",
        "Test_pred"
      ],
      "execution_count": null,
      "outputs": [
        {
          "output_type": "stream",
          "text": [
            "  [1] 0.620091789903111  0.883732789393167  0.188169301376849 \n",
            "  [4] 0.618731939486656  0.670406255311916  0.229984701682815 \n",
            "  [7] 0.813700492945776  0.908720040795512  0.151113377528472 \n",
            " [10] 0.188169301376849  0.813530511643719  0.553969063403026 \n",
            " [13] 0.813530511643719  0.38670746217916   0.763386027536971 \n",
            " [16] 0.639129695733469  0.567737548869624  0.29712731599524  \n",
            " [19] 0.123406425293218  0.151113377528472  0.905320414754377 \n",
            " [22] 0.815910249872514  0.316845147033826  0.22709501954785  \n",
            " [25] 0.919428862825089  0.553969063403026  0.387387387387387 \n",
            " [28] 0.210436851946286  0.704062553119157  0.797552269250382 \n",
            " [31] 0.712731599524052  0.10062893081761   0.22709501954785  \n",
            " [34] 0.730069692333843  0.303076661567228  0.188169301376849 \n",
            " [37] 0.634030256671766  0.60802311745708   0.639129695733469 \n",
            " [40] 0.851266360700323  0.469658337582866  0.303076661567228 \n",
            " [43] 0.908720040795512  0.97416284208737   0.636240013598504 \n",
            " [46] 0.754546999830018  0.39095699473058   0.188169301376849 \n",
            " [49] 0.151113377528472  0.29712731599524   0.804691483936767 \n",
            " [52] 0.38670746217916   0.908720040795512  0.0103688594254632\n",
            " [55] 0.382967873533911  0.813700492945776  0.804691483936767 \n",
            " [58] 0.39095699473058   0.804691483936767  0.469658337582866 \n",
            " [61] 0.815910249872514  0.29712731599524   0.39095699473058  \n",
            " [64] 0.261941186469488  0.669896311405745  0.412884582695903 \n",
            " [67] 0.730069692333843  0.626721060683325  0.37565867754547  \n",
            " [70] 0.890362060173381  0.425633180350161  0.758456569777324 \n",
            " [73] 0.879993200747918  0.897501274859765  0.732619411864695 \n",
            " [76] 0.204657487676356  0.890362060173381  0.908720040795512 \n",
            " [79] 0.908720040795512  0.908720040795512  0.151113377528472 \n",
            " [82] 0.204657487676356  0.0511643719190889 0.60802311745708  \n",
            " [85] 0.10062893081761   0.754546999830018  0.531871494135645 \n",
            " [88] 0.665306816250212  0.210436851946286  0.22709501954785  \n",
            " [91] 0.204657487676356  0.919428862825089  0.0834608193098759\n",
            " [94] 0.900220975692674  0.809620941696413  0.852116267210607 \n",
            " [97] 0.804691483936767  0.557538670746218  0.905320414754377 \n",
            "[100] 0.813530511643719  0.665306816250212  0.22709501954785  \n",
            "[103] 0.0980792112867584 0.477647458779534  0.151113377528472 \n",
            "[106] 0.38670746217916   0.732619411864695  0.732619411864695 \n",
            "[109] 0.710691823899371  0.151113377528472  0.743158252592215 \n",
            "[112] 0.829168791432942  0.810980792112868  0.770865204827469 \n",
            "[115] 0.919428862825089  0.427672955974843  0.652728199898011 \n",
            "[118] 0.636240013598504  0.900220975692674  0.210436851946286 \n",
            "[121] 0.634030256671766  0.900220975692674  0.908720040795512 \n",
            "[124] 0.60802311745708   0.829168791432942  0.151113377528472 \n",
            "[127] 0.188169301376849  0.665306816250212  0.652728199898011 \n",
            "[130] 0.154173040965494  0.670406255311916  0.890362060173381 \n",
            "[133] 0.29712731599524   0.91092979772225   0.908720040795512 \n",
            "[136] 0.0103688594254632 0.957164711881693  0.800781913989461 \n",
            "[139] 0.929627740948496  0.642699303076661  0.151113377528472 \n",
            "[142] 0.639129695733469  0.959544450110488  0.908720040795512 \n",
            "[145] 0.400135985041645  0.673635900050994  0.738058813530512 \n",
            "[148] 0.0996090430052694 0.620091789903111  0.882712901580826 \n",
            "[151] 0.797552269250382  0.629270780214176  0.669896311405745 \n",
            "[154] 0.852116267210607  0.242733299337073  0.908720040795512 \n",
            "[157] 0.151113377528472  0.427672955974843  0.151113377528472 \n",
            "[160] 0.704062553119157  0.0124086350501444 0.39095699473058  \n",
            "[163] 0.773584905660377  0.398436172021078  0.851266360700323 \n",
            "[166] 0.20703722590515   0.770865204827469  0.557538670746218 \n",
            "[169] 0.763386027536971  0.908720040795512  0.570797212306646 \n",
            "[172] 0.188169301376849  0.871324154343022  0.292027876933537 \n",
            "[175] 0.667856535781064  0.908720040795512  0.908720040795512 \n",
            "[178] 0.253782083970763  0.553969063403026  0.594594594594595 \n",
            "[181] 0.905320414754377  0.458779534251232  0.763386027536971 \n",
            "[184] 0.758456569777324  0.0464048954614992 0.763386027536971 \n",
            "[187] 0.908720040795512  0.188169301376849  0.693693693693694 \n",
            "[190] 0.570797212306646  0.770865204827469  0.590855005949345 \n",
            "[193] 0.908720040795512 \n",
            "192 Levels: 0.0103688594254632 0.0124086350501444 ... 0.97416284208737\n"
          ],
          "name": "stdout"
        }
      ]
    },
    {
      "cell_type": "code",
      "metadata": {
        "id": "-bSBH-NCRwfB",
        "outputId": "b4e321d3-8ecb-4e02-b911-d00a870a05ca",
        "colab": {
          "base_uri": "https://localhost:8080/"
        }
      },
      "source": [
        "#Model Evaluation\n",
        "%%R\n",
        "t<-table(factor(Test_pred))\n",
        "t\n",
        "t1<-table(Test_labels,Test_pred)\n",
        "t1"
      ],
      "execution_count": null,
      "outputs": [
        {
          "output_type": "stream",
          "text": [
            "< table of extent 0 x 192 >\n"
          ],
          "name": "stdout"
        }
      ]
    },
    {
      "cell_type": "code",
      "metadata": {
        "id": "JUuJvZ8ZWPbc",
        "outputId": "aa612d8d-5d81-47b0-9272-1495f6fe79e4",
        "colab": {
          "base_uri": "https://localhost:8080/"
        }
      },
      "source": [
        "#Model Improvement\n",
        "%%R\n",
        "Test_pred <- knn(train = Train, test = Test,\n",
        "                      cl = Train_labels, k = 22)\n",
        "t2<-table(factor(Test_pred))\n",
        "t2\n",
        "t3<-table(Test_labels,Test_pred)\n",
        "t3"
      ],
      "execution_count": null,
      "outputs": [
        {
          "output_type": "stream",
          "text": [
            "< table of extent 0 x 192 >\n"
          ],
          "name": "stdout"
        }
      ]
    },
    {
      "cell_type": "markdown",
      "metadata": {
        "id": "MGZVaLLIW7-x"
      },
      "source": [
        "# 3.Decision Trees"
      ]
    },
    {
      "cell_type": "code",
      "metadata": {
        "id": "N6cJxn9kW6fD",
        "outputId": "3538c979-36d2-4cca-f01b-912b4a90bdaf",
        "colab": {
          "base_uri": "https://localhost:8080/"
        }
      },
      "source": [
        "%%R\n",
        "#Installing libraries\n",
        "install.packages('rpart')\n",
        "install.packages('caret')\n",
        "install.packages('rpart.plot')\n",
        "install.packages('rattle')\n",
        " \n",
        "#Loading libraries\n",
        "library(rpart,quietly = TRUE)\n",
        "library(caret,quietly = TRUE)\n",
        "library(rpart.plot,quietly = TRUE)\n",
        "library(rattle)"
      ],
      "execution_count": null,
      "outputs": [
        {
          "output_type": "stream",
          "text": [
            "R[write to console]: Installing package into ‘/usr/local/lib/R/site-library’\n",
            "(as ‘lib’ is unspecified)\n",
            "\n",
            "R[write to console]: trying URL 'https://cran.rstudio.com/src/contrib/rpart_4.1-15.tar.gz'\n",
            "\n",
            "R[write to console]: Content type 'application/x-gzip'\n",
            "R[write to console]:  length 639286 bytes (624 KB)\n",
            "\n",
            "R[write to console]: =\n",
            "R[write to console]: =\n",
            "R[write to console]: =\n",
            "R[write to console]: =\n",
            "R[write to console]: =\n",
            "R[write to console]: =\n",
            "R[write to console]: =\n",
            "R[write to console]: =\n",
            "R[write to console]: =\n",
            "R[write to console]: =\n",
            "R[write to console]: =\n",
            "R[write to console]: =\n",
            "R[write to console]: =\n",
            "R[write to console]: =\n",
            "R[write to console]: =\n",
            "R[write to console]: =\n",
            "R[write to console]: =\n",
            "R[write to console]: =\n",
            "R[write to console]: =\n",
            "R[write to console]: =\n",
            "R[write to console]: =\n",
            "R[write to console]: =\n",
            "R[write to console]: =\n",
            "R[write to console]: =\n",
            "R[write to console]: =\n",
            "R[write to console]: =\n",
            "R[write to console]: =\n",
            "R[write to console]: =\n",
            "R[write to console]: =\n",
            "R[write to console]: =\n",
            "R[write to console]: =\n",
            "R[write to console]: =\n",
            "R[write to console]: =\n",
            "R[write to console]: =\n",
            "R[write to console]: =\n",
            "R[write to console]: =\n",
            "R[write to console]: =\n",
            "R[write to console]: =\n",
            "R[write to console]: =\n",
            "R[write to console]: =\n",
            "R[write to console]: =\n",
            "R[write to console]: =\n",
            "R[write to console]: =\n",
            "R[write to console]: =\n",
            "R[write to console]: =\n",
            "R[write to console]: =\n",
            "R[write to console]: =\n",
            "R[write to console]: =\n",
            "R[write to console]: =\n",
            "R[write to console]: =\n",
            "R[write to console]: \n",
            "\n",
            "R[write to console]: downloaded 624 KB\n",
            "\n",
            "\n",
            "R[write to console]: \n",
            "\n",
            "R[write to console]: \n",
            "R[write to console]: The downloaded source packages are in\n",
            "\t‘/tmp/RtmpIMgrvk/downloaded_packages’\n",
            "R[write to console]: \n",
            "R[write to console]: \n",
            "\n",
            "R[write to console]: Installing package into ‘/usr/local/lib/R/site-library’\n",
            "(as ‘lib’ is unspecified)\n",
            "\n",
            "R[write to console]: trying URL 'https://cran.rstudio.com/src/contrib/caret_6.0-86.tar.gz'\n",
            "\n",
            "R[write to console]: Content type 'application/x-gzip'\n",
            "R[write to console]:  length 5264447 bytes (5.0 MB)\n",
            "\n",
            "R[write to console]: =\n",
            "R[write to console]: =\n",
            "R[write to console]: =\n",
            "R[write to console]: =\n",
            "R[write to console]: =\n",
            "R[write to console]: =\n",
            "R[write to console]: =\n",
            "R[write to console]: =\n",
            "R[write to console]: =\n",
            "R[write to console]: =\n",
            "R[write to console]: =\n",
            "R[write to console]: =\n",
            "R[write to console]: =\n",
            "R[write to console]: =\n",
            "R[write to console]: =\n",
            "R[write to console]: =\n",
            "R[write to console]: =\n",
            "R[write to console]: =\n",
            "R[write to console]: =\n",
            "R[write to console]: =\n",
            "R[write to console]: =\n",
            "R[write to console]: =\n",
            "R[write to console]: =\n",
            "R[write to console]: =\n",
            "R[write to console]: =\n",
            "R[write to console]: =\n",
            "R[write to console]: =\n",
            "R[write to console]: =\n",
            "R[write to console]: =\n",
            "R[write to console]: =\n",
            "R[write to console]: =\n",
            "R[write to console]: =\n",
            "R[write to console]: =\n",
            "R[write to console]: =\n",
            "R[write to console]: =\n",
            "R[write to console]: =\n",
            "R[write to console]: =\n",
            "R[write to console]: =\n",
            "R[write to console]: =\n",
            "R[write to console]: =\n",
            "R[write to console]: =\n",
            "R[write to console]: =\n",
            "R[write to console]: =\n",
            "R[write to console]: =\n",
            "R[write to console]: =\n",
            "R[write to console]: =\n",
            "R[write to console]: =\n",
            "R[write to console]: =\n",
            "R[write to console]: =\n",
            "R[write to console]: =\n",
            "R[write to console]: \n",
            "\n",
            "R[write to console]: downloaded 5.0 MB\n",
            "\n",
            "\n",
            "R[write to console]: \n",
            "\n",
            "R[write to console]: \n",
            "R[write to console]: The downloaded source packages are in\n",
            "\t‘/tmp/RtmpIMgrvk/downloaded_packages’\n",
            "R[write to console]: \n",
            "R[write to console]: \n",
            "\n",
            "R[write to console]: Installing package into ‘/usr/local/lib/R/site-library’\n",
            "(as ‘lib’ is unspecified)\n",
            "\n",
            "R[write to console]: trying URL 'https://cran.rstudio.com/src/contrib/rpart.plot_3.0.9.tar.gz'\n",
            "\n",
            "R[write to console]: Content type 'application/x-gzip'\n",
            "R[write to console]:  length 671600 bytes (655 KB)\n",
            "\n",
            "R[write to console]: =\n",
            "R[write to console]: =\n",
            "R[write to console]: =\n",
            "R[write to console]: =\n",
            "R[write to console]: =\n",
            "R[write to console]: =\n",
            "R[write to console]: =\n",
            "R[write to console]: =\n",
            "R[write to console]: =\n",
            "R[write to console]: =\n",
            "R[write to console]: =\n",
            "R[write to console]: =\n",
            "R[write to console]: =\n",
            "R[write to console]: =\n",
            "R[write to console]: =\n",
            "R[write to console]: =\n",
            "R[write to console]: =\n",
            "R[write to console]: =\n",
            "R[write to console]: =\n",
            "R[write to console]: =\n",
            "R[write to console]: =\n",
            "R[write to console]: =\n",
            "R[write to console]: =\n",
            "R[write to console]: =\n",
            "R[write to console]: =\n",
            "R[write to console]: =\n",
            "R[write to console]: =\n",
            "R[write to console]: =\n",
            "R[write to console]: =\n",
            "R[write to console]: =\n",
            "R[write to console]: =\n",
            "R[write to console]: =\n",
            "R[write to console]: =\n",
            "R[write to console]: =\n",
            "R[write to console]: =\n",
            "R[write to console]: =\n",
            "R[write to console]: =\n",
            "R[write to console]: =\n",
            "R[write to console]: =\n",
            "R[write to console]: =\n",
            "R[write to console]: =\n",
            "R[write to console]: =\n",
            "R[write to console]: =\n",
            "R[write to console]: =\n",
            "R[write to console]: =\n",
            "R[write to console]: =\n",
            "R[write to console]: =\n",
            "R[write to console]: =\n",
            "R[write to console]: =\n",
            "R[write to console]: =\n",
            "R[write to console]: \n",
            "\n",
            "R[write to console]: downloaded 655 KB\n",
            "\n",
            "\n",
            "R[write to console]: \n",
            "\n",
            "R[write to console]: \n",
            "R[write to console]: The downloaded source packages are in\n",
            "\t‘/tmp/RtmpIMgrvk/downloaded_packages’\n",
            "R[write to console]: \n",
            "R[write to console]: \n",
            "\n",
            "R[write to console]: Installing package into ‘/usr/local/lib/R/site-library’\n",
            "(as ‘lib’ is unspecified)\n",
            "\n",
            "R[write to console]: trying URL 'https://cran.rstudio.com/src/contrib/rattle_5.4.0.tar.gz'\n",
            "\n",
            "R[write to console]: Content type 'application/x-gzip'\n",
            "R[write to console]:  length 3396975 bytes (3.2 MB)\n",
            "\n",
            "R[write to console]: =\n",
            "R[write to console]: =\n",
            "R[write to console]: =\n",
            "R[write to console]: =\n",
            "R[write to console]: =\n",
            "R[write to console]: =\n",
            "R[write to console]: =\n",
            "R[write to console]: =\n",
            "R[write to console]: =\n",
            "R[write to console]: =\n",
            "R[write to console]: =\n",
            "R[write to console]: =\n",
            "R[write to console]: =\n",
            "R[write to console]: =\n",
            "R[write to console]: =\n",
            "R[write to console]: =\n",
            "R[write to console]: =\n",
            "R[write to console]: =\n",
            "R[write to console]: =\n",
            "R[write to console]: =\n",
            "R[write to console]: =\n",
            "R[write to console]: =\n",
            "R[write to console]: =\n",
            "R[write to console]: =\n",
            "R[write to console]: =\n",
            "R[write to console]: =\n",
            "R[write to console]: =\n",
            "R[write to console]: =\n",
            "R[write to console]: =\n",
            "R[write to console]: =\n",
            "R[write to console]: =\n",
            "R[write to console]: =\n",
            "R[write to console]: =\n",
            "R[write to console]: =\n",
            "R[write to console]: =\n",
            "R[write to console]: =\n",
            "R[write to console]: =\n",
            "R[write to console]: =\n",
            "R[write to console]: =\n",
            "R[write to console]: =\n",
            "R[write to console]: =\n",
            "R[write to console]: =\n",
            "R[write to console]: =\n",
            "R[write to console]: =\n",
            "R[write to console]: =\n",
            "R[write to console]: =\n",
            "R[write to console]: =\n",
            "R[write to console]: =\n",
            "R[write to console]: =\n",
            "R[write to console]: =\n",
            "R[write to console]: \n",
            "\n",
            "R[write to console]: downloaded 3.2 MB\n",
            "\n",
            "\n",
            "R[write to console]: \n",
            "\n",
            "R[write to console]: \n",
            "R[write to console]: The downloaded source packages are in\n",
            "\t‘/tmp/RtmpIMgrvk/downloaded_packages’\n",
            "R[write to console]: \n",
            "R[write to console]: \n",
            "\n"
          ],
          "name": "stderr"
        }
      ]
    },
    {
      "cell_type": "code",
      "metadata": {
        "id": "uxbGtpWTXS2C",
        "outputId": "a0872358-3160-48b8-f66d-e6737b06f0ae",
        "colab": {
          "base_uri": "https://localhost:8080/"
        }
      },
      "source": [
        "%%R\n",
        "tree <- rpart(class~.,\n",
        "data=Train,\n",
        "parms = list(loss = penalty.matrix),\n",
        "method = \"class\")"
      ],
      "execution_count": null,
      "outputs": [
        {
          "output_type": "stream",
          "text": [
            "R[write to console]: Error in model.frame.default(formula = class ~ ., data = Train, na.action = function (x)  : \n",
            "  object is not a matrix\n",
            "Calls: <Anonymous> ... eval.parent -> eval -> eval -> <Anonymous> -> model.frame.default\n",
            "\n",
            "R[write to console]: In addition: \n",
            "R[write to console]: There were 16 warnings (use warnings() to see them)\n",
            "R[write to console]: \n",
            "\n"
          ],
          "name": "stderr"
        },
        {
          "output_type": "stream",
          "text": [
            "\n",
            "Error in model.frame.default(formula = class ~ ., data = Train, na.action = function (x)  : \n",
            "  object is not a matrix\n",
            "Calls: <Anonymous> ... eval.parent -> eval -> eval -> <Anonymous> -> model.frame.default\n"
          ],
          "name": "stdout"
        }
      ]
    },
    {
      "cell_type": "markdown",
      "metadata": {
        "id": "OyqyH79zaNR2"
      },
      "source": [
        "# 4.SVM"
      ]
    },
    {
      "cell_type": "code",
      "metadata": {
        "id": "TSnD2yrVaKyI",
        "outputId": "b87b7f24-33c2-43bc-a49a-2cad2b5f04c7",
        "colab": {
          "base_uri": "https://localhost:8080/"
        }
      },
      "source": [
        "%%R\n",
        "anyNA(df_n)\n",
        "#There are no missing values hence we can proceed to model"
      ],
      "execution_count": null,
      "outputs": [
        {
          "output_type": "stream",
          "text": [
            "[1] FALSE\n"
          ],
          "name": "stdout"
        }
      ]
    },
    {
      "cell_type": "code",
      "metadata": {
        "id": "ApahzPECcGjZ",
        "outputId": "4eec0d65-6294-405d-a28d-66c1209a343c",
        "colab": {
          "base_uri": "https://localhost:8080/"
        }
      },
      "source": [
        "%%R\n",
        "install.packages('caret')"
      ],
      "execution_count": null,
      "outputs": [
        {
          "output_type": "stream",
          "text": [
            "R[write to console]: Installing package into ‘/usr/local/lib/R/site-library’\n",
            "(as ‘lib’ is unspecified)\n",
            "\n",
            "R[write to console]: trying URL 'https://cran.rstudio.com/src/contrib/caret_6.0-86.tar.gz'\n",
            "\n",
            "R[write to console]: Content type 'application/x-gzip'\n",
            "R[write to console]:  length 5264447 bytes (5.0 MB)\n",
            "\n",
            "R[write to console]: =\n",
            "R[write to console]: =\n",
            "R[write to console]: =\n",
            "R[write to console]: =\n",
            "R[write to console]: =\n",
            "R[write to console]: =\n",
            "R[write to console]: =\n",
            "R[write to console]: =\n",
            "R[write to console]: =\n",
            "R[write to console]: =\n",
            "R[write to console]: =\n",
            "R[write to console]: =\n",
            "R[write to console]: =\n",
            "R[write to console]: =\n",
            "R[write to console]: =\n",
            "R[write to console]: =\n",
            "R[write to console]: =\n",
            "R[write to console]: =\n",
            "R[write to console]: =\n",
            "R[write to console]: =\n",
            "R[write to console]: =\n",
            "R[write to console]: =\n",
            "R[write to console]: =\n",
            "R[write to console]: =\n",
            "R[write to console]: =\n",
            "R[write to console]: =\n",
            "R[write to console]: =\n",
            "R[write to console]: =\n",
            "R[write to console]: =\n",
            "R[write to console]: =\n",
            "R[write to console]: =\n",
            "R[write to console]: =\n",
            "R[write to console]: =\n",
            "R[write to console]: =\n",
            "R[write to console]: =\n",
            "R[write to console]: =\n",
            "R[write to console]: =\n",
            "R[write to console]: =\n",
            "R[write to console]: =\n",
            "R[write to console]: =\n",
            "R[write to console]: =\n",
            "R[write to console]: =\n",
            "R[write to console]: =\n",
            "R[write to console]: =\n",
            "R[write to console]: =\n",
            "R[write to console]: =\n",
            "R[write to console]: =\n",
            "R[write to console]: =\n",
            "R[write to console]: =\n",
            "R[write to console]: =\n",
            "R[write to console]: \n",
            "\n",
            "R[write to console]: downloaded 5.0 MB\n",
            "\n",
            "\n",
            "R[write to console]: \n",
            "\n",
            "R[write to console]: \n",
            "R[write to console]: The downloaded source packages are in\n",
            "\t‘/tmp/RtmpIMgrvk/downloaded_packages’\n",
            "R[write to console]: \n",
            "R[write to console]: \n",
            "\n"
          ],
          "name": "stderr"
        }
      ]
    },
    {
      "cell_type": "code",
      "metadata": {
        "id": "eXfHVkvHcjo6",
        "outputId": "b8c14761-71b0-4404-d7ca-63aa500b4ce8",
        "colab": {
          "base_uri": "https://localhost:8080/"
        }
      },
      "source": [
        "%%R\n",
        "install.packages('kernlab')"
      ],
      "execution_count": null,
      "outputs": [
        {
          "output_type": "stream",
          "text": [
            "R[write to console]: Installing package into ‘/usr/local/lib/R/site-library’\n",
            "(as ‘lib’ is unspecified)\n",
            "\n",
            "R[write to console]: trying URL 'https://cran.rstudio.com/src/contrib/kernlab_0.9-29.tar.gz'\n",
            "\n",
            "R[write to console]: Content type 'application/x-gzip'\n",
            "R[write to console]:  length 1168376 bytes (1.1 MB)\n",
            "\n",
            "R[write to console]: =\n",
            "R[write to console]: =\n",
            "R[write to console]: =\n",
            "R[write to console]: =\n",
            "R[write to console]: =\n",
            "R[write to console]: =\n",
            "R[write to console]: =\n",
            "R[write to console]: =\n",
            "R[write to console]: =\n",
            "R[write to console]: =\n",
            "R[write to console]: =\n",
            "R[write to console]: =\n",
            "R[write to console]: =\n",
            "R[write to console]: =\n",
            "R[write to console]: =\n",
            "R[write to console]: =\n",
            "R[write to console]: =\n",
            "R[write to console]: =\n",
            "R[write to console]: =\n",
            "R[write to console]: =\n",
            "R[write to console]: =\n",
            "R[write to console]: =\n",
            "R[write to console]: =\n",
            "R[write to console]: =\n",
            "R[write to console]: =\n",
            "R[write to console]: =\n",
            "R[write to console]: =\n",
            "R[write to console]: =\n",
            "R[write to console]: =\n",
            "R[write to console]: =\n",
            "R[write to console]: =\n",
            "R[write to console]: =\n",
            "R[write to console]: =\n",
            "R[write to console]: =\n",
            "R[write to console]: =\n",
            "R[write to console]: =\n",
            "R[write to console]: =\n",
            "R[write to console]: =\n",
            "R[write to console]: =\n",
            "R[write to console]: =\n",
            "R[write to console]: =\n",
            "R[write to console]: =\n",
            "R[write to console]: =\n",
            "R[write to console]: =\n",
            "R[write to console]: =\n",
            "R[write to console]: =\n",
            "R[write to console]: =\n",
            "R[write to console]: =\n",
            "R[write to console]: =\n",
            "R[write to console]: =\n",
            "R[write to console]: \n",
            "\n",
            "R[write to console]: downloaded 1.1 MB\n",
            "\n",
            "\n",
            "R[write to console]: \n",
            "\n",
            "R[write to console]: \n",
            "R[write to console]: The downloaded source packages are in\n",
            "\t‘/tmp/RtmpIMgrvk/downloaded_packages’\n",
            "R[write to console]: \n",
            "R[write to console]: \n",
            "\n"
          ],
          "name": "stderr"
        }
      ]
    },
    {
      "cell_type": "code",
      "metadata": {
        "id": "IrLSlgCOagMm",
        "outputId": "0e9c5e83-911e-4574-a660-857eb5e32dce",
        "colab": {
          "base_uri": "https://localhost:8080/"
        }
      },
      "source": [
        "%%R\n",
        "trctrl <- trainControl(method = \"repeatedcv\", number = 10, repeats = 3)\n",
        "\n",
        "svm_Linear <- train(Train$Clicked.on.Ad ~., data =Train, method = \"svmLinear\",\n",
        "trControl=trctrl,\n",
        "preProcess = c(\"center\", \"scale\"),\n",
        "tuneLength = 10)\n"
      ],
      "execution_count": 221,
      "outputs": [
        {
          "output_type": "stream",
          "text": [
            "R[write to console]: Error in `[.data.frame`(data, , all.vars(Terms), drop = FALSE) : \n",
            "  undefined columns selected\n",
            "Calls: <Anonymous> ... withVisible -> train -> train.formula -> [ -> [.data.frame\n",
            "\n",
            "R[write to console]: In addition: \n",
            "R[write to console]: Warning message:\n",
            "\n",
            "R[write to console]: In train.default(x, y, weights = w, ...) :\n",
            "R[write to console]: \n",
            " \n",
            "R[write to console]:  You are trying to do regression and your outcome only has two possible values Are you trying to do classification? If so, use a 2 level factor as your outcome column.\n",
            "\n"
          ],
          "name": "stderr"
        },
        {
          "output_type": "stream",
          "text": [
            "\n",
            "Error in `[.data.frame`(data, , all.vars(Terms), drop = FALSE) : \n",
            "  undefined columns selected\n",
            "Calls: <Anonymous> ... withVisible -> train -> train.formula -> [ -> [.data.frame\n"
          ],
          "name": "stdout"
        }
      ]
    },
    {
      "cell_type": "code",
      "metadata": {
        "id": "BZm4pM1defnl",
        "outputId": "092a95c7-9db2-4703-c710-ee0fe926f143",
        "colab": {
          "base_uri": "https://localhost:8080/"
        }
      },
      "source": [
        "%%R\n",
        "svm_Linear"
      ],
      "execution_count": 220,
      "outputs": [
        {
          "output_type": "stream",
          "text": [
            "R[write to console]: Error in withVisible({ : object 'svm_Linear' not found\n",
            "Calls: <Anonymous> -> <Anonymous> -> withVisible\n",
            "\n"
          ],
          "name": "stderr"
        },
        {
          "output_type": "stream",
          "text": [
            "\n",
            "Error in withVisible({ : object 'svm_Linear' not found\n",
            "Calls: <Anonymous> -> <Anonymous> -> withVisible\n"
          ],
          "name": "stdout"
        }
      ]
    },
    {
      "cell_type": "code",
      "metadata": {
        "id": "Vc1xL_HDeuSA",
        "outputId": "5c2b2ba1-617b-4530-df3a-7aefafdcecae",
        "colab": {
          "base_uri": "https://localhost:8080/"
        }
      },
      "source": [
        "%%R\n",
        "test_pred <- predict(svm_Linear, newdata = Test)\n",
        "test_pred"
      ],
      "execution_count": 222,
      "outputs": [
        {
          "output_type": "stream",
          "text": [
            "R[write to console]: Error in predict(svm_Linear, newdata = Test) : \n",
            "  object 'svm_Linear' not found\n",
            "Calls: <Anonymous> -> <Anonymous> -> withVisible -> predict\n",
            "\n"
          ],
          "name": "stderr"
        },
        {
          "output_type": "stream",
          "text": [
            "\n",
            "Error in predict(svm_Linear, newdata = Test) : \n",
            "  object 'svm_Linear' not found\n",
            "Calls: <Anonymous> -> <Anonymous> -> withVisible -> predict\n"
          ],
          "name": "stdout"
        }
      ]
    },
    {
      "cell_type": "code",
      "metadata": {
        "id": "hRnNV95fey9D"
      },
      "source": [
        "%%R\n",
        "confusionMatrix(table(test_pred, Test$Clicked.on.Ad))\n"
      ],
      "execution_count": null,
      "outputs": []
    },
    {
      "cell_type": "markdown",
      "metadata": {
        "id": "sJhGWT6pf_x6"
      },
      "source": [
        "# 5.Naive Bayes"
      ]
    },
    {
      "cell_type": "code",
      "metadata": {
        "id": "42A7tIMtgIN6",
        "outputId": "aeedb1a9-686e-4640-aba2-31821ec12dff",
        "colab": {
          "base_uri": "https://localhost:8080/"
        }
      },
      "source": [
        "%%R\n",
        "library(e1071)"
      ],
      "execution_count": 223,
      "outputs": [
        {
          "output_type": "stream",
          "text": [
            "R[write to console]: Error in library(e1071) : there is no package called ‘e1071’\n",
            "Calls: <Anonymous> -> <Anonymous> -> withVisible -> library\n",
            "\n"
          ],
          "name": "stderr"
        },
        {
          "output_type": "stream",
          "text": [
            "\n",
            "Error in library(e1071) : there is no package called ‘e1071’\n",
            "Calls: <Anonymous> -> <Anonymous> -> withVisible -> library\n"
          ],
          "name": "stdout"
        }
      ]
    },
    {
      "cell_type": "code",
      "metadata": {
        "id": "FNzgeCGPhH-v",
        "outputId": "021bda91-e059-4fbe-ae65-c8049d541f88",
        "colab": {
          "base_uri": "https://localhost:8080/"
        }
      },
      "source": [
        "# Checking dimensions of the split\n",
        "%%R\n",
        "prop.table(table(df_n$Clicked.on.Ad)) * 100\n",
        "prop.table(table(df_n$Clicked.on.Ad)) * 100\n",
        "prop.table(table(df_n$Clicked.on.Ad)) * 100\n"
      ],
      "execution_count": 224,
      "outputs": [
        {
          "output_type": "stream",
          "text": [
            "\n",
            " 0  1 \n",
            "50 50 \n"
          ],
          "name": "stdout"
        }
      ]
    },
    {
      "cell_type": "code",
      "metadata": {
        "id": "QgotXmQghI4z"
      },
      "source": [
        "#Creating objects x which holds the predictor variables and y which holds the response variables\n",
        "%%R\n",
        "x = Train[,-6]\n",
        "y = Train$Clicked.on.Ad"
      ],
      "execution_count": 226,
      "outputs": []
    },
    {
      "cell_type": "code",
      "metadata": {
        "id": "GdJOh4vCiEKH",
        "outputId": "bd1fd09b-2103-4566-d847-51ea7784a261",
        "colab": {
          "base_uri": "https://localhost:8080/"
        }
      },
      "source": [
        "%%R\n",
        "install.packages('klaR')\n",
        "library(klaR)"
      ],
      "execution_count": 228,
      "outputs": [
        {
          "output_type": "stream",
          "text": [
            "R[write to console]: Installing package into ‘/usr/local/lib/R/site-library’\n",
            "(as ‘lib’ is unspecified)\n",
            "\n",
            "R[write to console]: also installing the dependencies ‘R.methodsS3’, ‘R.oo’, ‘R.utils’, ‘httpuv’, ‘xtable’, ‘sourcetools’, ‘fastmap’, ‘R.cache’, ‘e1071’, ‘shiny’, ‘miniUI’, ‘styler’, ‘classInt’, ‘labelled’, ‘combinat’, ‘questionr’\n",
            "\n",
            "\n",
            "R[write to console]: trying URL 'https://cran.rstudio.com/src/contrib/R.methodsS3_1.8.1.tar.gz'\n",
            "\n",
            "R[write to console]: Content type 'application/x-gzip'\n",
            "R[write to console]:  length 23717 bytes (23 KB)\n",
            "\n",
            "R[write to console]: =\n",
            "R[write to console]: =\n",
            "R[write to console]: =\n",
            "R[write to console]: =\n",
            "R[write to console]: =\n",
            "R[write to console]: =\n",
            "R[write to console]: =\n",
            "R[write to console]: =\n",
            "R[write to console]: =\n",
            "R[write to console]: =\n",
            "R[write to console]: =\n",
            "R[write to console]: =\n",
            "R[write to console]: =\n",
            "R[write to console]: =\n",
            "R[write to console]: =\n",
            "R[write to console]: =\n",
            "R[write to console]: =\n",
            "R[write to console]: =\n",
            "R[write to console]: =\n",
            "R[write to console]: =\n",
            "R[write to console]: =\n",
            "R[write to console]: =\n",
            "R[write to console]: =\n",
            "R[write to console]: =\n",
            "R[write to console]: =\n",
            "R[write to console]: =\n",
            "R[write to console]: =\n",
            "R[write to console]: =\n",
            "R[write to console]: =\n",
            "R[write to console]: =\n",
            "R[write to console]: =\n",
            "R[write to console]: =\n",
            "R[write to console]: =\n",
            "R[write to console]: =\n",
            "R[write to console]: =\n",
            "R[write to console]: =\n",
            "R[write to console]: =\n",
            "R[write to console]: =\n",
            "R[write to console]: =\n",
            "R[write to console]: =\n",
            "R[write to console]: =\n",
            "R[write to console]: =\n",
            "R[write to console]: =\n",
            "R[write to console]: =\n",
            "R[write to console]: =\n",
            "R[write to console]: =\n",
            "R[write to console]: =\n",
            "R[write to console]: =\n",
            "R[write to console]: =\n",
            "R[write to console]: =\n",
            "R[write to console]: \n",
            "\n",
            "R[write to console]: downloaded 23 KB\n",
            "\n",
            "\n",
            "R[write to console]: trying URL 'https://cran.rstudio.com/src/contrib/R.oo_1.24.0.tar.gz'\n",
            "\n",
            "R[write to console]: Content type 'application/x-gzip'\n",
            "R[write to console]:  length 383514 bytes (374 KB)\n",
            "\n",
            "R[write to console]: =\n",
            "R[write to console]: =\n",
            "R[write to console]: =\n",
            "R[write to console]: =\n",
            "R[write to console]: =\n",
            "R[write to console]: =\n",
            "R[write to console]: =\n",
            "R[write to console]: =\n",
            "R[write to console]: =\n",
            "R[write to console]: =\n",
            "R[write to console]: =\n",
            "R[write to console]: =\n",
            "R[write to console]: =\n",
            "R[write to console]: =\n",
            "R[write to console]: =\n",
            "R[write to console]: =\n",
            "R[write to console]: =\n",
            "R[write to console]: =\n",
            "R[write to console]: =\n",
            "R[write to console]: =\n",
            "R[write to console]: =\n",
            "R[write to console]: =\n",
            "R[write to console]: =\n",
            "R[write to console]: =\n",
            "R[write to console]: =\n",
            "R[write to console]: =\n",
            "R[write to console]: =\n",
            "R[write to console]: =\n",
            "R[write to console]: =\n",
            "R[write to console]: =\n",
            "R[write to console]: =\n",
            "R[write to console]: =\n",
            "R[write to console]: =\n",
            "R[write to console]: =\n",
            "R[write to console]: =\n",
            "R[write to console]: =\n",
            "R[write to console]: =\n",
            "R[write to console]: =\n",
            "R[write to console]: =\n",
            "R[write to console]: =\n",
            "R[write to console]: =\n",
            "R[write to console]: =\n",
            "R[write to console]: =\n",
            "R[write to console]: =\n",
            "R[write to console]: =\n",
            "R[write to console]: =\n",
            "R[write to console]: =\n",
            "R[write to console]: =\n",
            "R[write to console]: =\n",
            "R[write to console]: =\n",
            "R[write to console]: \n",
            "\n",
            "R[write to console]: downloaded 374 KB\n",
            "\n",
            "\n",
            "R[write to console]: trying URL 'https://cran.rstudio.com/src/contrib/R.utils_2.10.1.tar.gz'\n",
            "\n",
            "R[write to console]: Content type 'application/x-gzip'\n",
            "R[write to console]:  length 362269 bytes (353 KB)\n",
            "\n",
            "R[write to console]: =\n",
            "R[write to console]: =\n",
            "R[write to console]: =\n",
            "R[write to console]: =\n",
            "R[write to console]: =\n",
            "R[write to console]: =\n",
            "R[write to console]: =\n",
            "R[write to console]: =\n",
            "R[write to console]: =\n",
            "R[write to console]: =\n",
            "R[write to console]: =\n",
            "R[write to console]: =\n",
            "R[write to console]: =\n",
            "R[write to console]: =\n",
            "R[write to console]: =\n",
            "R[write to console]: =\n",
            "R[write to console]: =\n",
            "R[write to console]: =\n",
            "R[write to console]: =\n",
            "R[write to console]: =\n",
            "R[write to console]: =\n",
            "R[write to console]: =\n",
            "R[write to console]: =\n",
            "R[write to console]: =\n",
            "R[write to console]: =\n",
            "R[write to console]: =\n",
            "R[write to console]: =\n",
            "R[write to console]: =\n",
            "R[write to console]: =\n",
            "R[write to console]: =\n",
            "R[write to console]: =\n",
            "R[write to console]: =\n",
            "R[write to console]: =\n",
            "R[write to console]: =\n",
            "R[write to console]: =\n",
            "R[write to console]: =\n",
            "R[write to console]: =\n",
            "R[write to console]: =\n",
            "R[write to console]: =\n",
            "R[write to console]: =\n",
            "R[write to console]: =\n",
            "R[write to console]: =\n",
            "R[write to console]: =\n",
            "R[write to console]: =\n",
            "R[write to console]: =\n",
            "R[write to console]: =\n",
            "R[write to console]: =\n",
            "R[write to console]: =\n",
            "R[write to console]: =\n",
            "R[write to console]: =\n",
            "R[write to console]: \n",
            "\n",
            "R[write to console]: downloaded 353 KB\n",
            "\n",
            "\n",
            "R[write to console]: trying URL 'https://cran.rstudio.com/src/contrib/httpuv_1.5.4.tar.gz'\n",
            "\n",
            "R[write to console]: Content type 'application/x-gzip'\n",
            "R[write to console]:  length 1803508 bytes (1.7 MB)\n",
            "\n",
            "R[write to console]: =\n",
            "R[write to console]: =\n",
            "R[write to console]: =\n",
            "R[write to console]: =\n",
            "R[write to console]: =\n",
            "R[write to console]: =\n",
            "R[write to console]: =\n",
            "R[write to console]: =\n",
            "R[write to console]: =\n",
            "R[write to console]: =\n",
            "R[write to console]: =\n",
            "R[write to console]: =\n",
            "R[write to console]: =\n",
            "R[write to console]: =\n",
            "R[write to console]: =\n",
            "R[write to console]: =\n",
            "R[write to console]: =\n",
            "R[write to console]: =\n",
            "R[write to console]: =\n",
            "R[write to console]: =\n",
            "R[write to console]: =\n",
            "R[write to console]: =\n",
            "R[write to console]: =\n",
            "R[write to console]: =\n",
            "R[write to console]: =\n",
            "R[write to console]: =\n",
            "R[write to console]: =\n",
            "R[write to console]: =\n",
            "R[write to console]: =\n",
            "R[write to console]: =\n",
            "R[write to console]: =\n",
            "R[write to console]: =\n",
            "R[write to console]: =\n",
            "R[write to console]: =\n",
            "R[write to console]: =\n",
            "R[write to console]: =\n",
            "R[write to console]: =\n",
            "R[write to console]: =\n",
            "R[write to console]: =\n",
            "R[write to console]: =\n",
            "R[write to console]: =\n",
            "R[write to console]: =\n",
            "R[write to console]: =\n",
            "R[write to console]: =\n",
            "R[write to console]: =\n",
            "R[write to console]: =\n",
            "R[write to console]: =\n",
            "R[write to console]: =\n",
            "R[write to console]: =\n",
            "R[write to console]: =\n",
            "R[write to console]: \n",
            "\n",
            "R[write to console]: downloaded 1.7 MB\n",
            "\n",
            "\n",
            "R[write to console]: trying URL 'https://cran.rstudio.com/src/contrib/xtable_1.8-4.tar.gz'\n",
            "\n",
            "R[write to console]: Content type 'application/x-gzip'\n",
            "R[write to console]:  length 564589 bytes (551 KB)\n",
            "\n",
            "R[write to console]: =\n",
            "R[write to console]: =\n",
            "R[write to console]: =\n",
            "R[write to console]: =\n",
            "R[write to console]: =\n",
            "R[write to console]: =\n",
            "R[write to console]: =\n",
            "R[write to console]: =\n",
            "R[write to console]: =\n",
            "R[write to console]: =\n",
            "R[write to console]: =\n",
            "R[write to console]: =\n",
            "R[write to console]: =\n",
            "R[write to console]: =\n",
            "R[write to console]: =\n",
            "R[write to console]: =\n",
            "R[write to console]: =\n",
            "R[write to console]: =\n",
            "R[write to console]: =\n",
            "R[write to console]: =\n",
            "R[write to console]: =\n",
            "R[write to console]: =\n",
            "R[write to console]: =\n",
            "R[write to console]: =\n",
            "R[write to console]: =\n",
            "R[write to console]: =\n",
            "R[write to console]: =\n",
            "R[write to console]: =\n",
            "R[write to console]: =\n",
            "R[write to console]: =\n",
            "R[write to console]: =\n",
            "R[write to console]: =\n",
            "R[write to console]: =\n",
            "R[write to console]: =\n",
            "R[write to console]: =\n",
            "R[write to console]: =\n",
            "R[write to console]: =\n",
            "R[write to console]: =\n",
            "R[write to console]: =\n",
            "R[write to console]: =\n",
            "R[write to console]: =\n",
            "R[write to console]: =\n",
            "R[write to console]: =\n",
            "R[write to console]: =\n",
            "R[write to console]: =\n",
            "R[write to console]: =\n",
            "R[write to console]: =\n",
            "R[write to console]: =\n",
            "R[write to console]: =\n",
            "R[write to console]: =\n",
            "R[write to console]: \n",
            "\n",
            "R[write to console]: downloaded 551 KB\n",
            "\n",
            "\n",
            "R[write to console]: trying URL 'https://cran.rstudio.com/src/contrib/sourcetools_0.1.7.tar.gz'\n",
            "\n",
            "R[write to console]: Content type 'application/x-gzip'\n",
            "R[write to console]:  length 24155 bytes (23 KB)\n",
            "\n",
            "R[write to console]: =\n",
            "R[write to console]: =\n",
            "R[write to console]: =\n",
            "R[write to console]: =\n",
            "R[write to console]: =\n",
            "R[write to console]: =\n",
            "R[write to console]: =\n",
            "R[write to console]: =\n",
            "R[write to console]: =\n",
            "R[write to console]: =\n",
            "R[write to console]: =\n",
            "R[write to console]: =\n",
            "R[write to console]: =\n",
            "R[write to console]: =\n",
            "R[write to console]: =\n",
            "R[write to console]: =\n",
            "R[write to console]: =\n",
            "R[write to console]: =\n",
            "R[write to console]: =\n",
            "R[write to console]: =\n",
            "R[write to console]: =\n",
            "R[write to console]: =\n",
            "R[write to console]: =\n",
            "R[write to console]: =\n",
            "R[write to console]: =\n",
            "R[write to console]: =\n",
            "R[write to console]: =\n",
            "R[write to console]: =\n",
            "R[write to console]: =\n",
            "R[write to console]: =\n",
            "R[write to console]: =\n",
            "R[write to console]: =\n",
            "R[write to console]: =\n",
            "R[write to console]: =\n",
            "R[write to console]: =\n",
            "R[write to console]: =\n",
            "R[write to console]: =\n",
            "R[write to console]: =\n",
            "R[write to console]: =\n",
            "R[write to console]: =\n",
            "R[write to console]: =\n",
            "R[write to console]: =\n",
            "R[write to console]: =\n",
            "R[write to console]: =\n",
            "R[write to console]: =\n",
            "R[write to console]: =\n",
            "R[write to console]: =\n",
            "R[write to console]: =\n",
            "R[write to console]: =\n",
            "R[write to console]: =\n",
            "R[write to console]: \n",
            "\n",
            "R[write to console]: downloaded 23 KB\n",
            "\n",
            "\n",
            "R[write to console]: trying URL 'https://cran.rstudio.com/src/contrib/fastmap_1.0.1.tar.gz'\n",
            "\n",
            "R[write to console]: Content type 'application/x-gzip'\n",
            "R[write to console]:  length 36802 bytes (35 KB)\n",
            "\n",
            "R[write to console]: =\n",
            "R[write to console]: =\n",
            "R[write to console]: =\n",
            "R[write to console]: =\n",
            "R[write to console]: =\n",
            "R[write to console]: =\n",
            "R[write to console]: =\n",
            "R[write to console]: =\n",
            "R[write to console]: =\n",
            "R[write to console]: =\n",
            "R[write to console]: =\n",
            "R[write to console]: =\n",
            "R[write to console]: =\n",
            "R[write to console]: =\n",
            "R[write to console]: =\n",
            "R[write to console]: =\n",
            "R[write to console]: =\n",
            "R[write to console]: =\n",
            "R[write to console]: =\n",
            "R[write to console]: =\n",
            "R[write to console]: =\n",
            "R[write to console]: =\n",
            "R[write to console]: =\n",
            "R[write to console]: =\n",
            "R[write to console]: =\n",
            "R[write to console]: =\n",
            "R[write to console]: =\n",
            "R[write to console]: =\n",
            "R[write to console]: =\n",
            "R[write to console]: =\n",
            "R[write to console]: =\n",
            "R[write to console]: =\n",
            "R[write to console]: =\n",
            "R[write to console]: =\n",
            "R[write to console]: =\n",
            "R[write to console]: =\n",
            "R[write to console]: =\n",
            "R[write to console]: =\n",
            "R[write to console]: =\n",
            "R[write to console]: =\n",
            "R[write to console]: =\n",
            "R[write to console]: =\n",
            "R[write to console]: =\n",
            "R[write to console]: =\n",
            "R[write to console]: =\n",
            "R[write to console]: =\n",
            "R[write to console]: =\n",
            "R[write to console]: =\n",
            "R[write to console]: =\n",
            "R[write to console]: =\n",
            "R[write to console]: \n",
            "\n",
            "R[write to console]: downloaded 35 KB\n",
            "\n",
            "\n",
            "R[write to console]: trying URL 'https://cran.rstudio.com/src/contrib/R.cache_0.14.0.tar.gz'\n",
            "\n",
            "R[write to console]: Content type 'application/x-gzip'\n",
            "R[write to console]:  length 32572 bytes (31 KB)\n",
            "\n",
            "R[write to console]: =\n",
            "R[write to console]: =\n",
            "R[write to console]: =\n",
            "R[write to console]: =\n",
            "R[write to console]: =\n",
            "R[write to console]: =\n",
            "R[write to console]: =\n",
            "R[write to console]: =\n",
            "R[write to console]: =\n",
            "R[write to console]: =\n",
            "R[write to console]: =\n",
            "R[write to console]: =\n",
            "R[write to console]: =\n",
            "R[write to console]: =\n",
            "R[write to console]: =\n",
            "R[write to console]: =\n",
            "R[write to console]: =\n",
            "R[write to console]: =\n",
            "R[write to console]: =\n",
            "R[write to console]: =\n",
            "R[write to console]: =\n",
            "R[write to console]: =\n",
            "R[write to console]: =\n",
            "R[write to console]: =\n",
            "R[write to console]: =\n",
            "R[write to console]: =\n",
            "R[write to console]: =\n",
            "R[write to console]: =\n",
            "R[write to console]: =\n",
            "R[write to console]: =\n",
            "R[write to console]: =\n",
            "R[write to console]: =\n",
            "R[write to console]: =\n",
            "R[write to console]: =\n",
            "R[write to console]: =\n",
            "R[write to console]: =\n",
            "R[write to console]: =\n",
            "R[write to console]: =\n",
            "R[write to console]: =\n",
            "R[write to console]: =\n",
            "R[write to console]: =\n",
            "R[write to console]: =\n",
            "R[write to console]: =\n",
            "R[write to console]: =\n",
            "R[write to console]: =\n",
            "R[write to console]: =\n",
            "R[write to console]: =\n",
            "R[write to console]: =\n",
            "R[write to console]: =\n",
            "R[write to console]: =\n",
            "R[write to console]: \n",
            "\n",
            "R[write to console]: downloaded 31 KB\n",
            "\n",
            "\n",
            "R[write to console]: trying URL 'https://cran.rstudio.com/src/contrib/e1071_1.7-4.tar.gz'\n",
            "\n",
            "R[write to console]: Content type 'application/x-gzip'\n",
            "R[write to console]:  length 577678 bytes (564 KB)\n",
            "\n",
            "R[write to console]: =\n",
            "R[write to console]: =\n",
            "R[write to console]: =\n",
            "R[write to console]: =\n",
            "R[write to console]: =\n",
            "R[write to console]: =\n",
            "R[write to console]: =\n",
            "R[write to console]: =\n",
            "R[write to console]: =\n",
            "R[write to console]: =\n",
            "R[write to console]: =\n",
            "R[write to console]: =\n",
            "R[write to console]: =\n",
            "R[write to console]: =\n",
            "R[write to console]: =\n",
            "R[write to console]: =\n",
            "R[write to console]: =\n",
            "R[write to console]: =\n",
            "R[write to console]: =\n",
            "R[write to console]: =\n",
            "R[write to console]: =\n",
            "R[write to console]: =\n",
            "R[write to console]: =\n",
            "R[write to console]: =\n",
            "R[write to console]: =\n",
            "R[write to console]: =\n",
            "R[write to console]: =\n",
            "R[write to console]: =\n",
            "R[write to console]: =\n",
            "R[write to console]: =\n",
            "R[write to console]: =\n",
            "R[write to console]: =\n",
            "R[write to console]: =\n",
            "R[write to console]: =\n",
            "R[write to console]: =\n",
            "R[write to console]: =\n",
            "R[write to console]: =\n",
            "R[write to console]: =\n",
            "R[write to console]: =\n",
            "R[write to console]: =\n",
            "R[write to console]: =\n",
            "R[write to console]: =\n",
            "R[write to console]: =\n",
            "R[write to console]: =\n",
            "R[write to console]: =\n",
            "R[write to console]: =\n",
            "R[write to console]: =\n",
            "R[write to console]: =\n",
            "R[write to console]: =\n",
            "R[write to console]: =\n",
            "R[write to console]: \n",
            "\n",
            "R[write to console]: downloaded 564 KB\n",
            "\n",
            "\n",
            "R[write to console]: trying URL 'https://cran.rstudio.com/src/contrib/shiny_1.5.0.tar.gz'\n",
            "\n",
            "R[write to console]: Content type 'application/x-gzip'\n",
            "R[write to console]:  length 3472148 bytes (3.3 MB)\n",
            "\n",
            "R[write to console]: =\n",
            "R[write to console]: =\n",
            "R[write to console]: =\n",
            "R[write to console]: =\n",
            "R[write to console]: =\n",
            "R[write to console]: =\n",
            "R[write to console]: =\n",
            "R[write to console]: =\n",
            "R[write to console]: =\n",
            "R[write to console]: =\n",
            "R[write to console]: =\n",
            "R[write to console]: =\n",
            "R[write to console]: =\n",
            "R[write to console]: =\n",
            "R[write to console]: =\n",
            "R[write to console]: =\n",
            "R[write to console]: =\n",
            "R[write to console]: =\n",
            "R[write to console]: =\n",
            "R[write to console]: =\n",
            "R[write to console]: =\n",
            "R[write to console]: =\n",
            "R[write to console]: =\n",
            "R[write to console]: =\n",
            "R[write to console]: =\n",
            "R[write to console]: =\n",
            "R[write to console]: =\n",
            "R[write to console]: =\n",
            "R[write to console]: =\n",
            "R[write to console]: =\n",
            "R[write to console]: =\n",
            "R[write to console]: =\n",
            "R[write to console]: =\n",
            "R[write to console]: =\n",
            "R[write to console]: =\n",
            "R[write to console]: =\n",
            "R[write to console]: =\n",
            "R[write to console]: =\n",
            "R[write to console]: =\n",
            "R[write to console]: =\n",
            "R[write to console]: =\n",
            "R[write to console]: =\n",
            "R[write to console]: =\n",
            "R[write to console]: =\n",
            "R[write to console]: =\n",
            "R[write to console]: =\n",
            "R[write to console]: =\n",
            "R[write to console]: =\n",
            "R[write to console]: =\n",
            "R[write to console]: =\n",
            "R[write to console]: \n",
            "\n",
            "R[write to console]: downloaded 3.3 MB\n",
            "\n",
            "\n",
            "R[write to console]: trying URL 'https://cran.rstudio.com/src/contrib/miniUI_0.1.1.1.tar.gz'\n",
            "\n",
            "R[write to console]: Content type 'application/x-gzip'\n",
            "R[write to console]:  length 97958 bytes (95 KB)\n",
            "\n",
            "R[write to console]: =\n",
            "R[write to console]: =\n",
            "R[write to console]: =\n",
            "R[write to console]: =\n",
            "R[write to console]: =\n",
            "R[write to console]: =\n",
            "R[write to console]: =\n",
            "R[write to console]: =\n",
            "R[write to console]: =\n",
            "R[write to console]: =\n",
            "R[write to console]: =\n",
            "R[write to console]: =\n",
            "R[write to console]: =\n",
            "R[write to console]: =\n",
            "R[write to console]: =\n",
            "R[write to console]: =\n",
            "R[write to console]: =\n",
            "R[write to console]: =\n",
            "R[write to console]: =\n",
            "R[write to console]: =\n",
            "R[write to console]: =\n",
            "R[write to console]: =\n",
            "R[write to console]: =\n",
            "R[write to console]: =\n",
            "R[write to console]: =\n",
            "R[write to console]: =\n",
            "R[write to console]: =\n",
            "R[write to console]: =\n",
            "R[write to console]: =\n",
            "R[write to console]: =\n",
            "R[write to console]: =\n",
            "R[write to console]: =\n",
            "R[write to console]: =\n",
            "R[write to console]: =\n",
            "R[write to console]: =\n",
            "R[write to console]: =\n",
            "R[write to console]: =\n",
            "R[write to console]: =\n",
            "R[write to console]: =\n",
            "R[write to console]: =\n",
            "R[write to console]: =\n",
            "R[write to console]: =\n",
            "R[write to console]: =\n",
            "R[write to console]: =\n",
            "R[write to console]: =\n",
            "R[write to console]: =\n",
            "R[write to console]: =\n",
            "R[write to console]: =\n",
            "R[write to console]: =\n",
            "R[write to console]: =\n",
            "R[write to console]: \n",
            "\n",
            "R[write to console]: downloaded 95 KB\n",
            "\n",
            "\n",
            "R[write to console]: trying URL 'https://cran.rstudio.com/src/contrib/styler_1.3.2.tar.gz'\n",
            "\n",
            "R[write to console]: Content type 'application/x-gzip'\n",
            "R[write to console]:  length 372263 bytes (363 KB)\n",
            "\n",
            "R[write to console]: =\n",
            "R[write to console]: =\n",
            "R[write to console]: =\n",
            "R[write to console]: =\n",
            "R[write to console]: =\n",
            "R[write to console]: =\n",
            "R[write to console]: =\n",
            "R[write to console]: =\n",
            "R[write to console]: =\n",
            "R[write to console]: =\n",
            "R[write to console]: =\n",
            "R[write to console]: =\n",
            "R[write to console]: =\n",
            "R[write to console]: =\n",
            "R[write to console]: =\n",
            "R[write to console]: =\n",
            "R[write to console]: =\n",
            "R[write to console]: =\n",
            "R[write to console]: =\n",
            "R[write to console]: =\n",
            "R[write to console]: =\n",
            "R[write to console]: =\n",
            "R[write to console]: =\n",
            "R[write to console]: =\n",
            "R[write to console]: =\n",
            "R[write to console]: =\n",
            "R[write to console]: =\n",
            "R[write to console]: =\n",
            "R[write to console]: =\n",
            "R[write to console]: =\n",
            "R[write to console]: =\n",
            "R[write to console]: =\n",
            "R[write to console]: =\n",
            "R[write to console]: =\n",
            "R[write to console]: =\n",
            "R[write to console]: =\n",
            "R[write to console]: =\n",
            "R[write to console]: =\n",
            "R[write to console]: =\n",
            "R[write to console]: =\n",
            "R[write to console]: =\n",
            "R[write to console]: =\n",
            "R[write to console]: =\n",
            "R[write to console]: =\n",
            "R[write to console]: =\n",
            "R[write to console]: =\n",
            "R[write to console]: =\n",
            "R[write to console]: =\n",
            "R[write to console]: =\n",
            "R[write to console]: =\n",
            "R[write to console]: \n",
            "\n",
            "R[write to console]: downloaded 363 KB\n",
            "\n",
            "\n",
            "R[write to console]: trying URL 'https://cran.rstudio.com/src/contrib/classInt_0.4-3.tar.gz'\n",
            "\n",
            "R[write to console]: Content type 'application/x-gzip'\n",
            "R[write to console]:  length 403884 bytes (394 KB)\n",
            "\n",
            "R[write to console]: =\n",
            "R[write to console]: =\n",
            "R[write to console]: =\n",
            "R[write to console]: =\n",
            "R[write to console]: =\n",
            "R[write to console]: =\n",
            "R[write to console]: =\n",
            "R[write to console]: =\n",
            "R[write to console]: =\n",
            "R[write to console]: =\n",
            "R[write to console]: =\n",
            "R[write to console]: =\n",
            "R[write to console]: =\n",
            "R[write to console]: =\n",
            "R[write to console]: =\n",
            "R[write to console]: =\n",
            "R[write to console]: =\n",
            "R[write to console]: =\n",
            "R[write to console]: =\n",
            "R[write to console]: =\n",
            "R[write to console]: =\n",
            "R[write to console]: =\n",
            "R[write to console]: =\n",
            "R[write to console]: =\n",
            "R[write to console]: =\n",
            "R[write to console]: =\n",
            "R[write to console]: =\n",
            "R[write to console]: =\n",
            "R[write to console]: =\n",
            "R[write to console]: =\n",
            "R[write to console]: =\n",
            "R[write to console]: =\n",
            "R[write to console]: =\n",
            "R[write to console]: =\n",
            "R[write to console]: =\n",
            "R[write to console]: =\n",
            "R[write to console]: =\n",
            "R[write to console]: =\n",
            "R[write to console]: =\n",
            "R[write to console]: =\n",
            "R[write to console]: =\n",
            "R[write to console]: =\n",
            "R[write to console]: =\n",
            "R[write to console]: =\n",
            "R[write to console]: =\n",
            "R[write to console]: =\n",
            "R[write to console]: =\n",
            "R[write to console]: =\n",
            "R[write to console]: =\n",
            "R[write to console]: =\n",
            "R[write to console]: \n",
            "\n",
            "R[write to console]: downloaded 394 KB\n",
            "\n",
            "\n",
            "R[write to console]: trying URL 'https://cran.rstudio.com/src/contrib/labelled_2.7.0.tar.gz'\n",
            "\n",
            "R[write to console]: Content type 'application/x-gzip'\n",
            "R[write to console]:  length 194703 bytes (190 KB)\n",
            "\n",
            "R[write to console]: =\n",
            "R[write to console]: =\n",
            "R[write to console]: =\n",
            "R[write to console]: =\n",
            "R[write to console]: =\n",
            "R[write to console]: =\n",
            "R[write to console]: =\n",
            "R[write to console]: =\n",
            "R[write to console]: =\n",
            "R[write to console]: =\n",
            "R[write to console]: =\n",
            "R[write to console]: =\n",
            "R[write to console]: =\n",
            "R[write to console]: =\n",
            "R[write to console]: =\n",
            "R[write to console]: =\n",
            "R[write to console]: =\n",
            "R[write to console]: =\n",
            "R[write to console]: =\n",
            "R[write to console]: =\n",
            "R[write to console]: =\n",
            "R[write to console]: =\n",
            "R[write to console]: =\n",
            "R[write to console]: =\n",
            "R[write to console]: =\n",
            "R[write to console]: =\n",
            "R[write to console]: =\n",
            "R[write to console]: =\n",
            "R[write to console]: =\n",
            "R[write to console]: =\n",
            "R[write to console]: =\n",
            "R[write to console]: =\n",
            "R[write to console]: =\n",
            "R[write to console]: =\n",
            "R[write to console]: =\n",
            "R[write to console]: =\n",
            "R[write to console]: =\n",
            "R[write to console]: =\n",
            "R[write to console]: =\n",
            "R[write to console]: =\n",
            "R[write to console]: =\n",
            "R[write to console]: =\n",
            "R[write to console]: =\n",
            "R[write to console]: =\n",
            "R[write to console]: =\n",
            "R[write to console]: =\n",
            "R[write to console]: =\n",
            "R[write to console]: =\n",
            "R[write to console]: =\n",
            "R[write to console]: =\n",
            "R[write to console]: \n",
            "\n",
            "R[write to console]: downloaded 190 KB\n",
            "\n",
            "\n",
            "R[write to console]: trying URL 'https://cran.rstudio.com/src/contrib/combinat_0.0-8.tar.gz'\n",
            "\n",
            "R[write to console]: Content type 'application/x-gzip'\n",
            "R[write to console]:  length 9197 bytes\n",
            "\n",
            "R[write to console]: =\n",
            "R[write to console]: =\n",
            "R[write to console]: =\n",
            "R[write to console]: =\n",
            "R[write to console]: =\n",
            "R[write to console]: =\n",
            "R[write to console]: =\n",
            "R[write to console]: =\n",
            "R[write to console]: =\n",
            "R[write to console]: =\n",
            "R[write to console]: =\n",
            "R[write to console]: =\n",
            "R[write to console]: =\n",
            "R[write to console]: =\n",
            "R[write to console]: =\n",
            "R[write to console]: =\n",
            "R[write to console]: =\n",
            "R[write to console]: =\n",
            "R[write to console]: =\n",
            "R[write to console]: =\n",
            "R[write to console]: =\n",
            "R[write to console]: =\n",
            "R[write to console]: =\n",
            "R[write to console]: =\n",
            "R[write to console]: =\n",
            "R[write to console]: =\n",
            "R[write to console]: =\n",
            "R[write to console]: =\n",
            "R[write to console]: =\n",
            "R[write to console]: =\n",
            "R[write to console]: =\n",
            "R[write to console]: =\n",
            "R[write to console]: =\n",
            "R[write to console]: =\n",
            "R[write to console]: =\n",
            "R[write to console]: =\n",
            "R[write to console]: =\n",
            "R[write to console]: =\n",
            "R[write to console]: =\n",
            "R[write to console]: =\n",
            "R[write to console]: =\n",
            "R[write to console]: =\n",
            "R[write to console]: =\n",
            "R[write to console]: =\n",
            "R[write to console]: =\n",
            "R[write to console]: =\n",
            "R[write to console]: =\n",
            "R[write to console]: =\n",
            "R[write to console]: =\n",
            "R[write to console]: =\n",
            "R[write to console]: \n",
            "\n",
            "R[write to console]: downloaded 9197 bytes\n",
            "\n",
            "\n",
            "R[write to console]: trying URL 'https://cran.rstudio.com/src/contrib/questionr_0.7.3.tar.gz'\n",
            "\n",
            "R[write to console]: Content type 'application/x-gzip'\n",
            "R[write to console]:  length 1754024 bytes (1.7 MB)\n",
            "\n",
            "R[write to console]: =\n",
            "R[write to console]: =\n",
            "R[write to console]: =\n",
            "R[write to console]: =\n",
            "R[write to console]: =\n",
            "R[write to console]: =\n",
            "R[write to console]: =\n",
            "R[write to console]: =\n",
            "R[write to console]: =\n",
            "R[write to console]: =\n",
            "R[write to console]: =\n",
            "R[write to console]: =\n",
            "R[write to console]: =\n",
            "R[write to console]: =\n",
            "R[write to console]: =\n",
            "R[write to console]: =\n",
            "R[write to console]: =\n",
            "R[write to console]: =\n",
            "R[write to console]: =\n",
            "R[write to console]: =\n",
            "R[write to console]: =\n",
            "R[write to console]: =\n",
            "R[write to console]: =\n",
            "R[write to console]: =\n",
            "R[write to console]: =\n",
            "R[write to console]: =\n",
            "R[write to console]: =\n",
            "R[write to console]: =\n",
            "R[write to console]: =\n",
            "R[write to console]: =\n",
            "R[write to console]: =\n",
            "R[write to console]: =\n",
            "R[write to console]: =\n",
            "R[write to console]: =\n",
            "R[write to console]: =\n",
            "R[write to console]: =\n",
            "R[write to console]: =\n",
            "R[write to console]: =\n",
            "R[write to console]: =\n",
            "R[write to console]: =\n",
            "R[write to console]: =\n",
            "R[write to console]: =\n",
            "R[write to console]: =\n",
            "R[write to console]: =\n",
            "R[write to console]: =\n",
            "R[write to console]: =\n",
            "R[write to console]: =\n",
            "R[write to console]: =\n",
            "R[write to console]: =\n",
            "R[write to console]: =\n",
            "R[write to console]: \n",
            "\n",
            "R[write to console]: downloaded 1.7 MB\n",
            "\n",
            "\n",
            "R[write to console]: trying URL 'https://cran.rstudio.com/src/contrib/klaR_0.6-15.tar.gz'\n",
            "\n",
            "R[write to console]: Content type 'application/x-gzip'\n",
            "R[write to console]:  length 294627 bytes (287 KB)\n",
            "\n",
            "R[write to console]: =\n",
            "R[write to console]: =\n",
            "R[write to console]: =\n",
            "R[write to console]: =\n",
            "R[write to console]: =\n",
            "R[write to console]: =\n",
            "R[write to console]: =\n",
            "R[write to console]: =\n",
            "R[write to console]: =\n",
            "R[write to console]: =\n",
            "R[write to console]: =\n",
            "R[write to console]: =\n",
            "R[write to console]: =\n",
            "R[write to console]: =\n",
            "R[write to console]: =\n",
            "R[write to console]: =\n",
            "R[write to console]: =\n",
            "R[write to console]: =\n",
            "R[write to console]: =\n",
            "R[write to console]: =\n",
            "R[write to console]: =\n",
            "R[write to console]: =\n",
            "R[write to console]: =\n",
            "R[write to console]: =\n",
            "R[write to console]: =\n",
            "R[write to console]: =\n",
            "R[write to console]: =\n",
            "R[write to console]: =\n",
            "R[write to console]: =\n",
            "R[write to console]: =\n",
            "R[write to console]: =\n",
            "R[write to console]: =\n",
            "R[write to console]: =\n",
            "R[write to console]: =\n",
            "R[write to console]: =\n",
            "R[write to console]: =\n",
            "R[write to console]: =\n",
            "R[write to console]: =\n",
            "R[write to console]: =\n",
            "R[write to console]: =\n",
            "R[write to console]: =\n",
            "R[write to console]: =\n",
            "R[write to console]: =\n",
            "R[write to console]: =\n",
            "R[write to console]: =\n",
            "R[write to console]: =\n",
            "R[write to console]: =\n",
            "R[write to console]: =\n",
            "R[write to console]: =\n",
            "R[write to console]: =\n",
            "R[write to console]: \n",
            "\n",
            "R[write to console]: downloaded 287 KB\n",
            "\n",
            "\n",
            "R[write to console]: \n",
            "\n",
            "R[write to console]: \n",
            "R[write to console]: The downloaded source packages are in\n",
            "\t‘/tmp/RtmpIMgrvk/downloaded_packages’\n",
            "R[write to console]: \n",
            "R[write to console]: \n",
            "\n",
            "R[write to console]: Loading required package: MASS\n",
            "\n",
            "R[write to console]: \n",
            "Attaching package: ‘MASS’\n",
            "\n",
            "\n",
            "R[write to console]: The following object is masked from ‘package:dplyr’:\n",
            "\n",
            "    select\n",
            "\n",
            "\n"
          ],
          "name": "stderr"
        }
      ]
    },
    {
      "cell_type": "code",
      "metadata": {
        "id": "ihnYMmPNghyb",
        "outputId": "6b321238-9a40-4f16-a666-165b457976cc",
        "colab": {
          "base_uri": "https://localhost:8080/"
        }
      },
      "source": [
        "%%R\n",
        "model = train(x,y,'nb',trControl=trainControl(method='cv',number=10))"
      ],
      "execution_count": 229,
      "outputs": [
        {
          "output_type": "stream",
          "text": [
            "R[write to console]: Error: wrong model type for regression\n",
            "\n"
          ],
          "name": "stderr"
        },
        {
          "output_type": "stream",
          "text": [
            "\n",
            "Error: wrong model type for regression\n"
          ],
          "name": "stdout"
        }
      ]
    },
    {
      "cell_type": "code",
      "metadata": {
        "id": "caOy8kcsgph3"
      },
      "source": [
        "# Predicting our testing set\n",
        "# \n",
        "%%R\n",
        "Predict <- predict(model,newdata = Test )"
      ],
      "execution_count": null,
      "outputs": []
    },
    {
      "cell_type": "code",
      "metadata": {
        "id": "fnHa-WZhgxkl"
      },
      "source": [
        "%%R\n",
        "confusionMatrix(Predict, testing$Clicked.on.Ad )"
      ],
      "execution_count": null,
      "outputs": []
    },
    {
      "cell_type": "markdown",
      "metadata": {
        "id": "C6WKQznWlQv8"
      },
      "source": [
        "# Observations"
      ]
    },
    {
      "cell_type": "markdown",
      "metadata": {
        "id": "cL9XuwzWyLef"
      },
      "source": [
        "The data was clean and complete i.e. contained no outliers and no missing values.\n",
        "\n",
        "The modal age was 31 years and the range was between 19 and 61.\n",
        "\n",
        "Most of the individuals spent around 62.26 Minutes on the site.The time ranged from 32.60 minutes to 91.43.\n",
        "\n",
        "The Average Area Income of the individuals was 55,000 which ranged between 13,996.5 and 79,484.80\n",
        "\n",
        "The Daily Internet Usage had an average of 180 Mbs and ranged between 104.78 and 269.96\n",
        "\n",
        "The most frequent cities were; Lake Faith and West Ryan\n",
        "\n",
        "The most frequent Countries were; Fiji and Chad.\n",
        "\n",
        "There were positive covariances between the following variables\n",
        "1.Area Income and Daily Time Spent on Site\n",
        "2.Age and Clicking on the Advert.\n",
        "3.Area Income and Daily Internet Usage.\n",
        "4.Area Income and Male\n",
        "5.Daily Internet Usage and Daily Time Spent on Site\n",
        "6.Male and Daily Internet Usage\n",
        "7.Clicked on Advert and Age\n",
        "\n",
        "The rest of the variables exhibit negative Covariances.\n",
        "\n",
        "The number of females was more than that of male counterparts.\n",
        "\n",
        "The number of individuals who clicked on the advert and those who didn't were equal at 500.\n",
        "\n",
        "\n",
        "There are negative correlations between the following variables\n",
        "1.Area Income and Daily Time Spent on Site\n",
        "2.Male and Daily Time Spent on Site\n",
        "3.Clicking on the Advert and Daily Time Spent on Site.\n",
        "4.Area Income and Age\n",
        "5.Daily Internet Usage and Age\n",
        "6.Male and Age\n",
        "7.Area Income and Age\n",
        "8.Area Income and Clicking on the Advert\n",
        "9.Daily Internet usage and Clicking on the advert.\n",
        "10.Male and Clicking on the Advert\n",
        "\n",
        "\n",
        "There were positive Correlations between the following variables:\n",
        "1.Age and Clicking on the advert\n",
        "2.Male and Daily Internet Usage\n",
        "3.Male and Area Income\n",
        "4.Daily Time Spent on Site and Daily Internet Usage.\n",
        "5.Area Income and Daily Time Spent on Site\n",
        "6.Area Income and Daily Internet Usage\n",
        "7.Area Income and Male\n",
        "8.Age and Clicking on the Advert.\n",
        "\n",
        "\n",
        "\n"
      ]
    },
    {
      "cell_type": "markdown",
      "metadata": {
        "id": "laryBhx5124T"
      },
      "source": [
        "# Conclusion\n",
        "Given the above background,we conclude that following characteristics would help identify an individual who would click on the ad:\n",
        "1. Daily Time Spent on Site-the higher the time the lower the chances of clicking.\n",
        "2.Age-The higher the Age the Higher the chances.\n",
        "3.Area Income-The lower the income the higher the chances.\n",
        "4.Daily Internet Usage-The lower the Internet Usage the higher the chances."
      ]
    },
    {
      "cell_type": "markdown",
      "metadata": {
        "id": "RafpelqX4uc0"
      },
      "source": [
        "# Recommendation\n",
        "It was hard to analyze the Ad Topic Line column as it had various different themes.In order to analyze this effectively,the major themes should be identified and used for coding the rest."
      ]
    }
  ]
}